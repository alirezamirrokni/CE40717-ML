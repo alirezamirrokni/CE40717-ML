{
  "cells": [
    {
      "cell_type": "markdown",
      "metadata": {
        "id": "havFsrqzlXPy"
      },
      "source": [
        "# Optimization Techniques on MNIST Dataset\n",
        "This notebook explores various optimization techniques for training neural networks on the MNIST dataset. The focus will be on different optimization strategies including Adaptive Learning Rates, SGD, Mini-Batch Gradient Descent, and Learning Rate Adjustments. Each section will provide a practical task related to these techniques."
      ]
    },
    {
      "cell_type": "code",
      "execution_count": 2,
      "metadata": {
        "id": "ywjE9LpmlXP1"
      },
      "outputs": [],
      "source": [
        "import tensorflow as tf\n",
        "import numpy as np\n",
        "import matplotlib.pyplot as plt\n",
        "\n",
        "# Load Fashion MNIST dataset\n",
        "(x_train, y_train), (x_test, y_test) = tf.keras.datasets.fashion_mnist.load_data()\n",
        "\n",
        "# Normalize data\n",
        "x_train, x_test = x_train / 255.0, x_test / 255.0\n",
        "\n",
        "# One-hot encode labels\n",
        "y_train = tf.keras.utils.to_categorical(y_train, 10)\n",
        "y_test = tf.keras.utils.to_categorical(y_test, 10)"
      ]
    },
    {
      "cell_type": "markdown",
      "metadata": {
        "id": "mS3VJKz-wBHG"
      },
      "source": [
        "## Adaptive Learning Rates"
      ]
    },
    {
      "cell_type": "markdown",
      "metadata": {
        "id": "4rNvoHEDlXP2"
      },
      "source": [
        "## Implementing a Simple Neural Network from Scratch"
      ]
    },
    {
      "cell_type": "markdown",
      "metadata": {
        "id": "8IMMs-s6lXP2"
      },
      "source": [
        "### Building the Network\n",
        "Define the architecture of a simple feedforward neural network with one hidden layer. You will need to manually initialize the weights and biases.\n",
        "\n",
        "**TODO:** Initialize Parameters\n",
        "Objective: Create a function to initialize weights and biases for all layers of the network.\n",
        "Instructions:\n",
        "- Initialize weights with small random values and biases with zeros.\n",
        "- Use numpy for creating arrays and operations.\n",
        "\n",
        "Hint: Use np.random.randn for weights and np.zeros for biases. Scale weights by 0.1."
      ]
    },
    {
      "cell_type": "code",
      "execution_count": 76,
      "metadata": {
        "id": "HEUr0figlXP3"
      },
      "outputs": [],
      "source": [
        "def initialize_parameters(input_size, hidden_size, output_size):\n",
        "    \"\"\"\n",
        "    Initialize weights and biases for a simple feedforward neural network.\n",
        "\n",
        "    Parameters:\n",
        "    - input_size: Number of input features.\n",
        "    - hidden_size: Number of neurons in the hidden layer.\n",
        "    - output_size: Number of output classes.\n",
        "\n",
        "    Returns:\n",
        "    - parameters: A dictionary containing weights and biases.\n",
        "    \"\"\"\n",
        "    parameters = {}\n",
        "\n",
        "    np.random.seed(42)\n",
        "\n",
        "    parameters['W1'] = np.random.randn(hidden_size, input_size) * 0.1\n",
        "    parameters['b1'] = np.zeros((hidden_size, 1))\n",
        "    parameters['W2'] = np.random.randn(output_size, hidden_size) * 0.1\n",
        "    parameters['b2'] = np.zeros((output_size, 1))\n",
        "\n",
        "    return parameters"
      ]
    },
    {
      "cell_type": "markdown",
      "metadata": {
        "id": "bDvfRCVq-74-"
      },
      "source": [
        "\n",
        "TODO: Define Activation Functions\n",
        "Objective: Implement commonly used activation functions.\n",
        "Instructions:\n",
        " - Define the ReLU and Sigmoid activation functions.\n",
        " - Ensure each function works with numpy arrays and supports both forward and derivative (gradient) computations.\n"
      ]
    },
    {
      "cell_type": "code",
      "execution_count": 4,
      "metadata": {
        "id": "qIBwOlH6_Jg4"
      },
      "outputs": [],
      "source": [
        "def relu(x):\n",
        "    \"\"\"\n",
        "    ReLU activation function.\n",
        "\n",
        "    Parameters:\n",
        "    - x: Input numpy array.\n",
        "\n",
        "    Returns:\n",
        "    - Output after applying ReLU.\n",
        "    \"\"\"\n",
        "    return np.maximum(0, x)\n",
        "\n",
        "def relu_derivative(x):\n",
        "    \"\"\"\n",
        "    Derivative of ReLU activation function.\n",
        "\n",
        "    Parameters:\n",
        "    - x: Input numpy array.\n",
        "\n",
        "    Returns:\n",
        "    - Derivative of ReLU.\n",
        "    \"\"\"\n",
        "    return np.where(x > 0, 1, 0)\n",
        "\n",
        "def sigmoid(x):\n",
        "    \"\"\"\n",
        "    Sigmoid activation function.\n",
        "\n",
        "    Parameters:\n",
        "    - x: Input numpy array.\n",
        "\n",
        "    Returns:\n",
        "    - Output after applying sigmoid.\n",
        "    \"\"\"\n",
        "    return 1 / (1 + np.exp(-x))\n",
        "\n",
        "def sigmoid_derivative(x):\n",
        "    \"\"\"\n",
        "    Derivative of sigmoid activation function.\n",
        "\n",
        "    Parameters:\n",
        "    - x: Input numpy array.\n",
        "\n",
        "    Returns:\n",
        "    - Derivative of sigmoid.\n",
        "    \"\"\"\n",
        "    s = sigmoid(x)\n",
        "    return s * (1 - s)"
      ]
    },
    {
      "cell_type": "markdown",
      "metadata": {
        "id": "h6HxkvToEDjr"
      },
      "source": [
        "TODO: Perform forward propagation through the network.\n",
        "\n",
        "    Parameters:\n",
        "    - X: Input data (shape: number of examples x input size).\n",
        "    - parameters: Dictionary containing weights and biases.\n",
        "\n",
        "    Returns:\n",
        "    - A2: Output of the network (after activation).\n",
        "    - cache: Dictionary containing intermediate values for backpropagation."
      ]
    },
    {
      "cell_type": "code",
      "execution_count": 20,
      "metadata": {
        "id": "4ylVbZoXECpn"
      },
      "outputs": [],
      "source": [
        "def forward_propagation(X, parameters):\n",
        "    \"\"\"\n",
        "    Perform forward propagation through the network.\n",
        "\n",
        "    Parameters:\n",
        "    - X: Input data (shape: number of examples x input size).\n",
        "    - parameters: Dictionary containing weights and biases.\n",
        "\n",
        "    Returns:\n",
        "    - A2: Output of the network (after activation).\n",
        "    - cache: Dictionary containing intermediate values for backpropagation.\n",
        "    \"\"\"\n",
        "    W1 = parameters['W1']\n",
        "    b1 = parameters['b1']\n",
        "    W2 = parameters['W2']\n",
        "    b2 = parameters['b2']\n",
        "\n",
        "    Z1 = np.dot(X, W1.T) + b1.T\n",
        "    A1 = relu(Z1)\n",
        "    Z2 = np.dot(A1, W2.T) + b2.T\n",
        "    A2 = sigmoid(Z2)\n",
        "\n",
        "    cache = {\n",
        "        'Z1': Z1,\n",
        "        'A1': A1,\n",
        "        'Z2': Z2,\n",
        "        'A2': A2\n",
        "    }\n",
        "\n",
        "    return A2, cache"
      ]
    },
    {
      "cell_type": "markdown",
      "metadata": {
        "id": "-KtURRNUC_NP"
      },
      "source": [
        "TODO: Implement the loss function. Compute the categorical cross-entropy loss.\n",
        "\n",
        "    Parameters:\n",
        "    - y_true: True labels (one-hot encoded).\n",
        "    - y_pred: Predicted probabilities (output of the network).\n",
        "\n",
        "    Returns:\n",
        "    - loss: Computed loss."
      ]
    },
    {
      "cell_type": "code",
      "execution_count": 17,
      "metadata": {
        "id": "advoE8kEC-vk"
      },
      "outputs": [],
      "source": [
        "def compute_loss(y_true, y_pred):\n",
        "    \"\"\"\n",
        "    Compute the categorical cross-entropy loss.\n",
        "\n",
        "    Parameters:\n",
        "    - y_true: True labels (one-hot encoded).\n",
        "    - y_pred: Predicted probabilities (output of the network).\n",
        "\n",
        "    Returns:\n",
        "    - loss: Computed loss.\n",
        "    \"\"\"\n",
        "    m = y_true.shape[0]\n",
        "\n",
        "    loss = -np.sum(y_true * np.log(y_pred + 1e-8)) / m\n",
        "    return loss"
      ]
    },
    {
      "cell_type": "markdown",
      "metadata": {
        "id": "s5V1D0jUDK3B"
      },
      "source": [
        "TODO: Implement backpropagation for the network and Perform backward propagation through the network.\n",
        "\n",
        "    Parameters:\n",
        "    - X: Input data.\n",
        "    - y_true: True labels.\n",
        "    - parameters: Dictionary containing weights and biases.\n",
        "    - cache: Intermediate values from forward propagation.\n",
        "\n",
        "    Returns:\n",
        "    - gradients: Dictionary containing gradients for weights and biases."
      ]
    },
    {
      "cell_type": "code",
      "execution_count": 9,
      "metadata": {
        "id": "4CxAo9FlBG18"
      },
      "outputs": [],
      "source": [
        "def backward_propagation(X, y_true, parameters, cache):\n",
        "    \"\"\"\n",
        "    Perform backward propagation through the network.\n",
        "\n",
        "    Parameters:\n",
        "    - X: Input data.\n",
        "    - y_true: True labels.\n",
        "    - parameters: Dictionary containing weights and biases.\n",
        "    - cache: Intermediate values from forward propagation.\n",
        "\n",
        "    Returns:\n",
        "    - gradients: Dictionary containing gradients for weights and biases.\n",
        "    \"\"\"\n",
        "    m = X.shape[0]\n",
        "\n",
        "    W1 = parameters['W1']\n",
        "    W2 = parameters['W2']\n",
        "    A1 = cache['A1']\n",
        "    A2 = cache['A2']\n",
        "    Z1 = cache['Z1']\n",
        "\n",
        "    dZ2 = A2 - y_true\n",
        "    dW2 = np.dot(dZ2.T, A1) / m\n",
        "    db2 = np.sum(dZ2, axis=0, keepdims=True).T / m\n",
        "    dA1 = np.dot(dZ2, W2)\n",
        "    dZ1 = dA1 * relu_derivative(Z1)\n",
        "    dW1 = np.dot(dZ1.T, X) / m\n",
        "    db1 = np.sum(dZ1, axis=0, keepdims=True).T / m\n",
        "\n",
        "    gradients = {\n",
        "        'dW1': dW1,\n",
        "        'db1': db1,\n",
        "        'dW2': dW2,\n",
        "        'db2': db2\n",
        "    }\n",
        "\n",
        "    return gradients"
      ]
    },
    {
      "cell_type": "markdown",
      "metadata": {
        "id": "LG2cvi3DDe4Q"
      },
      "source": [
        "TODO: Update the parameters using gradient descent.\n",
        "\n",
        "    Parameters:\n",
        "    - parameters: Current weights and biases.\n",
        "    - gradients: Calculated gradients.\n",
        "    - learning_rate: Learning rate for updates.\n",
        "\n",
        "    Returns:\n",
        "    - parameters: Updated weights and biases."
      ]
    },
    {
      "cell_type": "code",
      "execution_count": 28,
      "metadata": {
        "id": "9uMGXPGqDdk4"
      },
      "outputs": [],
      "source": [
        "def update_parameters(parameters, gradients, learning_rate=0.01):\n",
        "    \"\"\"\n",
        "    Update parameters using gradient descent.\n",
        "\n",
        "    Parameters:\n",
        "    - parameters: Current weights and biases.\n",
        "    - gradients: Calculated gradients.\n",
        "    - learning_rate: Learning rate for updates.\n",
        "\n",
        "    Returns:\n",
        "    - parameters: Updated weights and biases.\n",
        "    \"\"\"\n",
        "    parameters['W1'] -= learning_rate * gradients['dW1']\n",
        "    parameters['b1'] -= learning_rate * gradients['db1']\n",
        "    parameters['W2'] -= learning_rate * gradients['dW2']\n",
        "    parameters['b2'] -= learning_rate * gradients['db2']\n",
        "\n",
        "    return parameters"
      ]
    },
    {
      "cell_type": "markdown",
      "metadata": {
        "id": "5E4UZg1SD2bM"
      },
      "source": [
        "TODO: Train the model by changing the hidden layer size (such as [32, 64, 128]) and observe the impact on network performance during training.\n",
        "\n",
        "    Train the neural network model.\n",
        "\n",
        "    Parameters:\n",
        "    - X_train: Training data.\n",
        "    - y_train: One-hot encoded labels.\n",
        "    - hidden_size: Number of neurons in the hidden layer.\n",
        "    - epochs: Number of training epochs.\n",
        "    - learning_rate: Learning rate for optimization."
      ]
    },
    {
      "cell_type": "code",
      "execution_count": 87,
      "metadata": {
        "id": "GlsAvdUCDzSb"
      },
      "outputs": [],
      "source": [
        "# Training Loop\n",
        "def train_model(X_train, y_train, hidden_size, epochs=50, learning_rate=0.01):\n",
        "    \"\"\"\n",
        "    Train the neural network model.\n",
        "\n",
        "    Parameters:\n",
        "    - X_train: Training data.\n",
        "    - y_train: One-hot encoded labels.\n",
        "    - hidden_size: Number of neurons in the hidden layer.\n",
        "    - epochs: Number of training epochs.\n",
        "    - learning_rate: Learning rate for optimization.\n",
        "    \"\"\"\n",
        "    input_size = X_train.shape[1]\n",
        "    output_size = y_train.shape[1]\n",
        "\n",
        "    parameters = initialize_parameters(input_size, hidden_size, output_size)\n",
        "    losses = []\n",
        "\n",
        "    for epoch in range(epochs):\n",
        "        A2, cache = forward_propagation(X_train, parameters)\n",
        "\n",
        "        loss = compute_loss(y_train, A2)\n",
        "        losses.append(loss)\n",
        "\n",
        "        gradients = backward_propagation(X_train, y_train, parameters, cache)\n",
        "        parameters = update_parameters(parameters, gradients, learning_rate)\n",
        "\n",
        "        if epoch % 10 == 0:\n",
        "            print(f\"Epoch {epoch}, Loss: {loss:.4f}\")\n",
        "\n",
        "    return parameters, losses"
      ]
    },
    {
      "cell_type": "code",
      "source": [
        "hidden_sizes = [32, 64, 128]\n",
        "\n",
        "for hidden_size in hidden_sizes:\n",
        "  print(f'Training with hidden layer size: {hidden_size}')\n",
        "  train_model(x_train.reshape(x_train.shape[0], -1), y_train, hidden_size)\n",
        "  print()"
      ],
      "metadata": {
        "colab": {
          "base_uri": "https://localhost:8080/"
        },
        "id": "NGZlbXZPzImx",
        "outputId": "2000b457-3553-4ed9-f340-f8c1909c80bd"
      },
      "execution_count": 88,
      "outputs": [
        {
          "output_type": "stream",
          "name": "stdout",
          "text": [
            "Training with hidden layer size: 32\n",
            "Epoch 0, Loss: 0.7471\n",
            "Epoch 10, Loss: 1.2702\n",
            "Epoch 20, Loss: 1.7598\n",
            "Epoch 30, Loss: 1.9394\n",
            "Epoch 40, Loss: 1.9717\n",
            "\n",
            "Training with hidden layer size: 64\n",
            "Epoch 0, Loss: 0.7768\n",
            "Epoch 10, Loss: 1.6539\n",
            "Epoch 20, Loss: 1.8927\n",
            "Epoch 30, Loss: 1.9067\n",
            "Epoch 40, Loss: 1.8600\n",
            "\n",
            "Training with hidden layer size: 128\n",
            "Epoch 0, Loss: 0.7071\n",
            "Epoch 10, Loss: 1.7916\n",
            "Epoch 20, Loss: 1.8225\n",
            "Epoch 30, Loss: 1.7262\n",
            "Epoch 40, Loss: 1.6230\n",
            "\n"
          ]
        }
      ]
    },
    {
      "cell_type": "markdown",
      "metadata": {
        "id": "YuCNlJCHKf1S"
      },
      "source": [
        "TODO: Implement Adam Optimizer\n",
        "\n",
        "1. Initialize Parameters: Create variables to store the moment estimates (first and second) for each parameter.\n",
        "\n",
        "    Parameters:\n",
        "    - parameters: Dictionary containing weights and biases.\n",
        "\n",
        "    Returns:\n",
        "    - v: First moment vector (initialized to zeros).\n",
        "    - s: Second moment vector (initialized to zeros).\n",
        "    - t: Time step (initialized to 0).\n",
        "\n",
        "2. Update Rules: Implement the update rules based on the gradients, learning rate, and moment estimates.\n"
      ]
    },
    {
      "cell_type": "code",
      "execution_count": 89,
      "metadata": {
        "id": "Iqy1_rfsKP8b"
      },
      "outputs": [],
      "source": [
        "def initialize_adam(parameters):\n",
        "    \"\"\"\n",
        "    Initialize the Adam optimizer variables.\n",
        "\n",
        "    Parameters:\n",
        "    - parameters: Dictionary containing weights and biases.\n",
        "\n",
        "    Returns:\n",
        "    - v: First moment vector (initialized to zeros).\n",
        "    - s: Second moment vector (initialized to zeros).\n",
        "    - t: Time step (initialized to 0).\n",
        "    \"\"\"\n",
        "    v = {}\n",
        "    s = {}\n",
        "    t = 0\n",
        "\n",
        "    for key in parameters.keys():\n",
        "        v[key] = np.zeros_like(parameters[key])\n",
        "        s[key] = np.zeros_like(parameters[key])\n",
        "\n",
        "    return v, s, t\n",
        "\n",
        "def update_parameters_with_adam(parameters, gradients, v, s, t, learning_rate=0.001, beta1=0.9, beta2=0.999, epsilon=1e-8):\n",
        "    \"\"\"\n",
        "    Update parameters using the Adam optimizer.\n",
        "\n",
        "    Parameters:\n",
        "    - parameters: Current weights and biases.\n",
        "    - gradients: Calculated gradients.\n",
        "    - v: First moment vector.\n",
        "    - s: Second moment vector.\n",
        "    - t: Time step.\n",
        "    - learning_rate: Learning rate for updates.\n",
        "    - beta1: Exponential decay rate for the first moment estimates.\n",
        "    - beta2: Exponential decay rate for the second moment estimates.\n",
        "    - epsilon: Small constant for numerical stability.\n",
        "\n",
        "    Returns:\n",
        "    - parameters: Updated weights and biases.\n",
        "    - v: Updated first moment vector.\n",
        "    - s: Updated second moment vector.\n",
        "    - t: Updated time step.\n",
        "    \"\"\"\n",
        "    t += 1\n",
        "    v_corrected = {}\n",
        "    s_corrected = {}\n",
        "\n",
        "    for key in parameters.keys():\n",
        "        grad_key = 'd' + key\n",
        "\n",
        "        v[key] = beta1 * v[key] + (1 - beta1) * gradients[grad_key]\n",
        "        s[key] = beta2 * s[key] + (1 - beta2) * np.square(gradients[grad_key])\n",
        "\n",
        "        v_corrected[key] = v[key] / (1 - beta1 ** t)\n",
        "        s_corrected[key] = s[key] / (1 - beta2 ** t)\n",
        "\n",
        "        parameters[key] -= learning_rate * v_corrected[key] / (np.sqrt(s_corrected[key]) + epsilon)\n",
        "\n",
        "    return parameters, v, s, t"
      ]
    },
    {
      "cell_type": "markdown",
      "metadata": {
        "id": "-mU6NQXdLQd_"
      },
      "source": [
        "TODO: Implement Adam optimizer into the training loop."
      ]
    },
    {
      "cell_type": "code",
      "execution_count": 90,
      "metadata": {
        "id": "NMPqxphzKSv8"
      },
      "outputs": [],
      "source": [
        "def train_model_with_adam(X_train, y_train, hidden_size, epochs=50, learning_rate=0.001):\n",
        "    \"\"\"\n",
        "    Train the neural network model using Adam optimizer.\n",
        "\n",
        "    Parameters:\n",
        "    - X_train: Training data.\n",
        "    - y_train: One-hot encoded labels.\n",
        "    - hidden_size: Number of neurons in the hidden layer.\n",
        "    - epochs: Number of training epochs.\n",
        "    - learning_rate: Learning rate for optimization.\n",
        "    \"\"\"\n",
        "    input_size = X_train.shape[1]\n",
        "    output_size = y_train.shape[1]\n",
        "    parameters = initialize_parameters(input_size, hidden_size, output_size)\n",
        "\n",
        "    v, s, t = initialize_adam(parameters)\n",
        "    losses = []\n",
        "\n",
        "    for epoch in range(epochs):\n",
        "        A2, cache = forward_propagation(X_train, parameters)\n",
        "\n",
        "        loss = compute_loss(y_train, A2)\n",
        "        losses.append(loss)\n",
        "\n",
        "        gradients = backward_propagation(X_train, y_train, parameters, cache)\n",
        "        parameters, v, s, t = update_parameters_with_adam(\n",
        "            parameters, gradients, v, s, t, learning_rate\n",
        "        )\n",
        "\n",
        "        if epoch % 10 == 0:\n",
        "            print(f\"Epoch {epoch}, Loss: {loss:.4f}\")\n",
        "\n",
        "    return parameters, losses"
      ]
    },
    {
      "cell_type": "code",
      "source": [
        "for hidden_size in hidden_sizes:\n",
        "  print(f'Training with hidden layer size: {hidden_size}')\n",
        "  train_model_with_adam(x_train.reshape(x_train.shape[0], -1), y_train, hidden_size)\n",
        "  print()"
      ],
      "metadata": {
        "colab": {
          "base_uri": "https://localhost:8080/"
        },
        "id": "UOX74_i23W5b",
        "outputId": "8a2d0de8-1e60-4761-8cf3-35a8c7152a70"
      },
      "execution_count": 91,
      "outputs": [
        {
          "output_type": "stream",
          "name": "stdout",
          "text": [
            "Training with hidden layer size: 32\n",
            "Epoch 0, Loss: 0.7471\n",
            "Epoch 10, Loss: 1.3035\n",
            "Epoch 20, Loss: 2.0559\n",
            "Epoch 30, Loss: 1.8968\n",
            "Epoch 40, Loss: 1.4999\n",
            "\n",
            "Training with hidden layer size: 64\n",
            "Epoch 0, Loss: 0.7768\n",
            "Epoch 10, Loss: 1.7646\n",
            "Epoch 20, Loss: 1.8278\n",
            "Epoch 30, Loss: 1.2071\n",
            "Epoch 40, Loss: 1.0144\n",
            "\n",
            "Training with hidden layer size: 128\n",
            "Epoch 0, Loss: 0.7071\n",
            "Epoch 10, Loss: 2.1227\n",
            "Epoch 20, Loss: 1.1574\n",
            "Epoch 30, Loss: 0.9296\n",
            "Epoch 40, Loss: 0.8694\n",
            "\n"
          ]
        }
      ]
    },
    {
      "cell_type": "markdown",
      "metadata": {
        "id": "fEZVkGGplXP4"
      },
      "source": [
        "### Compare Adam and RMSprop\n"
      ]
    },
    {
      "cell_type": "markdown",
      "metadata": {
        "id": "7BxQoqf8ak2k"
      },
      "source": [
        "TODO: First, implement the RMSprop optimizer. The RMSprop optimizer uses a moving average of squared gradients to normalize the gradient, which helps to stabilize the updates."
      ]
    },
    {
      "cell_type": "code",
      "execution_count": 92,
      "metadata": {
        "id": "117xMpE6avQ2"
      },
      "outputs": [],
      "source": [
        "def initialize_rmsprop(parameters):\n",
        "    \"\"\"\n",
        "    Initialize the RMSprop variables.\n",
        "\n",
        "    Parameters:\n",
        "    - parameters: Dictionary containing weights and biases.\n",
        "\n",
        "    Returns:\n",
        "    - s: Second moment vector (initialized to zeros).\n",
        "    \"\"\"\n",
        "    s = {}\n",
        "\n",
        "    for key in parameters.keys():\n",
        "        s[key] = np.zeros_like(parameters[key])\n",
        "\n",
        "    return s\n",
        "\n",
        "def update_parameters_with_rmsprop(parameters, gradients, s, learning_rate=0.001, beta=0.9, epsilon=1e-8):\n",
        "    \"\"\"\n",
        "    Update parameters using the RMSprop optimizer.\n",
        "\n",
        "    Parameters:\n",
        "    - parameters: Current weights and biases.\n",
        "    - gradients: Calculated gradients.\n",
        "    - s: Second moment vector.\n",
        "    - learning_rate: Learning rate for updates.\n",
        "    - beta: Exponential decay rate for the second moment estimates.\n",
        "    - epsilon: Small constant for numerical stability.\n",
        "\n",
        "    Returns:\n",
        "    - parameters: Updated weights and biases.\n",
        "    - s: Updated second moment vector.\n",
        "    \"\"\"\n",
        "    for key in parameters.keys():\n",
        "        grad_key = 'd' + key\n",
        "        s[key] = beta * s[key] + (1 - beta) * np.square(gradients[grad_key])\n",
        "        parameters[key] -= learning_rate * gradients[grad_key] / (np.sqrt(s[key]) + epsilon)\n",
        "\n",
        "    return parameters, s"
      ]
    },
    {
      "cell_type": "markdown",
      "metadata": {
        "id": "GWJg1GjFayY2"
      },
      "source": [
        "TODO: Modify the training loop to allow for both optimizers and store the loss history for comparison."
      ]
    },
    {
      "cell_type": "code",
      "execution_count": 93,
      "metadata": {
        "id": "iwcuRTkja5pT"
      },
      "outputs": [],
      "source": [
        "def train_model(X_train, y_train, hidden_size, epochs=50, learning_rate=0.001, optimizer='adam'):\n",
        "    \"\"\"\n",
        "    Train the neural network model using specified optimizer.\n",
        "\n",
        "    Parameters:\n",
        "    - X_train: Training data.\n",
        "    - y_train: One-hot encoded labels.\n",
        "    - hidden_size: Number of neurons in the hidden layer.\n",
        "    - epochs: Number of training epochs.\n",
        "    - learning_rate: Learning rate for optimization.\n",
        "    - optimizer: The optimizer to use ('adam' or 'rmsprop').\n",
        "\n",
        "    Returns:\n",
        "    - loss_history: List of loss values over epochs.\n",
        "    \"\"\"\n",
        "    input_size = X_train.shape[1]\n",
        "    output_size = y_train.shape[1]\n",
        "\n",
        "    parameters = initialize_parameters(input_size, hidden_size, output_size)\n",
        "    loss_history = []\n",
        "\n",
        "    if optimizer == 'adam':\n",
        "        v, s, t = initialize_adam(parameters)\n",
        "    elif optimizer == 'rmsprop':\n",
        "        s = initialize_rmsprop(parameters)\n",
        "    else:\n",
        "        raise ValueError(\"Unsupported optimizer. Choose 'adam' or 'rmsprop'.\")\n",
        "\n",
        "    for epoch in range(epochs):\n",
        "        A2, cache = forward_propagation(X_train, parameters)\n",
        "        loss = compute_loss(y_train, A2)\n",
        "        loss_history.append(loss)\n",
        "        gradients = backward_propagation(X_train, y_train, parameters, cache)\n",
        "\n",
        "        if optimizer == 'adam':\n",
        "            parameters, v, s, t = update_parameters_with_adam(\n",
        "                parameters, gradients, v, s, t, learning_rate\n",
        "            )\n",
        "        elif optimizer == 'rmsprop':\n",
        "            parameters, s = update_parameters_with_rmsprop(\n",
        "                parameters, gradients, s, learning_rate\n",
        "            )\n",
        "\n",
        "        if epoch % 10 == 0:\n",
        "            print(f\"Epoch {epoch}, Loss ({optimizer}): {loss:.4f}\")\n",
        "\n",
        "    return loss_history"
      ]
    },
    {
      "cell_type": "markdown",
      "metadata": {
        "id": "g5cPzN1ma9Xi"
      },
      "source": [
        "TODO:  Compare Both Optimizers. Create a function to train the model using both optimizers and plot the loss histories for comparison."
      ]
    },
    {
      "cell_type": "code",
      "execution_count": 102,
      "metadata": {
        "id": "-z5eRURgbDIG"
      },
      "outputs": [],
      "source": [
        "def compare_optimizers(X_train, y_train, hidden_size, epochs=50):\n",
        "    \"\"\"\n",
        "    Compare the Adam and RMSprop optimizers.\n",
        "\n",
        "    Parameters:\n",
        "    - X_train: Training data.\n",
        "    - y_train: One-hot encoded labels.\n",
        "    - hidden_size: Number of neurons in the hidden layer.\n",
        "    - epochs: Number of training epochs.\n",
        "    \"\"\"\n",
        "    print('Training with Adam optimizer...')\n",
        "\n",
        "    loss_history_adam = train_model(\n",
        "        X_train, y_train, hidden_size=hidden_size, epochs=epochs, learning_rate=0.001, optimizer='adam'\n",
        "    )\n",
        "\n",
        "    print('\\nTraining with RMSprop optimizer...')\n",
        "\n",
        "    loss_history_rmsprop = train_model(\n",
        "        X_train, y_train, hidden_size=hidden_size, epochs=epochs, learning_rate=0.001, optimizer='rmsprop'\n",
        "    )\n",
        "\n",
        "    print()\n",
        "\n",
        "    plt.figure(figsize=(10, 6))\n",
        "    plt.plot(loss_history_adam, label='Adam Loss')\n",
        "    plt.plot(loss_history_rmsprop, label='RMSprop Loss')\n",
        "    plt.xlabel('Epochs')\n",
        "    plt.ylabel('Loss')\n",
        "    plt.title('Loss Comparison between Adam and RMSprop')\n",
        "    plt.legend()\n",
        "    plt.grid(True)\n",
        "    plt.show()"
      ]
    },
    {
      "cell_type": "code",
      "source": [
        "compare_optimizers(x_train.reshape((x_train.shape[0], -1)), y_train, 64)"
      ],
      "metadata": {
        "colab": {
          "base_uri": "https://localhost:8080/",
          "height": 814
        },
        "id": "CeFgbBqJ5sly",
        "outputId": "ae9aa3e2-1aa5-4e75-8440-a35283e755cd"
      },
      "execution_count": 95,
      "outputs": [
        {
          "output_type": "stream",
          "name": "stdout",
          "text": [
            "Training with Adam optimizer...\n",
            "Epoch 0, Loss (adam): 0.7768\n",
            "Epoch 10, Loss (adam): 1.7646\n",
            "Epoch 20, Loss (adam): 1.8278\n",
            "Epoch 30, Loss (adam): 1.2071\n",
            "Epoch 40, Loss (adam): 1.0144\n",
            "\n",
            "Training with RMSprop optimizer...\n",
            "Epoch 0, Loss (rmsprop): 0.7768\n",
            "Epoch 10, Loss (rmsprop): 1.3754\n",
            "Epoch 20, Loss (rmsprop): 1.0608\n",
            "Epoch 30, Loss (rmsprop): 0.8799\n",
            "Epoch 40, Loss (rmsprop): 0.7789\n",
            "\n"
          ]
        },
        {
          "output_type": "display_data",
          "data": {
            "text/plain": [
              "<Figure size 1000x600 with 1 Axes>"
            ],
            "image/png": "[encoded data removed]"
          },
          "metadata": {}
        }
      ]
    },
    {
      "cell_type": "markdown",
      "metadata": {
        "id": "pueHFmTUlXP5"
      },
      "source": [
        "## Stochastic Gradient Descent (SGD)"
      ]
    },
    {
      "cell_type": "markdown",
      "metadata": {
        "id": "3zrSW4LilXP5"
      },
      "source": [
        "### Impact of Different Learning Rates on SGD\n"
      ]
    },
    {
      "cell_type": "markdown",
      "metadata": {
        "id": "BU9BiBsKcWjb"
      },
      "source": [
        "Explore the impact of different learning rates on the training dynamics and performance of Stochastic Gradient Descent (SGD). This will allow us to observe how the learning rate affects convergence speed, stability, and final performance.\n",
        "\n",
        "Steps for Implementing the Experiment\n",
        "\n",
        "1. Define the SGD Optimizer: Implement a simple SGD optimizer.\n",
        "2. Modify the Training Loop: Allow for different learning rates.\n",
        "3. Train the Model: Run the training process with a set of predefined learning rates.\n",
        "4. Visualize the Results: Plot the loss curves for each learning rate to compare their effects"
      ]
    },
    {
      "cell_type": "markdown",
      "metadata": {
        "id": "vDRSuNVrcvVI"
      },
      "source": [
        "1. Implement SGD Optimizer\n"
      ]
    },
    {
      "cell_type": "code",
      "execution_count": 96,
      "metadata": {
        "id": "r9UE2OHfcwCe"
      },
      "outputs": [],
      "source": [
        "def update_parameters_with_sgd(parameters, gradients, learning_rate=0.01):\n",
        "    \"\"\"\n",
        "    Update parameters using Stochastic Gradient Descent (SGD).\n",
        "\n",
        "    Parameters:\n",
        "    - parameters: Current weights and biases.\n",
        "    - gradients: Calculated gradients.\n",
        "    - learning_rate: Learning rate for updates.\n",
        "\n",
        "    Returns:\n",
        "    - parameters: Updated weights and biases.\n",
        "    \"\"\"\n",
        "    for key in parameters.keys():\n",
        "        grad_key = 'd' + key\n",
        "        parameters[key] -= learning_rate * gradients[grad_key]\n",
        "\n",
        "    return parameters"
      ]
    },
    {
      "cell_type": "markdown",
      "metadata": {
        "id": "O4qIjyg9cyXB"
      },
      "source": [
        "2. Modify the Training Loop\n"
      ]
    },
    {
      "cell_type": "code",
      "execution_count": 97,
      "metadata": {
        "id": "U1gKM56IdBH-"
      },
      "outputs": [],
      "source": [
        "def train_model_with_sgd(X_train, y_train, hidden_size, epochs=50, learning_rate=0.01):\n",
        "    \"\"\"\n",
        "    Train the neural network model using SGD optimizer.\n",
        "\n",
        "    Parameters:\n",
        "    - X_train: Training data.\n",
        "    - y_train: One-hot encoded labels.\n",
        "    - hidden_size: Number of neurons in the hidden layer.\n",
        "    - epochs: Number of training epochs.\n",
        "    - learning_rate: Learning rate for optimization.\n",
        "\n",
        "    Returns:\n",
        "    - loss_history: List of loss values over epochs.\n",
        "    \"\"\"\n",
        "    input_size = X_train.shape[1]\n",
        "    output_size = y_train.shape[1]\n",
        "\n",
        "    parameters = initialize_parameters(input_size, hidden_size, output_size)\n",
        "    loss_history = []\n",
        "\n",
        "    for epoch in range(epochs):\n",
        "        A2, cache = forward_propagation(X_train, parameters)\n",
        "\n",
        "        loss = compute_loss(y_train, A2)\n",
        "        loss_history.append(loss)\n",
        "\n",
        "        gradients = backward_propagation(X_train, y_train, parameters, cache)\n",
        "        parameters = update_parameters_with_sgd(parameters, gradients, learning_rate)\n",
        "\n",
        "        if epoch % 10 == 0:\n",
        "            print(f\"Epoch {epoch}, Loss (learning rate {learning_rate}): {loss:.4f}\")\n",
        "\n",
        "    return loss_history"
      ]
    },
    {
      "cell_type": "markdown",
      "metadata": {
        "id": "CeQpjFQHdD4v"
      },
      "source": [
        "3. Experiment with Different Learning Rates\n"
      ]
    },
    {
      "cell_type": "code",
      "execution_count": 98,
      "metadata": {
        "id": "FvFIXxFRdGDv"
      },
      "outputs": [],
      "source": [
        "def compare_learning_rates(X_train, y_train, hidden_size, epochs=50, learning_rates=[0.001, 0.01, 0.1]):\n",
        "    \"\"\"\n",
        "    Compare the performance of SGD with different learning rates.\n",
        "\n",
        "    Parameters:\n",
        "    - X_train: Training data.\n",
        "    - y_train: One-hot encoded labels.\n",
        "    - hidden_size: Number of neurons in the hidden layer.\n",
        "    - epochs: Number of training epochs.\n",
        "    - learning_rates: List of learning rates to test.\n",
        "    \"\"\"\n",
        "    loss_histories = {}\n",
        "\n",
        "    for lr in learning_rates:\n",
        "        print(f\"Training with learning rate: {lr}\")\n",
        "\n",
        "        loss_history = train_model_with_sgd(\n",
        "            X_train, y_train, hidden_size=hidden_size, epochs=epochs, learning_rate=lr\n",
        "        )\n",
        "        loss_histories[lr] = loss_history\n",
        "\n",
        "        print()\n",
        "\n",
        "    plt.figure(figsize=(10, 6))\n",
        "    for lr in learning_rates:\n",
        "        plt.plot(loss_histories[lr], label=f'Learning Rate={lr}')\n",
        "    plt.xlabel('Epochs')\n",
        "    plt.ylabel('Loss')\n",
        "    plt.title('Loss Comparison for Different Learning Rates (SGD)')\n",
        "    plt.legend()\n",
        "    plt.grid(True)\n",
        "    plt.show()\n"
      ]
    },
    {
      "cell_type": "code",
      "source": [
        "compare_learning_rates(x_train.reshape((x_train.shape[0], -1)), y_train, 64)"
      ],
      "metadata": {
        "colab": {
          "base_uri": "https://localhost:8080/",
          "height": 939
        },
        "id": "017wbeVZ-Dr6",
        "outputId": "ce01f245-fa44-46df-e4de-f7a2f00580a1"
      },
      "execution_count": 99,
      "outputs": [
        {
          "output_type": "stream",
          "name": "stdout",
          "text": [
            "Training with learning rate: 0.001\n",
            "Epoch 0, Loss (learning rate 0.001): 0.7768\n",
            "Epoch 10, Loss (learning rate 0.001): 0.8954\n",
            "Epoch 20, Loss (learning rate 0.001): 1.0068\n",
            "Epoch 30, Loss (learning rate 0.001): 1.1110\n",
            "Epoch 40, Loss (learning rate 0.001): 1.2076\n",
            "\n",
            "Training with learning rate: 0.01\n",
            "Epoch 0, Loss (learning rate 0.01): 0.7768\n",
            "Epoch 10, Loss (learning rate 0.01): 1.6539\n",
            "Epoch 20, Loss (learning rate 0.01): 1.8927\n",
            "Epoch 30, Loss (learning rate 0.01): 1.9067\n",
            "Epoch 40, Loss (learning rate 0.01): 1.8600\n",
            "\n",
            "Training with learning rate: 0.1\n",
            "Epoch 0, Loss (learning rate 0.1): 0.7768\n",
            "Epoch 10, Loss (learning rate 0.1): 1.5460\n",
            "Epoch 20, Loss (learning rate 0.1): 1.1990\n",
            "Epoch 30, Loss (learning rate 0.1): 1.0429\n",
            "Epoch 40, Loss (learning rate 0.1): 0.9527\n",
            "\n"
          ]
        },
        {
          "output_type": "display_data",
          "data": {
            "text/plain": [
              "<Figure size 1000x600 with 1 Axes>"
            ],
            "image/png": "[encoded data removed]"
          },
          "metadata": {}
        }
      ]
    },
    {
      "cell_type": "markdown",
      "metadata": {
        "id": "IXxuYU7llXP6"
      },
      "source": [
        "### SGD with Momentum vs. Classic SGD\n"
      ]
    },
    {
      "cell_type": "markdown",
      "metadata": {
        "id": "R8dcD51aepnC"
      },
      "source": [
        "TODO: Compare Stochastic Gradient Descent (SGD) with momentum and classic SGD, you can set up an experiment that trains the same model using both methods. This will help you observe differences in convergence speed and stability.\n",
        "\n",
        "Steps for Implementing the Comparison:\n",
        "\n",
        "1. Implement Classic SGD: Ensure you have a basic SGD implementation.(already implemented in the previous cells)\n",
        "\n",
        "2. Implement SGD with Momentum: Add a momentum version of the SGD optimizer.\n",
        "\n",
        "3. Modify the Training Loop: Allow for both optimizers in the training process.\n",
        "\n",
        "4. Train the Model: Run the training process using both optimizers.\n",
        "\n",
        "5. Visualize the Results: Plot the loss curves for each optimizer to compare their performance."
      ]
    },
    {
      "cell_type": "markdown",
      "metadata": {
        "id": "9-czqAXNe_nQ"
      },
      "source": [
        "2. Implement SGD with Momentum\n"
      ]
    },
    {
      "cell_type": "code",
      "execution_count": 107,
      "metadata": {
        "id": "8uzLkhWcfB6a"
      },
      "outputs": [],
      "source": [
        "def initialize_momentum(parameters):\n",
        "    \"\"\"\n",
        "    Initialize the momentum variables.\n",
        "\n",
        "    Parameters:\n",
        "    - parameters: Dictionary containing weights and biases.\n",
        "\n",
        "    Returns:\n",
        "    - v: Momentum variable (initialized to zeros).\n",
        "    \"\"\"\n",
        "    v = {}\n",
        "\n",
        "    for key in parameters.keys():\n",
        "        v[key] = np.zeros_like(parameters[key])\n",
        "\n",
        "    return v\n",
        "\n",
        "def update_parameters_with_momentum(parameters, gradients, v, learning_rate=0.01, beta=0.9):\n",
        "    \"\"\"\n",
        "    Update parameters using SGD with momentum.\n",
        "\n",
        "    Parameters:\n",
        "    - parameters: Current weights and biases.\n",
        "    - gradients: Calculated gradients.\n",
        "    - v: Momentum variable.\n",
        "    - learning_rate: Learning rate for updates.\n",
        "    - beta: Exponential decay rate for momentum.\n",
        "\n",
        "    Returns:\n",
        "    - parameters: Updated weights and biases.\n",
        "    - v: Updated momentum variable.\n",
        "    \"\"\"\n",
        "    for key in parameters.keys():\n",
        "        grad_key = 'd' + key\n",
        "        v[key] = beta * v[key] + (1 - beta) * gradients[grad_key]\n",
        "        parameters[key] -= learning_rate * v[key]\n",
        "\n",
        "    return parameters, v"
      ]
    },
    {
      "cell_type": "markdown",
      "metadata": {
        "id": "k_DvOLijfIFK"
      },
      "source": [
        "3. Modify the Training Loop\n"
      ]
    },
    {
      "cell_type": "code",
      "execution_count": 115,
      "metadata": {
        "id": "uz3jxDtCfIuA"
      },
      "outputs": [],
      "source": [
        "def train_model(X_train, y_train, hidden_size, epochs=50, learning_rate=0.01, optimizer='sgd'):\n",
        "    \"\"\"\n",
        "    Train the neural network model using specified optimizer.\n",
        "\n",
        "    Parameters:\n",
        "    - X_train: Training data.\n",
        "    - y_train: One-hot encoded labels.\n",
        "    - hidden_size: Number of neurons in the hidden layer.\n",
        "    - epochs: Number of training epochs.\n",
        "    - learning_rate: Learning rate for optimization.\n",
        "    - optimizer: The optimizer to use ('sgd' or 'momentum').\n",
        "\n",
        "    Returns:\n",
        "    - loss_history: List of loss values over epochs.\n",
        "    \"\"\"\n",
        "    input_size = X_train.shape[1]\n",
        "    output_size = y_train.shape[1]\n",
        "    parameters = initialize_parameters(input_size, hidden_size, output_size)\n",
        "    loss_history = []\n",
        "\n",
        "    if optimizer == 'momentum':\n",
        "        v = initialize_momentum(parameters)\n",
        "    elif optimizer == 'sgd':\n",
        "        pass\n",
        "    else:\n",
        "        raise ValueError(\"Unsupported optimizer. Choose 'sgd' or 'momentum'.\")\n",
        "\n",
        "    for epoch in range(epochs):\n",
        "        A2, cache = forward_propagation(X_train, parameters)\n",
        "\n",
        "        loss = compute_loss(y_train, A2)\n",
        "        loss_history.append(loss)\n",
        "\n",
        "        gradients = backward_propagation(X_train, y_train, parameters, cache)\n",
        "\n",
        "        if optimizer == 'sgd':\n",
        "            parameters = update_parameters_with_sgd(parameters, gradients, learning_rate)\n",
        "        elif optimizer == 'momentum':\n",
        "            parameters, v = update_parameters_with_momentum(\n",
        "                parameters, gradients, v, learning_rate\n",
        "            )\n",
        "\n",
        "        if epoch % 10 == 0:\n",
        "            print(f\"Epoch {epoch}, Loss ({optimizer}): {loss:.4f}\")\n",
        "\n",
        "    return loss_history"
      ]
    },
    {
      "cell_type": "markdown",
      "metadata": {
        "id": "wVbv6XeYfLbf"
      },
      "source": [
        "4. Train the Model with Both Optimizers\n"
      ]
    },
    {
      "cell_type": "code",
      "execution_count": 118,
      "metadata": {
        "id": "0zEcNXJGfOTf"
      },
      "outputs": [],
      "source": [
        "def compare_sgd_and_momentum(X_train, y_train, hidden_size, epochs=50):\n",
        "    \"\"\"\n",
        "    Compare the performance of classic SGD and SGD with momentum.\n",
        "\n",
        "    Parameters:\n",
        "    - X_train: Training data.\n",
        "    - y_train: One-hot encoded labels.\n",
        "    - hidden_size: Number of neurons in the hidden layer.\n",
        "    - epochs: Number of training epochs.\n",
        "    \"\"\"\n",
        "    print(\"Training with classic SGD optimizer...\")\n",
        "\n",
        "    loss_history_sgd = train_model(\n",
        "        X_train, y_train, hidden_size, epochs=epochs, learning_rate=0.01, optimizer='sgd'\n",
        "    )\n",
        "\n",
        "    print(\"\\nTraining with SGD with Momentum optimizer...\")\n",
        "\n",
        "    loss_history_momentum = train_model(\n",
        "        X_train, y_train, hidden_size, epochs=epochs, learning_rate=0.01, optimizer='momentum'\n",
        "    )\n",
        "\n",
        "    print()\n",
        "\n",
        "    plt.figure(figsize=(10, 6))\n",
        "    plt.plot(loss_history_sgd, label='Classic SGD Loss')\n",
        "    plt.plot(loss_history_momentum, label='SGD with Momentum Loss')\n",
        "    plt.xlabel('Epochs')\n",
        "    plt.ylabel('Loss')\n",
        "    plt.title('Loss Comparison: Classic SGD vs. SGD with Momentum')\n",
        "    plt.legend()\n",
        "    plt.grid(True)\n",
        "    plt.show()"
      ]
    },
    {
      "cell_type": "code",
      "source": [
        "compare_sgd_and_momentum(x_train.reshape((x_train.shape[0], -1)), y_train, 64)"
      ],
      "metadata": {
        "colab": {
          "base_uri": "https://localhost:8080/",
          "height": 814
        },
        "id": "ZvCJtIKKGQma",
        "outputId": "1e22086c-37c2-4601-f8ec-8fa31714eebe"
      },
      "execution_count": 117,
      "outputs": [
        {
          "output_type": "stream",
          "name": "stdout",
          "text": [
            "Training with classic SGD optimizer...\n",
            "Epoch 0, Loss (sgd): 0.7768\n",
            "Epoch 10, Loss (sgd): 1.6539\n",
            "Epoch 20, Loss (sgd): 1.8927\n",
            "Epoch 30, Loss (sgd): 1.9067\n",
            "Epoch 40, Loss (sgd): 1.8600\n",
            "\n",
            "Training with SGD with Momentum optimizer...\n",
            "Epoch 0, Loss (momentum): 0.7768\n",
            "Epoch 10, Loss (momentum): 1.3090\n",
            "Epoch 20, Loss (momentum): 2.1352\n",
            "Epoch 30, Loss (momentum): 2.4070\n",
            "Epoch 40, Loss (momentum): 2.1962\n",
            "\n"
          ]
        },
        {
          "output_type": "display_data",
          "data": {
            "text/plain": [
              "<Figure size 1000x600 with 1 Axes>"
            ],
            "image/png": "[encoded data removed]"
          },
          "metadata": {}
        }
      ]
    },
    {
      "cell_type": "markdown",
      "metadata": {
        "id": "OhaXIjuClXP6"
      },
      "source": [
        "## Mini-Batch Gradient Descent"
      ]
    },
    {
      "cell_type": "markdown",
      "metadata": {
        "id": "wpBVHm6elXP6"
      },
      "source": [
        "### Mini-Batch Size Optimization"
      ]
    },
    {
      "cell_type": "markdown",
      "metadata": {
        "id": "rUDwKXOAgc2h"
      },
      "source": [
        "TODO: Investigate how different mini-batch sizes affect model performance, you can set up an experiment where you train the same model using various mini-batch sizes.\n",
        "\n",
        "Steps for Implementing the Mini-Batch Size Experiment\n",
        "\n",
        "1. Modify the Training Loop: Update the training loop to use mini-batches.\n",
        "2. Train the Model: Run the training process with a set of predefined mini-batch sizes.\n",
        "3. Evaluate Performance: Track training time and accuracy for each mini-batch size.\n",
        "4. Print the training losses and accuracies for comparison."
      ]
    },
    {
      "cell_type": "markdown",
      "metadata": {
        "id": "sz2dJu_PgvJH"
      },
      "source": [
        "1. Modify the Training Loop for Mini-Batches\n"
      ]
    },
    {
      "cell_type": "code",
      "execution_count": 119,
      "metadata": {
        "id": "2eBWqUKwgqqN"
      },
      "outputs": [],
      "source": [
        "def train_model_with_mini_batches(X_train, y_train, hidden_size, epochs=50, learning_rate=0.01, batch_size=32):\n",
        "    \"\"\"\n",
        "    Train the neural network model using mini-batches.\n",
        "\n",
        "    Parameters:\n",
        "    - X_train: Training data.\n",
        "    - y_train: One-hot encoded labels.\n",
        "    - hidden_size: Number of neurons in the hidden layer.\n",
        "    - epochs: Number of training epochs.\n",
        "    - learning_rate: Learning rate for optimization.\n",
        "    - batch_size: Size of mini-batches.\n",
        "\n",
        "    Returns:\n",
        "    - loss_history: List of loss values over epochs.\n",
        "    - accuracy_history: List of accuracy values over epochs.\n",
        "    \"\"\"\n",
        "    input_size = X_train.shape[1]\n",
        "    output_size = y_train.shape[1]\n",
        "\n",
        "    parameters = initialize_parameters(input_size, hidden_size, output_size)\n",
        "    loss_history = []\n",
        "\n",
        "    accuracy_history = []\n",
        "    m = X_train.shape[0]\n",
        "\n",
        "    for epoch in range(epochs):\n",
        "        permutation = np.random.permutation(m)\n",
        "        X_shuffled = X_train[permutation]\n",
        "        y_shuffled = y_train[permutation]\n",
        "\n",
        "        epoch_loss = 0\n",
        "        epoch_correct = 0\n",
        "\n",
        "        for i in range(0, m, batch_size):\n",
        "            X_batch = X_shuffled[i:i+batch_size]\n",
        "            y_batch = y_shuffled[i:i+batch_size]\n",
        "\n",
        "            A2, cache = forward_propagation(X_batch, parameters)\n",
        "\n",
        "            batch_loss = compute_loss(y_batch, A2)\n",
        "            epoch_loss += batch_loss * X_batch.shape[0]\n",
        "\n",
        "            predictions = np.argmax(A2, axis=1)\n",
        "            labels = np.argmax(y_batch, axis=1)\n",
        "            batch_correct = np.sum(predictions == labels)\n",
        "            epoch_correct += batch_correct\n",
        "\n",
        "            gradients = backward_propagation(X_batch, y_batch, parameters, cache)\n",
        "\n",
        "            parameters = update_parameters_with_sgd(parameters, gradients, learning_rate)\n",
        "\n",
        "        epoch_loss /= m\n",
        "        epoch_accuracy = epoch_correct / m\n",
        "\n",
        "        loss_history.append(epoch_loss)\n",
        "        accuracy_history.append(epoch_accuracy)\n",
        "\n",
        "        if epoch % 10 == 0:\n",
        "            print(f\"Epoch {epoch}, Loss: {epoch_loss:.4f}, Accuracy: {epoch_accuracy:.4f}\")\n",
        "\n",
        "    return loss_history, accuracy_history"
      ]
    },
    {
      "cell_type": "markdown",
      "metadata": {
        "id": "ja1aWHjwgwMl"
      },
      "source": [
        "2. Train the Model with Different Mini-Batch Sizes\n"
      ]
    },
    {
      "cell_type": "code",
      "execution_count": 121,
      "metadata": {
        "id": "R7vvj-y_is_k"
      },
      "outputs": [],
      "source": [
        "def compare_mini_batch_sizes(X_train, y_train, hidden_size, epochs=50, batch_sizes=[16, 32, 64]):\n",
        "    \"\"\"\n",
        "    Compare the performance of different mini-batch sizes and print results.\n",
        "\n",
        "    Parameters:\n",
        "    - X_train: Training data.\n",
        "    - y_train: One-hot encoded labels.\n",
        "    - hidden_size: Number of neurons in the hidden layer.\n",
        "    - epochs: Number of training epochs.\n",
        "    - batch_sizes: List of mini-batch sizes to test.\n",
        "    \"\"\"\n",
        "    for batch_size in batch_sizes:\n",
        "        print(f\"Training with mini-batch size: {batch_size}\")\n",
        "\n",
        "        loss_history, accuracy_history = train_model_with_mini_batches(\n",
        "            X_train, y_train, hidden_size, epochs=epochs, learning_rate=0.01, batch_size=batch_size\n",
        "        )\n",
        "\n",
        "        final_loss = loss_history[-1]\n",
        "        final_accuracy = accuracy_history[-1]\n",
        "\n",
        "        print(f\"Final Loss for batch size {batch_size}: {final_loss:.4f}\\nFinal Accuracy for batch size {batch_size}: {final_accuracy:.4f}\")\n",
        "        print()"
      ]
    },
    {
      "cell_type": "code",
      "source": [
        "compare_mini_batch_sizes(x_train.reshape((x_train.shape[0], -1)), y_train, 64)"
      ],
      "metadata": {
        "colab": {
          "base_uri": "https://localhost:8080/"
        },
        "id": "28Aie2WIJf6T",
        "outputId": "306fdf2a-a573-4d15-9e4f-8cd60fe63c41"
      },
      "execution_count": 122,
      "outputs": [
        {
          "output_type": "stream",
          "name": "stdout",
          "text": [
            "Training with mini-batch size: 16\n",
            "Epoch 0, Loss: 0.7359, Accuracy: 0.7500\n",
            "Epoch 10, Loss: 0.3606, Accuracy: 0.8781\n",
            "Epoch 20, Loss: 0.3132, Accuracy: 0.8940\n",
            "Epoch 30, Loss: 0.2849, Accuracy: 0.9039\n",
            "Epoch 40, Loss: 0.2642, Accuracy: 0.9119\n",
            "Final Loss for batch size 16: 0.2480\n",
            "Final Accuracy for batch size 16: 0.9186\n",
            "\n",
            "Training with mini-batch size: 32\n",
            "Epoch 0, Loss: 0.8597, Accuracy: 0.7086\n",
            "Epoch 10, Loss: 0.4082, Accuracy: 0.8641\n",
            "Epoch 20, Loss: 0.3571, Accuracy: 0.8801\n",
            "Epoch 30, Loss: 0.3267, Accuracy: 0.8904\n",
            "Epoch 40, Loss: 0.3057, Accuracy: 0.8972\n",
            "Final Loss for batch size 32: 0.2903\n",
            "Final Accuracy for batch size 32: 0.9028\n",
            "\n",
            "Training with mini-batch size: 64\n",
            "Epoch 0, Loss: 1.0174, Accuracy: 0.6594\n",
            "Epoch 10, Loss: 0.4607, Accuracy: 0.8471\n",
            "Epoch 20, Loss: 0.4071, Accuracy: 0.8658\n",
            "Epoch 30, Loss: 0.3766, Accuracy: 0.8749\n",
            "Epoch 40, Loss: 0.3550, Accuracy: 0.8815\n",
            "Final Loss for batch size 64: 0.3394\n",
            "Final Accuracy for batch size 64: 0.8867\n",
            "\n"
          ]
        }
      ]
    },
    {
      "cell_type": "markdown",
      "metadata": {
        "id": "wb3WXFgMlXP7"
      },
      "source": [
        "### Mini-Batch vs. Full-Batch Gradient Descent\n"
      ]
    },
    {
      "cell_type": "markdown",
      "metadata": {
        "id": "vVvy9f6PlPCS"
      },
      "source": [
        "TODO: Compare the efficiency and performance of mini-batch gradient descent against full-batch gradient descent.\n",
        "\n",
        "1. Implement Full-Batch Gradient Descent: Ensure you have a full-batch gradient descent implementation.\n",
        "\n",
        "2. Modify the Training Loop: Allow the training loop to handle both mini-batch and full-batch scenarios.\n",
        "\n",
        "3. Train the Model: Run the training process using both methods and track their performance.\n",
        "\n",
        "4. Print Results: Display the final loss and accuracy for both methods along with training times."
      ]
    },
    {
      "cell_type": "code",
      "execution_count": 126,
      "metadata": {
        "id": "tlTYBB2tlgBG"
      },
      "outputs": [],
      "source": [
        "def train_model_full_batch(X_train, y_train, hidden_size, epochs=50, learning_rate=0.01):\n",
        "    \"\"\"\n",
        "    Train the neural network model using full-batch gradient descent.\n",
        "\n",
        "    Parameters:\n",
        "    - X_train: Training data.\n",
        "    - y_train: One-hot encoded labels.\n",
        "    - hidden_size: Number of neurons in the hidden layer.\n",
        "    - epochs: Number of training epochs.\n",
        "    - learning_rate: Learning rate for optimization.\n",
        "\n",
        "    Returns:\n",
        "    - loss_history: List of loss values over epochs.\n",
        "    - accuracy_history: List of accuracy values over epochs.\n",
        "    \"\"\"\n",
        "    input_size = X_train.shape[1]\n",
        "    output_size = y_train.shape[1]\n",
        "    parameters = initialize_parameters(input_size, hidden_size, output_size)\n",
        "    loss_history = []\n",
        "    accuracy_history = []\n",
        "\n",
        "    for epoch in range(epochs):\n",
        "        A2, cache = forward_propagation(X_train, parameters)\n",
        "\n",
        "        loss = compute_loss(y_train, A2)\n",
        "        loss_history.append(loss)\n",
        "\n",
        "        predictions = np.argmax(A2, axis=1)\n",
        "        labels = np.argmax(y_train, axis=1)\n",
        "        accuracy = np.mean(predictions == labels)\n",
        "        accuracy_history.append(accuracy)\n",
        "\n",
        "        gradients = backward_propagation(X_train, y_train, parameters, cache)\n",
        "\n",
        "        parameters = update_parameters_with_sgd(parameters, gradients, learning_rate)\n",
        "\n",
        "        if epoch % 10 == 0:\n",
        "            print(f\"Epoch {epoch}, Loss: {loss:.4f}, Accuracy: {accuracy:.4f}\")\n",
        "\n",
        "    return loss_history, accuracy_history"
      ]
    },
    {
      "cell_type": "code",
      "execution_count": 129,
      "metadata": {
        "id": "YIb4-9eGllGi"
      },
      "outputs": [],
      "source": [
        "import time\n",
        "\n",
        "def compare_mini_batch_and_full_batch(X_train, y_train, hidden_size, epochs=50, batch_size=32):\n",
        "    \"\"\"\n",
        "    Compare the performance of mini-batch gradient descent against full-batch gradient descent.\n",
        "\n",
        "    Parameters:\n",
        "    - X_train: Training data.\n",
        "    - y_train: One-hot encoded labels.\n",
        "    - hidden_size: Number of neurons in the hidden layer.\n",
        "    - epochs: Number of training epochs.\n",
        "    - batch_size: Size of mini-batches for mini-batch gradient descent.\n",
        "    \"\"\"\n",
        "    print(\"Training with Mini-Batch Gradient Descent...\")\n",
        "\n",
        "    start_time = time.time()\n",
        "\n",
        "    loss_history_mini_batch, accuracy_history_mini_batch = train_model_with_mini_batches(\n",
        "        X_train, y_train, hidden_size, epochs=epochs, learning_rate=0.01, batch_size=batch_size\n",
        "    )\n",
        "\n",
        "    end_time = time.time()\n",
        "    time_mini_batch = end_time - start_time\n",
        "\n",
        "    final_loss_mini_batch = loss_history_mini_batch[-1]\n",
        "    final_accuracy_mini_batch = accuracy_history_mini_batch[-1]\n",
        "\n",
        "    print(\"\\nTraining with Full-Batch Gradient Descent...\")\n",
        "\n",
        "    start_time_full = time.time()\n",
        "\n",
        "    loss_history_full_batch, accuracy_history_full_batch = train_model_full_batch(\n",
        "        X_train, y_train, hidden_size, epochs=epochs, learning_rate=0.01\n",
        "    )\n",
        "\n",
        "    end_time_full = time.time()\n",
        "    time_full_batch = end_time_full - start_time_full\n",
        "\n",
        "    final_loss_full_batch = loss_history_full_batch[-1]\n",
        "    final_accuracy_full_batch = accuracy_history_full_batch[-1]\n",
        "\n",
        "    print(f\"\\nMini-Batch Final Loss: {final_loss_mini_batch:.4f}, Final Accuracy: {final_accuracy_mini_batch:.4f}, Time: {time_mini_batch:.2f} seconds\")\n",
        "    print(f\"Full-Batch Final Loss: {final_loss_full_batch:.4f}, Final Accuracy: {final_accuracy_full_batch:.4f}, Time: {time_full_batch:.2f} seconds\")"
      ]
    },
    {
      "cell_type": "code",
      "source": [
        "compare_mini_batch_and_full_batch(x_train.reshape((x_train.shape[0], -1)), y_train, 64)"
      ],
      "metadata": {
        "colab": {
          "base_uri": "https://localhost:8080/"
        },
        "id": "SGcPJ6wvL645",
        "outputId": "9abcd9b8-8490-4185-d208-a5f1bf3b2bea"
      },
      "execution_count": 130,
      "outputs": [
        {
          "output_type": "stream",
          "name": "stdout",
          "text": [
            "Training with Mini-Batch Gradient Descent...\n",
            "Epoch 0, Loss: 0.8597, Accuracy: 0.7086\n",
            "Epoch 10, Loss: 0.4082, Accuracy: 0.8641\n",
            "Epoch 20, Loss: 0.3571, Accuracy: 0.8801\n",
            "Epoch 30, Loss: 0.3267, Accuracy: 0.8904\n",
            "Epoch 40, Loss: 0.3057, Accuracy: 0.8972\n",
            "\n",
            "Training with Full-Batch Gradient Descent...\n",
            "Epoch 0, Loss: 0.7768, Accuracy: 0.0774\n",
            "Epoch 10, Loss: 1.6539, Accuracy: 0.1706\n",
            "Epoch 20, Loss: 1.8927, Accuracy: 0.2278\n",
            "Epoch 30, Loss: 1.9067, Accuracy: 0.2982\n",
            "Epoch 40, Loss: 1.8600, Accuracy: 0.3597\n",
            "\n",
            "Mini-Batch Final Loss: 0.2903, Final Accuracy: 0.9028, Time: 96.14 seconds\n",
            "Full-Batch Final Loss: 1.8045, Final Accuracy: 0.4053, Time: 38.29 seconds\n"
          ]
        }
      ]
    }
  ],
  "metadata": {
    "colab": {
      "provenance": []
    },
    "kernelspec": {
      "display_name": "Python 3",
      "name": "python3"
    },
    "language_info": {
      "codemirror_mode": {
        "name": "ipython",
        "version": 3
      },
      "file_extension": ".py",
      "mimetype": "text/x-python",
      "name": "python",
      "nbconvert_exporter": "python",
      "pygments_lexer": "ipython3",
      "version": "3.10.5"
    }
  },
  "nbformat": 4,
  "nbformat_minor": 0
}