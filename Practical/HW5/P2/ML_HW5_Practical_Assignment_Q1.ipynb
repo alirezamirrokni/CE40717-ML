{
  "cells": [
    {
      "cell_type": "markdown",
      "metadata": {
        "id": "0QOmoitc9qC4"
      },
      "source": [
        "<br>\n",
        "<font>\n",
        "<div dir=ltr align=center>\n",
        "<img src=\"https://cdn.freebiesupply.com/logos/large/2x/sharif-logo-png-transparent.png\" width=150 height=150> <br>\n",
        "<font color=0F5298 size=7>\n",
        "    Machine learning <br>\n",
        "<font color=2565AE size=5>\n",
        "    Computer Engineering Department <br>\n",
        "    Fall 2024<br>\n",
        "<font color=3C99D size=5>\n",
        "    Practical Assignment 5 - NLP - Skip-Gram <br>\n",
        "<font color=0CBCDF size=4>\n",
        "   &#x1F335; Amirhossein Akbari  &#x1F335;\n",
        "</div>\n",
        "\n",
        "____"
      ]
    },
    {
      "cell_type": "markdown",
      "metadata": {
        "id": "35Y0nSE3-wuW"
      },
      "source": [
        "<font color=9999FF size=4>\n",
        "&#x1F388; Full Name : Alireza Mirrokni\n",
        "<br>\n",
        "<font color=9999FF size=4>\n",
        "&#x1F388; Student Number : 401106617"
      ]
    },
    {
      "cell_type": "markdown",
      "metadata": {
        "id": "i4spZpsq_Pxf"
      },
      "source": [
        "<font color=0080FF size=3>\n",
        "This notebook explores word embeddings, compact and dense vector representations of words that capture their textual meaning. This notebook focusing on implementing the Word2Vec algorithm using the Skip-gram architecture and negative sampling.\n",
        "</font>\n",
        "<br>\n",
        "\n",
        "**Note:**\n",
        "<br>\n",
        "<font color=66B2FF size=2>In this notebook, you are free to use any function or model from TensorFlow to assist with the implementation. However, PyTorch is not permitted for this exercise. This ensures consistency and alignment with the tools being focused on.</font>\n",
        "<br>\n",
        "<font color=red size=3>**Run All Cells Before Submission**</font>: <font color=FF99CC size=2>Before saving and submitting your notebook, please ensure you run all cells from start to finish. This practice guarantees that your notebook is self-consistent and can be evaluated correctly by others.</font>"
      ]
    },
    {
      "cell_type": "markdown",
      "metadata": {
        "id": "hZCaUs-3FsJk"
      },
      "source": [
        "<font color=#ffb578 size=3>\n",
        "you are free to modify, add, or remove any cells as you see fit to complete your tasks. Feel free to change any of the provided code or content to better suit your understanding and approach to the problems.\n",
        "\n",
        "- **Questions**: If you have any questions or require clarifications as you work through the notebook, please do not hesitate to ask. You can post your queries on Quera or reach out via Telegram.\n",
        "- **Feedback**: We encourage you to seek feedback and engage in discussions to enhance your learning experience and improve your solutions.\n",
        "</font>"
      ]
    },
    {
      "cell_type": "code",
      "execution_count": 1,
      "metadata": {
        "colab": {
          "base_uri": "https://localhost:8080/"
        },
        "id": "hoV5vSSSbIp0",
        "outputId": "97592077-3f57-4aa8-9001-01ddb931a2a4"
      },
      "outputs": [
        {
          "output_type": "stream",
          "name": "stderr",
          "text": [
            "[nltk_data] Downloading package stopwords to /root/nltk_data...\n",
            "[nltk_data]   Package stopwords is already up-to-date!\n"
          ]
        }
      ],
      "source": [
        "import io\n",
        "import math\n",
        "import gzip\n",
        "import nltk\n",
        "import time\n",
        "import random\n",
        "import numpy as np\n",
        "import tensorflow as tf\n",
        "import gensim.downloader as api\n",
        "import tensorflow_datasets as tfds\n",
        "nltk.download('stopwords')\n",
        "\n",
        "from collections import Counter\n",
        "from nltk.corpus import stopwords\n",
        "from tensorflow.keras.preprocessing.text import Tokenizer\n",
        "from tensorflow.keras.preprocessing.sequence import skipgrams\n"
      ]
    },
    {
      "cell_type": "markdown",
      "metadata": {
        "id": "3pwuegqx-JWf"
      },
      "source": [
        "### Downloading Dataset\n",
        "We're going to use text8 dataset. Text8 is first 100,000,000 bytes of plain text from Wikipedia. It's mainly used for testing purposes."
      ]
    },
    {
      "cell_type": "code",
      "execution_count": 2,
      "metadata": {
        "id": "XG-FjuVEFLGW"
      },
      "outputs": [],
      "source": [
        "def load_data():\n",
        "  text8_zip_file_path = api.load('text8', return_path=True)\n",
        "  with gzip.open(text8_zip_file_path, 'rb') as file:\n",
        "    file_content = file.read()\n",
        "  wiki = file_content.decode()\n",
        "  return wiki\n",
        "\n",
        "wiki = load_data()"
      ]
    },
    {
      "cell_type": "markdown",
      "metadata": {
        "id": "QYBT_-Vy_af4"
      },
      "source": [
        "### Preprocessing data\n",
        "\n",
        "**Stopwords removal** - Begin by removing stopwords from the dataset, as they provide little to no value in learning word embeddings. Ensure your preprocessing pipeline filters out commonly used words such as \"the,\" \"and,\" or \"of\" that do not contribute to meaningful semantic relationships.\n",
        "\n",
        "---\n",
        "\n",
        "**Subsampling words** - In a large corpora, most frequent words can easily occur hundreds of millions of times and such words usually don't bring much information to the table.  It is of essential importance to cut down on their frequencies to mitigate the negative impact it adds. For example, co-occurrences of \"English\" and \"Spanish\" benefit much more than co-occurrences of \"English\" and \"the\" or \"Spanish\" and \"of\". To counter the imbalance between rare and frequent words Mikolov et. al came up with the following heuristic formula for determining probability to drop a particular word:\n",
        "\n",
        "![formula.png](data:image/png;base64,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)\n",
        "\n",
        "where t is threshold value (heuristically set to 1e-5) and f(w) is frequency of the word.\n",
        "\n",
        "Implement a subsampling mechanism to handle overly frequent words in the corpus. Use the heuristic formula provided by Mikolov et al. to calculate the probability of dropping a word based on its frequency. This step ensures the corpus maintains a balance between rare and frequent words, improving the quality of word co-occurrence relationships.\n",
        "\n",
        "---\n",
        "\n",
        "**Filtering words** - Filter out words that occur only once in the dataset, as they lack sufficient context to be represented effectively. Retain only those words that appear at least five times in the corpus to minimize noise and enhance the overall quality of the embeddings.\n"
      ]
    },
    {
      "cell_type": "code",
      "execution_count": 3,
      "metadata": {
        "id": "wp50T2OqA-7L"
      },
      "outputs": [],
      "source": [
        "def preprocess_text(text):\n",
        "  # Step 1: Replace punctuation with tokens to standardize the text for processing\n",
        "  # Example: Replace '.', ',', and other punctuation marks with specific tokens\n",
        "  import re\n",
        "  text = re.sub(r'[^\\w\\s]', '', text)\n",
        "\n",
        "  # Step 2: Convert text to lowercase and remove unnecessary whitespaces\n",
        "  # Example: Apply text.lower() and text.strip()\n",
        "  text = text.lower().strip()\n",
        "\n",
        "  # Step 3: Remove stopwords from the text\n",
        "  # Example: Filter out common words such as 'the', 'and', 'of' using a predefined stopwords list\n",
        "  words = text.split()\n",
        "  sw = set(stopwords.words('english'))\n",
        "  words = [w for w in words if w not in sw]\n",
        "\n",
        "  # Step 4: Remove words with frequency less than 5\n",
        "  # Example: Count word frequencies and filter words appearing fewer than 5 times\n",
        "  word_counts = Counter(words)\n",
        "  words = [word for word in words if word_counts[word] >= 5]\n",
        "\n",
        "  # Step 5: Subsample words using a threshold value (e.g., 1e-5)\n",
        "  # Example: Implement the subsampling heuristic to reduce the frequency of overly common words\n",
        "  threshold = 1e-5\n",
        "  total_count = len(words)\n",
        "  word_freq = {word: count / total_count for word, count in word_counts.items()}\n",
        "  subsample_prob = {word: 1 - np.sqrt(threshold / word_freq[word]) for word in word_counts}\n",
        "  words = [word for word in words if random.random() > subsample_prob[word]]\n",
        "\n",
        "  # Return the processed words and word counts\n",
        "  word_counts = Counter(words)\n",
        "  return words, word_counts"
      ]
    },
    {
      "cell_type": "markdown",
      "metadata": {
        "id": "4260B2ZFJ_EA"
      },
      "source": [
        "It's always a good idea to take a quick look at preprocessed sample before heading further - you might observe few things that if handled can enrich or correct your data. More like a validation step this."
      ]
    },
    {
      "cell_type": "code",
      "execution_count": 4,
      "metadata": {
        "colab": {
          "base_uri": "https://localhost:8080/"
        },
        "id": "_oNvdt-v1dw0",
        "outputId": "424699e8-5e33-470b-fc25-8a3509127e3c"
      },
      "outputs": [
        {
          "output_type": "stream",
          "name": "stdout",
          "text": [
            "Total words after preprocessing: 3810349\n",
            "Sample words: ['anarchism', 'originated', 'abuse', 'working', 'radicals', 'diggers', 'english', 'revolution', 'sans', 'culottes', 'revolution', 'pejorative', 'violent', 'destroy', 'positive', 'self', 'anarchists', 'derived', 'without', 'archons']\n",
            "Sample slice (1500-1550): ['tendencies', 'dogmatic', 'facade', 'hypocrisy', 'sexist', 'anarchists', 'proudhon', 'bakunin', 'hypocrisy', 'anarchism', 'anarchists', 'dismiss', 'prejudices', 'beliefs', 'present', 'criticise', 'anarchism', 'continuing', 'thinkers', 'proudhon', 'fascism', 'cercle', 'proudhon', 'anarcho', 'bryan', 'caplan', 'fascists', 'suspected', 'fascist', 'sympathizers', 'spanish', 'civil', 'illegitimate', 'coercion', 'faction', 'fascists', 'criticizes', 'willingness', 'cnt', 'join', 'statist', 'republican', 'stanley', 'payne', 'claims', 'cnt', 'negotiations', 'noam', 'chomsky', 'kind']\n"
          ]
        }
      ],
      "source": [
        "# Take a quick look at a slice of preprocessed words (e.g., index 1500 to 1550)\n",
        "preprocessed_words, word_counts = preprocess_text(wiki)\n",
        "\n",
        "print(\"Total words after preprocessing:\", len(preprocessed_words))\n",
        "print(\"Sample words:\", preprocessed_words[:20])\n",
        "\n",
        "print(\"Sample slice (1500-1550):\", preprocessed_words[1500:1550])"
      ]
    },
    {
      "cell_type": "markdown",
      "metadata": {
        "id": "lCkFtaa_KrTb"
      },
      "source": [
        "### Hyperparameters\n",
        "Setting a few hyperparamters required for gnerating batches and for deciding the size of word embeddings.\n",
        "\n"
      ]
    },
    {
      "cell_type": "code",
      "execution_count": 5,
      "metadata": {
        "id": "mJLzBkSIKoMx"
      },
      "outputs": [],
      "source": [
        "EMBEDDING_DIM = 64\n",
        "BUFFER_SIZE = 100000\n",
        "BATCH_SIZE = 2048\n",
        "EPOCHS = 5"
      ]
    },
    {
      "cell_type": "markdown",
      "metadata": {
        "id": "0oO7N0ZsLofI"
      },
      "source": [
        "### Preparing TensorFlow Dataset using Skipgrams\n",
        "\n",
        "**Generating Skipgrams**\n",
        "\n",
        "Tokenize your preprocessed textual data and convert the words into their corresponding vectorized tokens. Then, use the `skipgrams` function provided by Keras to generate (word, context) pairs. Ensure the following steps are completed:\n",
        "\n",
        "- Generate positive samples: (word, word in the same window), with label 1.  \n",
        "- Generate negative samples: (word, random word from the vocabulary), with label 0.  \n",
        "\n",
        "Refer to Mikolov et al.'s paper, [Efficient Estimation of Word Representations in Vector Space](https://arxiv.org/pdf/1301.3781v3.pdf), for more details on Skipgrams.\n",
        "\n",
        "---\n",
        "\n",
        "**Negative Sampling**\n",
        "\n",
        "For each input word, implement the negative sampling approach to optimize the training process. Transform the problem of predicting context words into independent binary classification tasks. For every (target, context) pair, generate random negative (target, ~context) samples. This step will reduce computational complexity and make training more efficient.\n"
      ]
    },
    {
      "cell_type": "code",
      "execution_count": 6,
      "metadata": {
        "id": "Uq4-jfYOjonO"
      },
      "outputs": [],
      "source": [
        "# Step 1: Initialize and fit the tokenizer on preprocessed words\n",
        "# Tokenize the preprocessed words and create a vocabulary index\n",
        "tokenizer = Tokenizer()\n",
        "tokenizer.fit_on_texts(preprocessed_words)\n",
        "word_index = tokenizer.word_index\n",
        "index_word = {v: k for k, v in word_index.items()}\n",
        "vocab_size = len(word_index) + 1\n",
        "\n",
        "# Step 2: Vectorize the words using the tokenizer's word index\n",
        "# Convert the preprocessed words into vectorized tokens\n",
        "sequences = tokenizer.texts_to_sequences([preprocessed_words])[0]\n",
        "\n",
        "# Step 3: Generate skipgram pairs and labels\n",
        "# Use the skipgrams function to create (word, context) pairs with their labels\n",
        "window_size = 3\n",
        "skip_gram_pairs, labels = skipgrams(\n",
        "    sequences,\n",
        "    vocabulary_size=vocab_size,\n",
        "    window_size=window_size,\n",
        "    negative_samples=0.7\n",
        ")\n",
        "\n",
        "# Step 4: Extract target and context words from the generated pairs\n",
        "# Separate the target words and context words for training\n",
        "targets, contexts = zip(*skip_gram_pairs)\n",
        "targets = np.array(targets, dtype=np.int32)\n",
        "contexts = np.array(contexts, dtype=np.int32)\n",
        "labels = np.array(labels, dtype=np.int32)\n",
        "\n",
        "# Step 5: Split the data into training and testing sets\n",
        "# Define a sample size and divide the data into training and testing subsets\n",
        "split_index = int(len(targets) * 0.9)\n",
        "train_targets, val_targets = targets[:split_index], targets[split_index:]\n",
        "train_contexts, val_contexts = contexts[:split_index], contexts[split_index:]\n",
        "train_labels, val_labels = labels[:split_index], labels[split_index:]\n",
        "\n",
        "# Step 6: Create TensorFlow datasets\n",
        "# Prepare TensorFlow datasets for training and testing with appropriate batching and shuffling\n",
        "train_dataset = tf.data.Dataset.from_tensor_slices(((train_targets, train_contexts), train_labels))\n",
        "train_dataset = train_dataset.shuffle(BUFFER_SIZE).batch(BATCH_SIZE, drop_remainder=True)\n",
        "test_dataset = tf.data.Dataset.from_tensor_slices(((val_targets, val_contexts), val_labels))\n",
        "test_dataset = test_dataset.batch(BATCH_SIZE, drop_remainder=True)"
      ]
    },
    {
      "cell_type": "code",
      "execution_count": 7,
      "metadata": {
        "colab": {
          "base_uri": "https://localhost:8080/"
        },
        "id": "JRHxw7X4zOpg",
        "outputId": "dc75721d-b392-426f-90ac-ef74552da3fd"
      },
      "outputs": [
        {
          "output_type": "stream",
          "name": "stdout",
          "text": [
            "Training batches: 17079\n",
            "Testing batches: 1897\n"
          ]
        }
      ],
      "source": [
        "# Print the number of batches in the training and testing datasets\n",
        "print(\"Training batches:\", len(train_dataset))\n",
        "print(\"Testing batches:\", len(test_dataset))"
      ]
    },
    {
      "cell_type": "markdown",
      "metadata": {
        "id": "VUatOx50OXF1"
      },
      "source": [
        "### Building the Model\n",
        "\n",
        "Use the model subclassing method to build your model. While Sequential and Functional APIs are generally more suitable for most use cases, model subclassing allows you to create the model in an object-oriented way. Follow these steps:\n",
        "\n",
        "1. Define a custom model class by inheriting from `tf.keras.Model`.\n",
        "2. Implement the `__init__` method to define the layers of your model.\n",
        "3. Override the `call` method to define the forward pass of your model.\n",
        "4. Ensure that the model includes embedding layers, a skip-gram architecture, and any other necessary components for training.\n"
      ]
    },
    {
      "cell_type": "code",
      "execution_count": 11,
      "metadata": {
        "colab": {
          "base_uri": "https://localhost:8080/"
        },
        "id": "JKZHw3NStk3e",
        "outputId": "034c6dba-c968-4242-a45f-d280cba7b61c"
      },
      "outputs": [
        {
          "output_type": "stream",
          "name": "stdout",
          "text": [
            "Using GPU: Tesla T4\n"
          ]
        }
      ],
      "source": [
        "physical_devices = tf.config.list_physical_devices('GPU')\n",
        "if physical_devices:\n",
        "    print(f\"Using GPU: {tf.config.experimental.get_device_details(physical_devices[0])['device_name']}\")\n",
        "else:\n",
        "    print(\"Using CPU\")"
      ]
    },
    {
      "cell_type": "code",
      "execution_count": 21,
      "metadata": {
        "colab": {
          "base_uri": "https://localhost:8080/",
          "height": 261
        },
        "id": "6gLxFZ9Eu9Tw",
        "outputId": "ce1858a9-3570-4820-e01e-587dbac98e2e"
      },
      "outputs": [
        {
          "output_type": "display_data",
          "data": {
            "text/plain": [
              "\u001b[1mModel: \"word2_vec_4\"\u001b[0m\n"
            ],
            "text/html": [
              "<pre style=\"white-space:pre;overflow-x:auto;line-height:normal;font-family:Menlo,'DejaVu Sans Mono',consolas,'Courier New',monospace\"><span style=\"font-weight: bold\">Model: \"word2_vec_4\"</span>\n",
              "</pre>\n"
            ]
          },
          "metadata": {}
        },
        {
          "output_type": "display_data",
          "data": {
            "text/plain": [
              "┏━━━━━━━━━━━━━━━━━━━━━━━━━━━━━━━━━━━━━━┳━━━━━━━━━━━━━━━━━━━━━━━━━━━━━┳━━━━━━━━━━━━━━━━━┓\n",
              "┃\u001b[1m \u001b[0m\u001b[1mLayer (type)                        \u001b[0m\u001b[1m \u001b[0m┃\u001b[1m \u001b[0m\u001b[1mOutput Shape               \u001b[0m\u001b[1m \u001b[0m┃\u001b[1m \u001b[0m\u001b[1m        Param #\u001b[0m\u001b[1m \u001b[0m┃\n",
              "┡━━━━━━━━━━━━━━━━━━━━━━━━━━━━━━━━━━━━━━╇━━━━━━━━━━━━━━━━━━━━━━━━━━━━━╇━━━━━━━━━━━━━━━━━┩\n",
              "│ embedding_7 (\u001b[38;5;33mEmbedding\u001b[0m)              │ ?                           │     \u001b[38;5;34m0\u001b[0m (unbuilt) │\n",
              "├──────────────────────────────────────┼─────────────────────────────┼─────────────────┤\n",
              "│ embedding_8 (\u001b[38;5;33mEmbedding\u001b[0m)              │ ?                           │     \u001b[38;5;34m0\u001b[0m (unbuilt) │\n",
              "├──────────────────────────────────────┼─────────────────────────────┼─────────────────┤\n",
              "│ dense_5 (\u001b[38;5;33mDense\u001b[0m)                      │ ?                           │     \u001b[38;5;34m0\u001b[0m (unbuilt) │\n",
              "└──────────────────────────────────────┴─────────────────────────────┴─────────────────┘\n"
            ],
            "text/html": [
              "<pre style=\"white-space:pre;overflow-x:auto;line-height:normal;font-family:Menlo,'DejaVu Sans Mono',consolas,'Courier New',monospace\">┏━━━━━━━━━━━━━━━━━━━━━━━━━━━━━━━━━━━━━━┳━━━━━━━━━━━━━━━━━━━━━━━━━━━━━┳━━━━━━━━━━━━━━━━━┓\n",
              "┃<span style=\"font-weight: bold\"> Layer (type)                         </span>┃<span style=\"font-weight: bold\"> Output Shape                </span>┃<span style=\"font-weight: bold\">         Param # </span>┃\n",
              "┡━━━━━━━━━━━━━━━━━━━━━━━━━━━━━━━━━━━━━━╇━━━━━━━━━━━━━━━━━━━━━━━━━━━━━╇━━━━━━━━━━━━━━━━━┩\n",
              "│ embedding_7 (<span style=\"color: #0087ff; text-decoration-color: #0087ff\">Embedding</span>)              │ ?                           │     <span style=\"color: #00af00; text-decoration-color: #00af00\">0</span> (unbuilt) │\n",
              "├──────────────────────────────────────┼─────────────────────────────┼─────────────────┤\n",
              "│ embedding_8 (<span style=\"color: #0087ff; text-decoration-color: #0087ff\">Embedding</span>)              │ ?                           │     <span style=\"color: #00af00; text-decoration-color: #00af00\">0</span> (unbuilt) │\n",
              "├──────────────────────────────────────┼─────────────────────────────┼─────────────────┤\n",
              "│ dense_5 (<span style=\"color: #0087ff; text-decoration-color: #0087ff\">Dense</span>)                      │ ?                           │     <span style=\"color: #00af00; text-decoration-color: #00af00\">0</span> (unbuilt) │\n",
              "└──────────────────────────────────────┴─────────────────────────────┴─────────────────┘\n",
              "</pre>\n"
            ]
          },
          "metadata": {}
        },
        {
          "output_type": "display_data",
          "data": {
            "text/plain": [
              "\u001b[1m Total params: \u001b[0m\u001b[38;5;34m0\u001b[0m (0.00 B)\n"
            ],
            "text/html": [
              "<pre style=\"white-space:pre;overflow-x:auto;line-height:normal;font-family:Menlo,'DejaVu Sans Mono',consolas,'Courier New',monospace\"><span style=\"font-weight: bold\"> Total params: </span><span style=\"color: #00af00; text-decoration-color: #00af00\">0</span> (0.00 B)\n",
              "</pre>\n"
            ]
          },
          "metadata": {}
        },
        {
          "output_type": "display_data",
          "data": {
            "text/plain": [
              "\u001b[1m Trainable params: \u001b[0m\u001b[38;5;34m0\u001b[0m (0.00 B)\n"
            ],
            "text/html": [
              "<pre style=\"white-space:pre;overflow-x:auto;line-height:normal;font-family:Menlo,'DejaVu Sans Mono',consolas,'Courier New',monospace\"><span style=\"font-weight: bold\"> Trainable params: </span><span style=\"color: #00af00; text-decoration-color: #00af00\">0</span> (0.00 B)\n",
              "</pre>\n"
            ]
          },
          "metadata": {}
        },
        {
          "output_type": "display_data",
          "data": {
            "text/plain": [
              "\u001b[1m Non-trainable params: \u001b[0m\u001b[38;5;34m0\u001b[0m (0.00 B)\n"
            ],
            "text/html": [
              "<pre style=\"white-space:pre;overflow-x:auto;line-height:normal;font-family:Menlo,'DejaVu Sans Mono',consolas,'Courier New',monospace\"><span style=\"font-weight: bold\"> Non-trainable params: </span><span style=\"color: #00af00; text-decoration-color: #00af00\">0</span> (0.00 B)\n",
              "</pre>\n"
            ]
          },
          "metadata": {}
        },
        {
          "output_type": "stream",
          "name": "stdout",
          "text": [
            "None\n",
            "tf.Tensor([[[0.50003034]]], shape=(1, 1, 1), dtype=float32)\n"
          ]
        }
      ],
      "source": [
        "# Step 1: Create a custom model class by subclassing `tf.keras.Model`\n",
        "# Define a class that inherits from the Keras Model class\n",
        "class Word2Vec(tf.keras.Model):\n",
        "    # Step 2: Initialize the layers in the __init__ method\n",
        "    # Define all the layers such as embedding, dense, or output layers\n",
        "    def __init__(self, vocab_size, embedding_dim):\n",
        "        super().__init__()\n",
        "        self.target_embedding = tf.keras.layers.Embedding(input_dim=vocab_size, output_dim=embedding_dim)\n",
        "        self.context_embedding = tf.keras.layers.Embedding(input_dim=vocab_size, output_dim=embedding_dim)\n",
        "        self.dense = tf.keras.layers.Dense(1)\n",
        "\n",
        "    # Step 3: Implement the forward pass in the call method\n",
        "    # Define how the input data flows through the model to produce the output\n",
        "    def call(self, inputs):\n",
        "        target, context = inputs\n",
        "        target_vector = self.target_embedding(target)\n",
        "        context_vector = self.context_embedding(context)\n",
        "        dot_product = tf.reduce_sum(target_vector * context_vector, axis=-1, keepdims=True)\n",
        "        output = self.dense(dot_product)\n",
        "        return tf.nn.sigmoid(output)\n",
        "\n",
        "# Step 4: Ensure the model implements the skip-gram architecture\n",
        "# Include logic for embedding lookups and processing positive and negative samples\n",
        "model = Word2Vec(vocab_size, EMBEDDING_DIM)\n",
        "\n",
        "# Step 5: Verify that the model structure aligns with the objective\n",
        "# Test the forward pass to ensure proper layer connections and outputs\n",
        "print(model.summary())\n",
        "\n",
        "inputs = (tf.constant([[1]]), tf.constant([[2]]))\n",
        "print(model(inputs))"
      ]
    },
    {
      "cell_type": "markdown",
      "metadata": {
        "id": "RN3SV3zv0pXG"
      },
      "source": [
        "### Loss function, Metrics and Optimizers"
      ]
    },
    {
      "cell_type": "code",
      "execution_count": 22,
      "metadata": {
        "id": "ENLrMWOtpixA"
      },
      "outputs": [],
      "source": [
        "optimiser = tf.keras.optimizers.Adam()\n",
        "loss_fn = tf.keras.losses.BinaryCrossentropy(from_logits=False)\n",
        "train_acc_metric = tf.keras.metrics.BinaryAccuracy()\n",
        "val_acc_metric = tf.keras.metrics.BinaryAccuracy()"
      ]
    },
    {
      "cell_type": "markdown",
      "metadata": {
        "id": "7eyQ_o1EWuJA"
      },
      "source": [
        "### Training the Model\n",
        "\n",
        "Implement custom training for learning word embeddings to gain finer control over optimization and training tasks. Follow these steps:\n",
        "\n",
        "1. Define a custom training loop that includes forward propagation, loss computation, and backpropagation.\n",
        "2. Use the optimizer of your choice to update the model's weights based on the computed gradients.\n",
        "3. Implement batching for efficient data processing during training.\n",
        "4. Monitor the loss during each epoch to track the model's performance.\n",
        "5. Save the trained embeddings for later use once the training is complete."
      ]
    },
    {
      "cell_type": "code",
      "execution_count": 23,
      "metadata": {
        "colab": {
          "base_uri": "https://localhost:8080/"
        },
        "id": "oHNb85OL29hu",
        "outputId": "a44e7350-5a74-4810-8cce-21c267173f8e"
      },
      "outputs": [
        {
          "output_type": "stream",
          "name": "stdout",
          "text": [
            "\n",
            "Epoch 1/5\n"
          ]
        },
        {
          "output_type": "stream",
          "name": "stderr",
          "text": [
            "Training: 100%|██████████| 17079/17079 [05:18<00:00, 53.64it/s, Loss=0.402]\n",
            "Validation: 100%|██████████| 1897/1897 [00:15<00:00, 121.82it/s, Val Loss=0.439]\n"
          ]
        },
        {
          "output_type": "stream",
          "name": "stdout",
          "text": [
            " - Train Acc: 0.7776, Val Acc: 0.8119, Time: 333.97s\n",
            "\n",
            "Epoch 2/5\n"
          ]
        },
        {
          "output_type": "stream",
          "name": "stderr",
          "text": [
            "Training: 100%|██████████| 17079/17079 [05:16<00:00, 53.94it/s, Loss=0.393]\n",
            "Validation: 100%|██████████| 1897/1897 [00:15<00:00, 122.89it/s, Val Loss=0.406]\n"
          ]
        },
        {
          "output_type": "stream",
          "name": "stdout",
          "text": [
            " - Train Acc: 0.8331, Val Acc: 0.8215, Time: 332.09s\n",
            "\n",
            "Epoch 3/5\n"
          ]
        },
        {
          "output_type": "stream",
          "name": "stderr",
          "text": [
            "Training: 100%|██████████| 17079/17079 [05:22<00:00, 52.99it/s, Loss=0.326]\n",
            "Validation: 100%|██████████| 1897/1897 [00:15<00:00, 120.02it/s, Val Loss=0.408]\n"
          ]
        },
        {
          "output_type": "stream",
          "name": "stdout",
          "text": [
            " - Train Acc: 0.8564, Val Acc: 0.8202, Time: 338.14s\n",
            "\n",
            "Epoch 4/5\n"
          ]
        },
        {
          "output_type": "stream",
          "name": "stderr",
          "text": [
            "Training: 100%|██████████| 17079/17079 [05:17<00:00, 53.85it/s, Loss=0.327]\n",
            "Validation: 100%|██████████| 1897/1897 [00:20<00:00, 92.63it/s, Val Loss=0.419] \n"
          ]
        },
        {
          "output_type": "stream",
          "name": "stdout",
          "text": [
            " - Train Acc: 0.8704, Val Acc: 0.8177, Time: 337.66s\n",
            "\n",
            "Epoch 5/5\n"
          ]
        },
        {
          "output_type": "stream",
          "name": "stderr",
          "text": [
            "Training: 100%|██████████| 17079/17079 [05:22<00:00, 53.01it/s, Loss=0.293]\n",
            "Validation: 100%|██████████| 1897/1897 [00:22<00:00, 84.69it/s, Val Loss=0.432] \n"
          ]
        },
        {
          "output_type": "stream",
          "name": "stdout",
          "text": [
            " - Train Acc: 0.8793, Val Acc: 0.8154, Time: 344.60s\n"
          ]
        }
      ],
      "source": [
        "from tqdm import tqdm\n",
        "\n",
        "# Step 1: Define the training step\n",
        "# Create a `train_step` function using `tf.GradientTape` to compute predictions, calculate loss, and apply gradients to update model weights\n",
        "@tf.function\n",
        "def train_step(x, y):\n",
        "    with tf.GradientTape() as tape:\n",
        "        y_pred = model(x, training=True)\n",
        "        loss = loss_fn(y, y_pred)\n",
        "    grads = tape.gradient(loss, model.trainable_variables)\n",
        "    optimiser.apply_gradients(zip(grads, model.trainable_variables))\n",
        "    train_acc_metric.update_state(y, y_pred)\n",
        "    return loss\n",
        "\n",
        "# Step 2: Define the testing step\n",
        "# Create a `test_step` function to compute predictions and calculate validation loss without updating the model weights\n",
        "@tf.function\n",
        "def test_step(x, y):\n",
        "    y_pred = model(x, training=False)\n",
        "    loss = loss_fn(y, y_pred)\n",
        "    val_acc_metric.update_state(y, y_pred)\n",
        "    return loss\n",
        "\n",
        "# Step 3: Initialize the training loop\n",
        "# Set up a loop to iterate over epochs and train the model for the defined number of iterations\n",
        "for epoch in range(EPOCHS):\n",
        "    start_time = time.time()\n",
        "    train_acc_metric.reset_state()\n",
        "    val_acc_metric.reset_state()\n",
        "\n",
        "    train_dataset = train_dataset.prefetch(tf.data.experimental.AUTOTUNE)\n",
        "    test_dataset = test_dataset.prefetch(tf.data.experimental.AUTOTUNE)\n",
        "\n",
        "    print(f\"\\nEpoch {epoch+1}/{EPOCHS}\")\n",
        "    train_progress = tqdm(train_dataset, desc='Training')\n",
        "    for x_train, y_train in train_progress:\n",
        "        loss = train_step(x_train, y_train)\n",
        "        train_progress.set_postfix({'Loss': loss.numpy()})\n",
        "\n",
        "    train_acc = train_acc_metric.result()\n",
        "\n",
        "    val_progress = tqdm(test_dataset, desc='Validation')\n",
        "    for x_val, y_val in val_progress:\n",
        "        val_loss = test_step(x_val, y_val)\n",
        "        val_progress.set_postfix({'Val Loss': val_loss.numpy()})\n",
        "\n",
        "    val_acc = val_acc_metric.result()\n",
        "    elapsed_time = time.time() - start_time\n",
        "\n",
        "    print(\n",
        "        f\" - Train Acc: {train_acc.numpy():.4f}, \"\n",
        "        f\"Val Acc: {val_acc.numpy():.4f}, \"\n",
        "        f\"Time: {elapsed_time:.2f}s\"\n",
        "    )"
      ]
    },
    {
      "cell_type": "code",
      "execution_count": 24,
      "metadata": {
        "id": "V2iWMNGQahsc",
        "colab": {
          "base_uri": "https://localhost:8080/",
          "height": 35
        },
        "outputId": "de160104-ad62-402c-853b-703a9c9f28e4"
      },
      "outputs": [
        {
          "output_type": "execute_result",
          "data": {
            "text/plain": [
              "'skipgram_model_checkpoint/ckpt-1'"
            ],
            "application/vnd.google.colaboratory.intrinsic+json": {
              "type": "string"
            }
          },
          "metadata": {},
          "execution_count": 24
        }
      ],
      "source": [
        "# Save weights to a Tensorflow Checkpoint file\n",
        "checkpoint = tf.train.Checkpoint(model=model)\n",
        "checkpoint.save('skipgram_model_checkpoint/ckpt')"
      ]
    },
    {
      "cell_type": "markdown",
      "metadata": {
        "id": "bb7Wx_rzZOOm"
      },
      "source": [
        "### Word Embeddings Projector\n",
        "\n",
        "Follow these steps to visualize the learned word embeddings using TensorFlow's Embedding Projector:\n",
        "\n",
        "1. Extract the weights of the embedding layer from your trained model.\n",
        "2. Save the weights into two files:\n",
        "   - `vecs.tsv`: This file will store the actual vector representations of words.\n",
        "   - `meta.tsv`: This file will store the associated metadata (e.g., word labels) for visualization.\n",
        "3. Go to [TensorFlow Embedding Projector](http://projector.tensorflow.org/).\n",
        "4. Upload the `vecs.tsv` and `meta.tsv` files created in the previous step.\n",
        "5. Explore the visualizations provided by TensorFlow's Embedding Projector.\n",
        "<font color=#ffb578>\n",
        "6.Save the visualization of a word that best demonstrate the quality of your embeddings as an image and store it near the notebook.\n",
        "7. Compress the folder into a `.zip` file and submit it as part of your work.\n",
        "\n",
        "</font>\n"
      ]
    },
    {
      "cell_type": "code",
      "execution_count": 27,
      "metadata": {
        "id": "fGpXtNRS-V_u",
        "outputId": "35ed7168-b829-4d06-b484-b6fbc107bce0",
        "colab": {
          "base_uri": "https://localhost:8080/"
        }
      },
      "outputs": [
        {
          "output_type": "stream",
          "name": "stdout",
          "text": [
            "Embedding shape: (71141, 64)\n"
          ]
        }
      ],
      "source": [
        "# Step 1: Access the embedding layer from the trained model\n",
        "# Retrieve the first layer (embedding layer) from the model\n",
        "embeddings = model.target_embedding.get_weights()[0]\n",
        "\n",
        "# Step 2: Extract the weights from the embedding layer\n",
        "# Get the weights (word embeddings) as a NumPy array\n",
        "print(f\"Embedding shape: {embeddings.shape}\")\n",
        "\n",
        "# Step 3: Open files to store embeddings and metadata\n",
        "# Create two files - 'vecs.tsv' for embeddings and 'meta.tsv' for word metadata\n",
        "with open('vecs.tsv', 'w') as vec_file, open('meta.tsv', 'w') as meta_file:\n",
        "    # Step 4: Iterate through the tokenizer's vocabulary\n",
        "    # For each word in the vocabulary, write its metadata and embeddings to the files\n",
        "    for word, idx in tokenizer.word_index.items():\n",
        "        if idx < vocab_size:  # Ensure index is within vocabulary size\n",
        "            vector = embeddings[idx]  # Adjusted index handling to directly access embeddings\n",
        "            vec_file.write('\\t'.join([str(x) for x in vector]) + '\\n')\n",
        "            meta_file.write(word + '\\n')\n",
        "\n",
        "# Step 5: Close the files after writing\n",
        "# Ensure that the files are properly saved and closed\n",
        "vec_file.close()\n",
        "meta_file.close()"
      ]
    }
  ],
  "metadata": {
    "accelerator": "GPU",
    "colab": {
      "gpuType": "T4",
      "provenance": []
    },
    "kernelspec": {
      "display_name": "Python 3",
      "name": "python3"
    },
    "language_info": {
      "codemirror_mode": {
        "name": "ipython",
        "version": 3
      },
      "file_extension": ".py",
      "mimetype": "text/x-python",
      "name": "python",
      "nbconvert_exporter": "python",
      "pygments_lexer": "ipython3",
      "version": "3.7.6"
    },
    "papermill": {
      "duration": 1467.163823,
      "end_time": "2020-10-10T13:37:04.319726",
      "environment_variables": {},
      "exception": null,
      "input_path": "__notebook__.ipynb",
      "output_path": "__notebook__.ipynb",
      "parameters": {},
      "start_time": "2020-10-10T13:12:37.155903",
      "version": "2.1.0"
    }
  },
  "nbformat": 4,
  "nbformat_minor": 0
}