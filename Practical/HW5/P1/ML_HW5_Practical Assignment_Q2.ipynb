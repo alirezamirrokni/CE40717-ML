{
 "cells": [
  {
   "cell_type": "markdown",
   "metadata": {
    "id": "VivaFsd3Q6cj"
   },
   "source": [
    "<br>\n",
    "<font>\n",
    "<div dir=ltr align=center>\n",
    "<img src=\"https://cdn.freebiesupply.com/logos/large/2x/sharif-logo-png-transparent.png\" width=150 height=150> <br>\n",
    "<font color=0F5298 size=7>\n",
    "    Machine learning <br>\n",
    "<font color=2565AE size=5>\n",
    "    Computer Engineering Department <br>\n",
    "    Fall 2024<br>\n",
    "<font color=3C99D size=5>\n",
    "    Practical Assignment 5 - NLP - Transformer & Bert <br>\n",
    "</div>\n",
    "<div dir=ltr align=center>\n",
    "<font color=0CBCDF size=4>\n",
    "   &#x1F349; Masoud Tahmasbi  &#x1F349;  &#x1F353; Arash Ziyaei &#x1F353;\n",
    "<br>\n",
    "<font color=0CBCDF size=4>\n",
    "   &#x1F335; Amirhossein Akbari  &#x1F335;\n",
    "</div>\n",
    "\n",
    "____"
   ]
  },
  {
   "cell_type": "markdown",
   "metadata": {
    "id": "k15QziPnmC6d"
   },
   "source": [
    "<font color=9999FF size=4>\n",
    "&#x1F388; Full Name : Alireza Mirrokni\n",
    "<br>\n",
    "<font color=9999FF size=4>\n",
    "&#x1F388; Student Number : 401106617"
   ]
  },
  {
   "cell_type": "markdown",
   "metadata": {
    "id": "IOfpEN2xmbN8"
   },
   "source": [
    "<font color=0080FF size=3>\n",
    "This notebook covers two key topics. First, we implement a transformer model from scratch and apply it to a specific task. Second, we fine-tune the BERT model using LoRA for efficient adaptation to a downstream task.\n",
    "</font>\n",
    "<br>\n",
    "\n",
    "**Note:**\n",
    "<br>\n",
    "<font color=66B2FF size=2>In this notebook, you are free to use any function or model from PyTorch to assist with the implementation. However, TensorFlow is not permitted for this exercise. This ensures consistency and alignment with the tools being focused on.</font>\n",
    "<br>\n",
    "<font color=red size=3>**Run All Cells Before Submission**</font>: <font color=FF99CC size=2>Before saving and submitting your notebook, please ensure you run all cells from start to finish. This practice guarantees that your notebook is self-consistent and can be evaluated correctly by others.</font>"
   ]
  },
  {
   "cell_type": "markdown",
   "metadata": {
    "id": "SpvvM0995ieR"
   },
   "source": [
    "# Section 1: Transformer\n",
    "\n",
    "The transformer architecture consists of two main components: an encoder and a decoder. Each of these components is made up of multiple layers that include self-attention mechanisms and feedforward neural networks. The self-attention mechanism is central to the transformer, as it enables the model to assess the importance of different words in a sentence by considering their relationships with one another.\n",
    "\n",
    "\n",
    "In this assignment, you should design a transformer model from scratch. You are required to implement the Encoder and Decoder components of a Transformer model."
   ]
  },
  {
   "cell_type": "code",
   "execution_count": null,
   "metadata": {
    "colab": {
     "base_uri": "https://localhost:8080/"
    },
    "id": "iwbOzwSF_C0g",
    "outputId": "10308702-0391-414d-b838-d8726e7cfae6"
   },
   "outputs": [
    {
     "name": "stdout",
     "output_type": "stream",
     "text": [
      "Collecting datasets\n",
      "  Downloading datasets-3.2.0-py3-none-any.whl.metadata (20 kB)\n",
      "Requirement already satisfied: filelock in /usr/local/lib/python3.10/dist-packages (from datasets) (3.16.1)\n",
      "Requirement already satisfied: numpy>=1.17 in /usr/local/lib/python3.10/dist-packages (from datasets) (1.26.4)\n",
      "Requirement already satisfied: pyarrow>=15.0.0 in /usr/local/lib/python3.10/dist-packages (from datasets) (17.0.0)\n",
      "Collecting dill<0.3.9,>=0.3.0 (from datasets)\n",
      "  Downloading dill-0.3.8-py3-none-any.whl.metadata (10 kB)\n",
      "Requirement already satisfied: pandas in /usr/local/lib/python3.10/dist-packages (from datasets) (2.2.2)\n",
      "Requirement already satisfied: requests>=2.32.2 in /usr/local/lib/python3.10/dist-packages (from datasets) (2.32.3)\n",
      "Requirement already satisfied: tqdm>=4.66.3 in /usr/local/lib/python3.10/dist-packages (from datasets) (4.67.1)\n",
      "Collecting xxhash (from datasets)\n",
      "  Downloading xxhash-3.5.0-cp310-cp310-manylinux_2_17_x86_64.manylinux2014_x86_64.whl.metadata (12 kB)\n",
      "Collecting multiprocess<0.70.17 (from datasets)\n",
      "  Downloading multiprocess-0.70.16-py310-none-any.whl.metadata (7.2 kB)\n",
      "Collecting fsspec<=2024.9.0,>=2023.1.0 (from fsspec[http]<=2024.9.0,>=2023.1.0->datasets)\n",
      "  Downloading fsspec-2024.9.0-py3-none-any.whl.metadata (11 kB)\n",
      "Requirement already satisfied: aiohttp in /usr/local/lib/python3.10/dist-packages (from datasets) (3.11.10)\n",
      "Requirement already satisfied: huggingface-hub>=0.23.0 in /usr/local/lib/python3.10/dist-packages (from datasets) (0.27.0)\n",
      "Requirement already satisfied: packaging in /usr/local/lib/python3.10/dist-packages (from datasets) (24.2)\n",
      "Requirement already satisfied: pyyaml>=5.1 in /usr/local/lib/python3.10/dist-packages (from datasets) (6.0.2)\n",
      "Requirement already satisfied: aiohappyeyeballs>=2.3.0 in /usr/local/lib/python3.10/dist-packages (from aiohttp->datasets) (2.4.4)\n",
      "Requirement already satisfied: aiosignal>=1.1.2 in /usr/local/lib/python3.10/dist-packages (from aiohttp->datasets) (1.3.2)\n",
      "Requirement already satisfied: async-timeout<6.0,>=4.0 in /usr/local/lib/python3.10/dist-packages (from aiohttp->datasets) (4.0.3)\n",
      "Requirement already satisfied: attrs>=17.3.0 in /usr/local/lib/python3.10/dist-packages (from aiohttp->datasets) (24.3.0)\n",
      "Requirement already satisfied: frozenlist>=1.1.1 in /usr/local/lib/python3.10/dist-packages (from aiohttp->datasets) (1.5.0)\n",
      "Requirement already satisfied: multidict<7.0,>=4.5 in /usr/local/lib/python3.10/dist-packages (from aiohttp->datasets) (6.1.0)\n",
      "Requirement already satisfied: propcache>=0.2.0 in /usr/local/lib/python3.10/dist-packages (from aiohttp->datasets) (0.2.1)\n",
      "Requirement already satisfied: yarl<2.0,>=1.17.0 in /usr/local/lib/python3.10/dist-packages (from aiohttp->datasets) (1.18.3)\n",
      "Requirement already satisfied: typing-extensions>=3.7.4.3 in /usr/local/lib/python3.10/dist-packages (from huggingface-hub>=0.23.0->datasets) (4.12.2)\n",
      "Requirement already satisfied: charset-normalizer<4,>=2 in /usr/local/lib/python3.10/dist-packages (from requests>=2.32.2->datasets) (3.4.0)\n",
      "Requirement already satisfied: idna<4,>=2.5 in /usr/local/lib/python3.10/dist-packages (from requests>=2.32.2->datasets) (3.10)\n",
      "Requirement already satisfied: urllib3<3,>=1.21.1 in /usr/local/lib/python3.10/dist-packages (from requests>=2.32.2->datasets) (2.2.3)\n",
      "Requirement already satisfied: certifi>=2017.4.17 in /usr/local/lib/python3.10/dist-packages (from requests>=2.32.2->datasets) (2024.12.14)\n",
      "Requirement already satisfied: python-dateutil>=2.8.2 in /usr/local/lib/python3.10/dist-packages (from pandas->datasets) (2.8.2)\n",
      "Requirement already satisfied: pytz>=2020.1 in /usr/local/lib/python3.10/dist-packages (from pandas->datasets) (2024.2)\n",
      "Requirement already satisfied: tzdata>=2022.7 in /usr/local/lib/python3.10/dist-packages (from pandas->datasets) (2024.2)\n",
      "Requirement already satisfied: six>=1.5 in /usr/local/lib/python3.10/dist-packages (from python-dateutil>=2.8.2->pandas->datasets) (1.17.0)\n",
      "Downloading datasets-3.2.0-py3-none-any.whl (480 kB)\n",
      "\u001b[2K   \u001b[90m━━━━━━━━━━━━━━━━━━━━━━━━━━━━━━━━━━━━━━━━\u001b[0m \u001b[32m480.6/480.6 kB\u001b[0m \u001b[31m17.6 MB/s\u001b[0m eta \u001b[36m0:00:00\u001b[0m\n",
      "\u001b[?25hDownloading dill-0.3.8-py3-none-any.whl (116 kB)\n",
      "\u001b[2K   \u001b[90m━━━━━━━━━━━━━━━━━━━━━━━━━━━━━━━━━━━━━━━━\u001b[0m \u001b[32m116.3/116.3 kB\u001b[0m \u001b[31m9.7 MB/s\u001b[0m eta \u001b[36m0:00:00\u001b[0m\n",
      "\u001b[?25hDownloading fsspec-2024.9.0-py3-none-any.whl (179 kB)\n",
      "\u001b[2K   \u001b[90m━━━━━━━━━━━━━━━━━━━━━━━━━━━━━━━━━━━━━━━━\u001b[0m \u001b[32m179.3/179.3 kB\u001b[0m \u001b[31m16.0 MB/s\u001b[0m eta \u001b[36m0:00:00\u001b[0m\n",
      "\u001b[?25hDownloading multiprocess-0.70.16-py310-none-any.whl (134 kB)\n",
      "\u001b[2K   \u001b[90m━━━━━━━━━━━━━━━━━━━━━━━━━━━━━━━━━━━━━━━━\u001b[0m \u001b[32m134.8/134.8 kB\u001b[0m \u001b[31m11.8 MB/s\u001b[0m eta \u001b[36m0:00:00\u001b[0m\n",
      "\u001b[?25hDownloading xxhash-3.5.0-cp310-cp310-manylinux_2_17_x86_64.manylinux2014_x86_64.whl (194 kB)\n",
      "\u001b[2K   \u001b[90m━━━━━━━━━━━━━━━━━━━━━━━━━━━━━━━━━━━━━━━━\u001b[0m \u001b[32m194.1/194.1 kB\u001b[0m \u001b[31m16.8 MB/s\u001b[0m eta \u001b[36m0:00:00\u001b[0m\n",
      "\u001b[?25hInstalling collected packages: xxhash, fsspec, dill, multiprocess, datasets\n",
      "  Attempting uninstall: fsspec\n",
      "    Found existing installation: fsspec 2024.10.0\n",
      "    Uninstalling fsspec-2024.10.0:\n",
      "      Successfully uninstalled fsspec-2024.10.0\n",
      "\u001b[31mERROR: pip's dependency resolver does not currently take into account all the packages that are installed. This behaviour is the source of the following dependency conflicts.\n",
      "gcsfs 2024.10.0 requires fsspec==2024.10.0, but you have fsspec 2024.9.0 which is incompatible.\u001b[0m\u001b[31m\n",
      "\u001b[0mSuccessfully installed datasets-3.2.0 dill-0.3.8 fsspec-2024.9.0 multiprocess-0.70.16 xxhash-3.5.0\n"
     ]
    }
   ],
   "source": [
    "!pip install datasets"
   ]
  },
  {
   "cell_type": "code",
   "execution_count": 1,
   "metadata": {
    "execution": {
     "iopub.execute_input": "2025-01-05T17:26:10.375464Z",
     "iopub.status.busy": "2025-01-05T17:26:10.375260Z",
     "iopub.status.idle": "2025-01-05T17:26:22.380117Z",
     "shell.execute_reply": "2025-01-05T17:26:22.379470Z",
     "shell.execute_reply.started": "2025-01-05T17:26:10.375440Z"
    },
    "id": "dzIob6-Gq7Lw",
    "trusted": true
   },
   "outputs": [],
   "source": [
    "# Importing libraries\n",
    "\n",
    "# PyTorch\n",
    "import torch\n",
    "import torch.nn as nn\n",
    "from torch.utils.data import Dataset, DataLoader, random_split\n",
    "from torch.utils.tensorboard import SummaryWriter\n",
    "import torch.nn.functional as F\n",
    "\n",
    "# Math\n",
    "import math\n",
    "\n",
    "# HuggingFace libraries\n",
    "from datasets import load_dataset\n",
    "from tokenizers import Tokenizer\n",
    "from tokenizers.models import WordLevel\n",
    "from tokenizers.trainers import WordLevelTrainer\n",
    "from tokenizers.pre_tokenizers import Whitespace\n",
    "\n",
    "# Pathlib\n",
    "from pathlib import Path\n",
    "\n",
    "# typing\n",
    "from typing import Any\n",
    "\n",
    "# Library for progress bars in loops\n",
    "from tqdm import tqdm\n",
    "\n",
    "import os\n",
    "\n",
    "# Importing library of warnings\n",
    "import warnings"
   ]
  },
  {
   "cell_type": "markdown",
   "metadata": {
    "id": "-71SfIAJprox"
   },
   "source": [
    "## Part 1: Input Embeddings\n",
    "<p style = \"font-family: 'Helvetica Neue', Arial, sans-serif; text-align: left; font-size: 17.5px\">When we observe the Transformer architecture image above, we can see that the Embeddings represent the first step of both blocks.</p>\n",
    "\n",
    "<p style = \"font-family: 'Helvetica Neue', Arial, sans-serif; text-align: left; font-size: 17.5px\">The <code>InputEmbedding</code> class below is responsible for converting the input text into numerical vectors of <code>d_model</code> dimensions. To prevent that our input embeddings become extremely small, we normalize them by multiplying them by the $\\sqrt{d_{model}}$.</p>\n",
    "\n",
    "<p style = \"font-family: 'Helvetica Neue', Arial, sans-serif; text-align: left; font-size: 17.5px\">In the image below, we can see how the embeddings are created. First, we have a sentence that gets split into tokens—we will explore what tokens are later on—. Then, the token IDs—identification numbers—are transformed into the embeddings, which are high-dimensional vectors.</p>"
   ]
  },
  {
   "cell_type": "code",
   "execution_count": 5,
   "metadata": {
    "id": "J-pyrJlu4Nl7"
   },
   "outputs": [],
   "source": [
    "######################  TODO  ########################\n",
    "######################  TODO  ########################\n",
    "\n",
    "# - Define a class `InputEmbeddings` inheriting from `nn.Module`\n",
    "# - Initialize the class with two parameters:\n",
    "#   1. `d_model`: Dimension of the embedding vectors\n",
    "#   2. `vocab_size`: Size of the vocabulary\n",
    "# - Create an embedding layer using `nn.Embedding` to map input indices to dense vectors\n",
    "\n",
    "# - In the `forward` method:\n",
    "#   1. Pass the input `x` through the embedding layer\n",
    "#   2. Scale the embeddings by the square root of `d_model` for variance normalization\n",
    "\n",
    "######################  TODO  ########################\n",
    "######################  TODO  ########################\n",
    "\n",
    "class InputEmbeddings(nn.Module):\n",
    "    def __init__(self, d_model, vocab_size):\n",
    "        super().__init__()\n",
    "        self.d_model = d_model\n",
    "        self.embedding = nn.Embedding(vocab_size, d_model)\n",
    "\n",
    "    def forward(self, x):\n",
    "        return self.embedding(x) * math.sqrt(self.d_model)"
   ]
  },
  {
   "cell_type": "markdown",
   "metadata": {
    "id": "RWBlo2XorJGW"
   },
   "source": [
    "## Part 2: positional encoding\n",
    "<p style = \"font-family: 'Helvetica Neue', Arial, sans-serif; text-align: left; font-size: 17.5px\">In the original paper, the authors add the positional encodings to the input embeddings at the bottom of both the encoder and decoder blocks so the model can have some information about the relative or absolute position of the tokens in the sequence. The positional encodings have the same dimension $d_{model}$ as the embeddings, so that the two vectors can be summed and we can combine the semantic content from the word embeddings and positional information from the positional encodings.</p>\n",
    "\n",
    "<p style = \"font-family: 'Helvetica Neue', Arial, sans-serif; text-align: left; font-size: 17.5px\">In the <code>PositionalEncoding</code> class below, we will create a matrix of positional encodings <code>pe</code> with dimensions <code>(seq_len, d_model)</code>. We will start by filling it with $0$s.We will then apply the sine function to even indices of the positional encoding matrix while the cosine function is applied to the odd ones.</p>\n",
    "\n",
    "<p style=\"\n",
    "    margin-bottom: 5;\n",
    "    font-size: 22px;\n",
    "    font-weight: 300;\n",
    "    font-family: 'Helvetica Neue', sans-serif;\n",
    "    color: #000000;\n",
    "  \">\n",
    "    \\begin{equation}\n",
    "    \\text{Odd Indices } (2i + 1): \\quad \\text{PE(pos, } 2i + 1) = \\cos\\left(\\frac{\\text{pos}}{10000^{2i / d_{model}}}\\right)\n",
    "    \\end{equation}\n",
    "</p>\n",
    "\n",
    "<p style = \"font-family: 'Helvetica Neue', Arial, sans-serif; text-align: left; font-size: 17.5px\">We apply the sine and cosine functions because it allows the model to determine the position of a word based on the position of other words in the sequence, since for any fixed offset $k$, $PE_{pos + k}$ can be represented as a linear function of $PE_{pos}$. This happens due to the properties of sine and cosine functions, where a shift in the input results in a predictable change in the output.</p>"
   ]
  },
  {
   "cell_type": "code",
   "execution_count": 6,
   "metadata": {
    "id": "4ZG5DhVcrVVm"
   },
   "outputs": [],
   "source": [
    "######################  TODO  ########################\n",
    "######################  TODO  ########################\n",
    "\n",
    "# - Create a `PositionalEncoding` class inheriting from `nn.Module`\n",
    "# - Initialize with `d_model`, `seq_len`, and `dropout`\n",
    "# - Generate a positional encoding matrix using sine and cosine functions\n",
    "# - Register the positional encoding as a non-trainable buffer\n",
    "# - In `forward`, add positional encoding to input and apply dropout\n",
    "\n",
    "######################  TODO  ########################\n",
    "######################  TODO  ########################\n",
    "\n",
    "class PositionalEncoding(nn.Module):\n",
    "    def __init__(self, d_model, seq_len, dropout):\n",
    "        super().__init__()\n",
    "        self.dropout = nn.Dropout(dropout)\n",
    "        pe = torch.zeros(seq_len, d_model)\n",
    "        position = torch.arange(0, seq_len, dtype=torch.float).unsqueeze(1)\n",
    "        div_term = torch.exp(torch.arange(0, d_model, 2).float() * (-math.log(10000.0) / d_model))\n",
    "        pe[:, 0::2] = torch.sin(position * div_term)\n",
    "        pe[:, 1::2] = torch.cos(position * div_term)\n",
    "        self.register_buffer(\"pe\", pe)\n",
    "\n",
    "    def forward(self, x):\n",
    "        x = x + self.pe[: x.size(1)].unsqueeze(0)\n",
    "        return self.dropout(x)"
   ]
  },
  {
   "cell_type": "markdown",
   "metadata": {
    "id": "T92iydQErh-P"
   },
   "source": [
    "## Part 3: layer normalization\n",
    "<p style = \"font-family: 'Helvetica Neue', Arial, sans-serif; text-align: left; font-size: 17.5px\">When we look at the encoder and decoder blocks, we see several normalization layers called <b><i>Add &amp; Norm</i></b>.</p>\n",
    "\n",
    "<p style = \"font-family: 'Helvetica Neue', Arial, sans-serif; text-align: left; font-size: 17.5px\">The <code>LayerNormalization</code> class below performs layer normalization on the input data. During its forward pass, we compute the mean and standard deviation of the input data. We then normalize the input data by subtracting the mean and dividing by the standard deviation plus a small number called epsilon to avoid any divisions by zero. This process results in a normalized output with a mean 0 and a standard deviation 1.</p>\n",
    "\n",
    "<p style = \"font-family: 'Helvetica Neue', Arial, sans-serif; text-align: left; font-size: 17.5px\">We will then scale the normalized output by a learnable parameter <code>alpha</code> and add a learnable parameter called <code>bias</code>. The training process is responsible for adjusting these parameters. The final result is a layer-normalized tensor, which ensures that the scale of the inputs to layers in the network is consistent.</p>"
   ]
  },
  {
   "cell_type": "code",
   "execution_count": 7,
   "metadata": {
    "id": "kVGQRsmKrwZu"
   },
   "outputs": [],
   "source": [
    "######################  TODO  ########################\n",
    "######################  TODO  ########################\n",
    "\n",
    "# - Create a `LayerNormalization` class inheriting from `nn.Module`\n",
    "# - Initialize with `eps` (small value to prevent division by zero)\n",
    "# - Define trainable parameters:\n",
    "#   1. `alpha`: Scaling factor initialized to 1\n",
    "#   2. `bias`: Offset initialized to 0\n",
    "\n",
    "# - In `forward`, perform layer normalization:\n",
    "#   1. Compute mean and standard deviation along the last dimension\n",
    "#   2. Normalize the input using the computed mean and std\n",
    "#   3. Scale and shift using `alpha` and `bias`\n",
    "\n",
    "######################  TODO  ########################\n",
    "######################  TODO  ########################\n",
    "\n",
    "class LayerNormalization(nn.Module):\n",
    "    def __init__(self, d_model, eps=1e-6):\n",
    "        super().__init__()\n",
    "        self.eps = eps\n",
    "        self.alpha = nn.Parameter(torch.ones(d_model))\n",
    "        self.bias = nn.Parameter(torch.zeros(d_model))\n",
    "\n",
    "    def forward(self, x):\n",
    "        mean = x.mean(dim=-1, keepdim=True)\n",
    "        std = x.std(dim=-1, keepdim=True)\n",
    "        return self.alpha * (x - mean) / (std + self.eps) + self.bias"
   ]
  },
  {
   "cell_type": "markdown",
   "metadata": {
    "id": "U-IbSGQMr1Ye"
   },
   "source": [
    "## Part 4: Feed Forward Network\n",
    "<p style = \"font-family: 'Helvetica Neue', Arial, sans-serif; text-align: left; font-size: 17.5px\">In the fully connected feed-forward network, we apply two linear transformations with a ReLU activation in between. We can mathematically represent this operation as:</p>\n",
    "\n",
    "<p style=\"\n",
    "    margin-bottom: 5;\n",
    "    font-size: 22px;\n",
    "    font-weight: 300;\n",
    "    font-family: 'Helvetica Neue', sans-serif;\n",
    "    color: #000000;\n",
    "  \">\n",
    "    \\begin{equation}\n",
    "    \\text{FFN}(x) = \\max(0, xW_1 + b_1)W_2 + b_2\n",
    "    \\end{equation}\n",
    "</p>\n",
    "\n",
    "\n",
    "<p style = \"font-family: 'Helvetica Neue', Arial, sans-serif; text-align: left; font-size: 17.5px\">$W_1$ and $W_2$ are the weights, while $b_1$ and $b_2$ are the biases of the two linear transformations.</p>\n",
    "\n",
    "<p style = \"font-family: 'Helvetica Neue', Arial, sans-serif; text-align: left; font-size: 17.5px\">In the <code>FeedForwardBlock</code> below, we will define the two linear transformations—<code>self.linear_1</code> and <code>self.linear_2</code>—and the inner-layer <code>d_ff</code>. The input data will first pass through the <code>self.linear_1</code> transformation, which increases its dimensionality from <code>d_model</code> to <code>d_ff</code>. The output of this operation passes through the ReLU activation function, which introduces non-linearity so the network can learn more complex patterns, and the <code>self.dropout</code> layer is applied to mitigate overfitting. The final operation is the <code>self.linear_2</code> transformation to the dropout-modified tensor, which transforms it back to the original <code>d_model</code> dimension.</p>"
   ]
  },
  {
   "cell_type": "code",
   "execution_count": 8,
   "metadata": {
    "id": "N3H8kyccsEUW"
   },
   "outputs": [],
   "source": [
    "######################  TODO  ########################\n",
    "######################  TODO  ########################\n",
    "\n",
    "# - Create a `FeedForwardBlock` class inheriting from `nn.Module`\n",
    "# - Initialize with `d_model`, `d_ff`, and `dropout`\n",
    "# - Define:\n",
    "#   1. `linear_1`: Linear layer projecting from `d_model` to `d_ff`\n",
    "#   2. Dropout layer for regularization\n",
    "#   3. `linear_2`: Linear layer projecting back from `d_ff` to `d_model`\n",
    "\n",
    "# - In `forward`, apply the following steps:\n",
    "#   1. Pass input through `linear_1` followed by ReLU activation\n",
    "#   2. Apply dropout\n",
    "#   3. Pass through `linear_2` to return to original dimensions\n",
    "\n",
    "######################  TODO  ########################\n",
    "######################  TODO  ########################\n",
    "\n",
    "class FeedForwardBlock(nn.Module):\n",
    "    def __init__(self, d_model, d_ff, dropout):\n",
    "        super().__init__()\n",
    "        self.linear_1 = nn.Linear(d_model, d_ff)\n",
    "        self.dropout = nn.Dropout(dropout)\n",
    "        self.linear_2 = nn.Linear(d_ff, d_model)\n",
    "\n",
    "    def forward(self, x):\n",
    "        x = self.linear_1(x)\n",
    "        x = F.relu(x)\n",
    "        x = self.dropout(x)\n",
    "        x = self.linear_2(x)\n",
    "        return x"
   ]
  },
  {
   "cell_type": "markdown",
   "metadata": {
    "id": "YEa1kF6csIvV"
   },
   "source": [
    "## Part 5: Multi Head Attention\n",
    "<p style = \"font-family: 'Helvetica Neue', Arial, sans-serif; text-align: left; font-size: 17.5px\">The Multi-Head Attention is the most crucial component of the Transformer. It is responsible for helping the model to understand complex relationships and patterns in the data.</p>\n",
    "\n",
    "<p style = \"font-family: 'Helvetica Neue', Arial, sans-serif; text-align: left; font-size: 17.5px\">The image below displays how the Multi-Head Attention works. It doesn't include <code>batch</code> dimension because it only illustrates the process for one single sentence.</p>\n",
    "\n",
    "<p style = \"font-family: 'Helvetica Neue', Arial, sans-serif; text-align: left; font-size: 17.5px\">The Multi-Head Attention block receives the input data split into queries, keys, and values organized into matrices $Q$, $K$, and $V$. Each matrix contains different facets of the input, and they have the same dimensions as the input.</p>\n",
    "\n",
    "<p style = \"font-family: 'Helvetica Neue', Arial, sans-serif; text-align: left; font-size: 17.5px\">We then linearly transform each matrix by their respective weight matrices $W^Q$, $W^K$, and $W^V$. These transformations will result in new matrices $Q'$, $K'$, and $V'$, which will be split into smaller matrices corresponding to different heads $h$, allowing the model to attend to information from different representation subspaces in parallel. This split creates multiple sets of queries, keys, and values for each head.</p>\n",
    "\n",
    "<p style = \"font-family: 'Helvetica Neue', Arial, sans-serif; text-align: left; font-size: 17.5px\">Finally, we concatenate every head into an $H$ matrix, which is then transformed by another weight matrix $W^o$ to produce the multi-head attention output, a matrix $MH-A$ that retains the input dimensionality.</p>"
   ]
  },
  {
   "cell_type": "code",
   "execution_count": 9,
   "metadata": {
    "id": "6ujcqPp1sOU9"
   },
   "outputs": [],
   "source": [
    "######################  TODO  ########################\n",
    "######################  TODO  ########################\n",
    "\n",
    "# - Create a `MultiHeadAttentionBlock` class inheriting from `nn.Module`\n",
    "# - Initialize with `d_model` (model dimensions), `h` (number of heads), and `dropout`:\n",
    "#   1. Assert `d_model` is divisible by `h`\n",
    "#   2. Define `d_k` as dimensions per head\n",
    "#   3. Create weight matrices (`w_q`, `w_k`, `w_v`, `w_o`) for query, key, value, and output\n",
    "#   4. Add a dropout layer for regularization\n",
    "\n",
    "# - Implement a static `attention` method to:\n",
    "#   1. Compute scaled dot-product attention\n",
    "#   2. Apply mask if provided\n",
    "#   3. Apply softmax and dropout\n",
    "#   4. Return weighted values and attention scores\n",
    "\n",
    "# - In `forward`, perform:\n",
    "#   1. Linear transformation of input into query, key, and value\n",
    "#   2. Split into `h` heads and rearrange dimensions\n",
    "#   3. Compute attention output and scores using `attention`\n",
    "#   4. Combine heads and apply output weight matrix\n",
    "\n",
    "######################  TODO  ########################\n",
    "######################  TODO  ########################\n",
    "\n",
    "class MultiHeadAttentionBlock(nn.Module):\n",
    "    def __init__(self, d_model, h, dropout):\n",
    "        super().__init__()\n",
    "        assert d_model % h == 0\n",
    "        self.d_model = d_model\n",
    "        self.h = h\n",
    "        self.d_k = d_model // h\n",
    "        self.w_q = nn.Linear(d_model, d_model)\n",
    "        self.w_k = nn.Linear(d_model, d_model)\n",
    "        self.w_v = nn.Linear(d_model, d_model)\n",
    "        self.w_o = nn.Linear(d_model, d_model)\n",
    "        self.dropout = nn.Dropout(dropout)\n",
    "\n",
    "    @staticmethod\n",
    "    def attention(q, k, v, mask, dropout):\n",
    "        scores = torch.matmul(q, k.transpose(-2, -1)) / math.sqrt(q.size(-1))\n",
    "        if mask is not None:\n",
    "            scores = scores.masked_fill(mask == 0, float('-inf'))\n",
    "        attn = F.softmax(scores, dim=-1)\n",
    "        if dropout is not None:\n",
    "            attn = dropout(attn)\n",
    "        output = torch.matmul(attn, v)\n",
    "        return output, attn\n",
    "\n",
    "    def forward(self, query, key, value, mask=None):\n",
    "        bsz = query.size(0)\n",
    "        q = self.w_q(query).view(bsz, -1, self.h, self.d_k).transpose(1, 2)\n",
    "        k = self.w_k(key).view(bsz, -1, self.h, self.d_k).transpose(1, 2)\n",
    "        v = self.w_v(value).view(bsz, -1, self.h, self.d_k).transpose(1, 2)\n",
    "        x, attn = self.attention(q, k, v, mask, self.dropout)\n",
    "        x = x.transpose(1, 2).contiguous().view(bsz, -1, self.d_model)\n",
    "        x = self.w_o(x)\n",
    "        return x, attn"
   ]
  },
  {
   "cell_type": "markdown",
   "metadata": {
    "id": "wCaLjCVxsWIc"
   },
   "source": [
    "## Part 6: Residual Connection\n",
    "<p style = \"font-family: 'Helvetica Neue', Arial, sans-serif; text-align: left; font-size: 17.5px\">When we look at the architecture of the Transformer, we see that each sub-layer, including the <i>self-attention</i> and <i>Feed Forward</i> blocks, adds its output to its input before passing it to the <i>Add &amp; Norm</i> layer. This approach integrates the output with the original input in the <i>Add &amp; Norm</i> layer. This process is known as the skip connection, which allows the Transformer to train deep networks more effectively by providing a shortcut for the gradient to flow through during backpropagation.</p>\n",
    "\n",
    "<p style = \"font-family: 'Helvetica Neue', Arial, sans-serif; text-align: left; font-size: 17.5px\">The <code>ResidualConnection</code> class below is responsible for this process.</p>"
   ]
  },
  {
   "cell_type": "code",
   "execution_count": null,
   "metadata": {
    "id": "f-bvuGhIsdfu"
   },
   "outputs": [],
   "source": [
    "######################  TODO  ########################\n",
    "######################  TODO  ########################\n",
    "\n",
    "# - Create a `ResidualConnection` class inheriting from `nn.Module`\n",
    "# - Initialize with `dropout`:\n",
    "#   1. Add a dropout layer for regularization\n",
    "#   2. Include a layer normalization instance\n",
    "\n",
    "# - In `forward`:\n",
    "#   1. Normalize the input using the normalization layer\n",
    "#   2. Pass the normalized input through the sublayer\n",
    "#   3. Apply dropout and add the result back to the original input for residual connection\n",
    "\n",
    "######################  TODO  ########################\n",
    "######################  TODO  ########################\n",
    "\n",
    "class ResidualConnection(nn.Module):\n",
    "    def __init__(self, d_model, dropout):\n",
    "        super().__init__()\n",
    "        self.norm = nn.LayerNorm(d_model)\n",
    "        self.dropout = nn.Dropout(dropout)\n",
    "\n",
    "    def forward(self, x, sublayer):\n",
    "        nx = self.norm(x)\n",
    "        sx = sublayer(nx)\n",
    "        sx = self.dropout(sx)\n",
    "        return x + sx"
   ]
  },
  {
   "cell_type": "markdown",
   "metadata": {
    "id": "9YYI5vpasdGm"
   },
   "source": [
    "## Part 7: Encoder\n",
    "<p style = \"font-family: 'Helvetica Neue', Arial, sans-serif; text-align: left; font-size: 17.5px\">We will now build the encoder. We create the <code>EncoderBlock</code> class, consisting of the Multi-Head Attention and Feed Forward layers, plus the residual connections.</p>\n",
    "\n",
    "<p style = \"font-family: 'Helvetica Neue', Arial, sans-serif; text-align: left; font-size: 17.5px\">In the original paper, the Encoder Block repeats six times. We create the <code>Encoder</code> class as an assembly of multiple <code>EncoderBlock</code>s. We also add layer normalization as a final step after processing the input through all its blocks.</p>"
   ]
  },
  {
   "cell_type": "code",
   "execution_count": null,
   "metadata": {
    "id": "fRtppwE1s0-t"
   },
   "outputs": [],
   "source": [
    "######################  TODO  ########################\n",
    "######################  TODO  ########################\n",
    "\n",
    "# - Create an `EncoderBlock` class inheriting from `nn.Module`\n",
    "# - Initialize with:\n",
    "#   1. `self_attention_block`: Multi-head attention block\n",
    "#   2. `feed_forward_block`: Feed-forward block\n",
    "#   3. `dropout`: Dropout rate for residual connections\n",
    "# - Define two residual connections for:\n",
    "#   1. Self-attention block\n",
    "#   2. Feed-forward block\n",
    "\n",
    "# - In `forward`:\n",
    "#   1. Apply the first residual connection with the self-attention block\n",
    "#   2. Apply the second residual connection with the feed-forward block\n",
    "#   3. Return the updated tensor after both layers\n",
    "\n",
    "######################  TODO  ########################\n",
    "######################  TODO  ########################\n",
    "\n",
    "class EncoderBlock(nn.Module):\n",
    "    def __init__(self, d_model, h, d_ff, dropout):\n",
    "        super().__init__()\n",
    "        self.self_attention = MultiHeadAttentionBlock(d_model, h, dropout)\n",
    "        self.feed_forward = FeedForwardBlock(d_model, d_ff, dropout)\n",
    "        self.residual_1 = ResidualConnection(d_model, dropout)\n",
    "        self.residual_2 = ResidualConnection(d_model, dropout)\n",
    "\n",
    "    def forward(self, x, src_mask=None):\n",
    "        x = self.residual_1(x, lambda _x: self.self_attention(_x, _x, _x, src_mask)[0])\n",
    "        x = self.residual_2(x, self.feed_forward)\n",
    "        return x"
   ]
  },
  {
   "cell_type": "code",
   "execution_count": null,
   "metadata": {
    "id": "eSq7BZWcs5s1"
   },
   "outputs": [],
   "source": [
    "######################  TODO  ########################\n",
    "######################  TODO  ########################\n",
    "\n",
    "# - Create an `Encoder` class inheriting from `nn.Module`\n",
    "# - Initialize with:\n",
    "#   1. `layers`: A list of `EncoderBlock` instances\n",
    "#   2. A layer normalization instance for output normalization\n",
    "\n",
    "# - In `forward`:\n",
    "#   1. Pass the input tensor `x` through each `EncoderBlock` in `self.layers`\n",
    "#   2. Apply the mask during each block's forward pass\n",
    "#   3. Normalize the final output and return it\n",
    "\n",
    "######################  TODO  ########################\n",
    "######################  TODO  ########################\n",
    "\n",
    "class Encoder(nn.Module):\n",
    "    def __init__(self, d_model, h, d_ff, dropout, N):\n",
    "        super().__init__()\n",
    "        self.layers = nn.ModuleList([EncoderBlock(d_model, h, d_ff, dropout) for _ in range(N)])\n",
    "        self.norm = nn.LayerNorm(d_model)\n",
    "\n",
    "    def forward(self, x, src_mask=None):\n",
    "        for layer in self.layers:\n",
    "            x = layer(x, src_mask)\n",
    "        x = self.norm(x)\n",
    "        return x"
   ]
  },
  {
   "cell_type": "markdown",
   "metadata": {
    "id": "P0HXE1fH5g0W"
   },
   "source": [
    "## Part 8: Decoder\n",
    "<p style = \"font-family: 'Helvetica Neue', Arial, sans-serif; text-align: left; font-size: 17.5px\">Similarly, the Decoder also consists of several DecoderBlocks that repeat six times in the original paper. The main difference is that it has an additional sub-layer that performs multi-head attention with a <i>cross-attention</i> component that uses the output of the Encoder as its keys and values while using the Decoder's input as queries.</p>\n",
    "\n",
    "<p style = \"font-family: 'Helvetica Neue', Arial, sans-serif; text-align: left; font-size: 17.5px\">For the Output Embedding, we can use the same <code>InputEmbeddings</code> class we use for the Encoder. You can also notice that the self-attention sub-layer is <i>masked</i>, which restricts the model from accessing future elements in the sequence.</p>\n",
    "\n",
    "<p style = \"font-family: 'Helvetica Neue', Arial, sans-serif; text-align: left; font-size: 17.5px\">We will start by building the <code>DecoderBlock</code> class, and then we will build the <code>Decoder</code> class, which will assemble multiple <code>DecoderBlock</code>s.</p>"
   ]
  },
  {
   "cell_type": "code",
   "execution_count": null,
   "metadata": {
    "id": "V9Aof9mb4PJX"
   },
   "outputs": [],
   "source": [
    "######################  TODO  ########################\n",
    "######################  TODO  ########################\n",
    "\n",
    "# - Create a `DecoderBlock` class inheriting from `nn.Module`\n",
    "# - Initialize with:\n",
    "#   1. `self_attention_block`: Multi-head self-attention block\n",
    "#   2. `cross_attention_block`: Multi-head cross-attention block\n",
    "#   3. `feed_forward_block`: Feed-forward block\n",
    "#   4. `dropout`: Dropout rate\n",
    "# - Define three residual connections for:\n",
    "#   1. Self-attention block\n",
    "#   2. Cross-attention block\n",
    "#   3. Feed-forward block\n",
    "\n",
    "# - In `forward`:\n",
    "#   1. Apply the self-attention block with target mask and residual connection\n",
    "#   2. Apply the cross-attention block with source mask and residual connection\n",
    "#   3. Apply the feed-forward block with residual connection\n",
    "#   4. Return the updated tensor\n",
    "\n",
    "######################  TODO  ########################\n",
    "######################  TODO  ########################\n",
    "\n",
    "class DecoderBlock(nn.Module):\n",
    "    def __init__(self, d_model, h, d_ff, dropout):\n",
    "        super().__init__()\n",
    "        self.self_attention = MultiHeadAttentionBlock(d_model, h, dropout)\n",
    "        self.cross_attention = MultiHeadAttentionBlock(d_model, h, dropout)\n",
    "        self.feed_forward = FeedForwardBlock(d_model, d_ff, dropout)\n",
    "        self.residual_1 = ResidualConnection(d_model, dropout)\n",
    "        self.residual_2 = ResidualConnection(d_model, dropout)\n",
    "        self.residual_3 = ResidualConnection(d_model, dropout)\n",
    "\n",
    "    def forward(self, x, encoder_output, tgt_mask=None, src_mask=None):\n",
    "        x = self.residual_1(x, lambda _x: self.self_attention(_x, _x, _x, tgt_mask)[0])\n",
    "        x = self.residual_2(x, lambda _x: self.cross_attention(_x, encoder_output, encoder_output, src_mask)[0])\n",
    "        x = self.residual_3(x, self.feed_forward)\n",
    "        return x"
   ]
  },
  {
   "cell_type": "code",
   "execution_count": null,
   "metadata": {
    "id": "vwdthvkrtNUM"
   },
   "outputs": [],
   "source": [
    "######################  TODO  ########################\n",
    "######################  TODO  ########################\n",
    "\n",
    "# - Create a `Decoder` class inheriting from `nn.Module`\n",
    "# - Initialize with:\n",
    "#   1. `layers`: A list of `DecoderBlock` instances\n",
    "#   2. A layer normalization instance for the final output\n",
    "\n",
    "# - In `forward`:\n",
    "#   1. Pass the input tensor `x` through each `DecoderBlock` in `self.layers`\n",
    "#   2. Provide `encoder_output`, `src_mask`, and `tgt_mask` to each block\n",
    "#   3. Normalize the final output using the layer normalization\n",
    "#   4. Return the normalized output\n",
    "\n",
    "######################  TODO  ########################\n",
    "######################  TODO  ########################\n",
    "\n",
    "class Decoder(nn.Module):\n",
    "    def __init__(self, d_model, h, d_ff, dropout, N):\n",
    "        super().__init__()\n",
    "        self.layers = nn.ModuleList([DecoderBlock(d_model, h, d_ff, dropout) for _ in range(N)])\n",
    "        self.norm = nn.LayerNorm(d_model)\n",
    "\n",
    "    def forward(self, x, encoder_output, src_mask=None, tgt_mask=None):\n",
    "        for layer in self.layers:\n",
    "            x = layer(x, encoder_output, tgt_mask, src_mask)\n",
    "        x = self.norm(x)\n",
    "        return x"
   ]
  },
  {
   "cell_type": "markdown",
   "metadata": {
    "id": "Qm4g_8O1tS3d"
   },
   "source": [
    "<p style = \"font-family: 'Helvetica Neue', Arial, sans-serif; text-align: left; font-size: 17.5px\">You can see in the Decoder image that after running a stack of <code>DecoderBlock</code>s, we have a Linear Layer and a Softmax function to the output of probabilities. The <code>ProjectionLayer</code> class below is responsible for converting the output of the model into a probability distribution over the <i>vocabulary</i>, where we select each output token from a vocabulary of possible tokens.</p>"
   ]
  },
  {
   "cell_type": "code",
   "execution_count": null,
   "metadata": {
    "id": "UbWVoNintThN"
   },
   "outputs": [],
   "source": [
    "######################  TODO  ########################\n",
    "######################  TODO  ########################\n",
    "\n",
    "# - Create a `ProjectionLayer` class inheriting from `nn.Module`\n",
    "# - Initialize with:\n",
    "#   1. `d_model`: Dimension of the model\n",
    "#   2. `vocab_size`: Size of the output vocabulary\n",
    "# - Define a linear layer to project from `d_model` to `vocab_size`\n",
    "\n",
    "# - In `forward`:\n",
    "#   1. Pass the input through the linear layer\n",
    "#   2. Apply log Softmax along the last dimension\n",
    "#   3. Return the log probabilities\n",
    "\n",
    "######################  TODO  ########################\n",
    "######################  TODO  ########################\n",
    "\n",
    "class ProjectionLayer(nn.Module):\n",
    "    def __init__(self, d_model, vocab_size):\n",
    "        super().__init__()\n",
    "        self.proj = nn.Linear(d_model, vocab_size)\n",
    "\n",
    "    def forward(self, x):\n",
    "        x = self.proj(x)\n",
    "        x = F.log_softmax(x, dim=-1)\n",
    "        return x"
   ]
  },
  {
   "cell_type": "markdown",
   "metadata": {
    "id": "waCzPEAxtaR8"
   },
   "source": [
    "## Part 9: Building the Transformer\n",
    "\n",
    "<p style = \"font-family: 'Helvetica Neue', Arial, sans-serif; text-align: left; font-size: 17.5px\">We finally have every component of the Transformer architecture ready. We may now construct the Transformer by putting it all together.</p>\n",
    "\n",
    "<p style = \"font-family: 'Helvetica Neue', Arial, sans-serif; text-align: left; font-size: 17.5px\">In the <code>Transformer</code> class below, we will bring together all the components of the model's architecture.</p>"
   ]
  },
  {
   "cell_type": "code",
   "execution_count": null,
   "metadata": {
    "id": "qXbPW4oCtk2G"
   },
   "outputs": [],
   "source": [
    "######################  TODO  ########################\n",
    "######################  TODO  ########################\n",
    "\n",
    "# - Create a `Transformer` class inheriting from `nn.Module`\n",
    "# - Initialize with:\n",
    "#   1. `encoder`: Encoder module\n",
    "#   2. `decoder`: Decoder module\n",
    "#   3. `src_embed` and `tgt_embed`: Input embeddings for source and target languages\n",
    "#   4. `src_pos` and `tgt_pos`: Positional encodings for source and target languages\n",
    "#   5. `projection_layer`: Linear projection layer for final output\n",
    "\n",
    "# - Define the `encode` method:\n",
    "#   1. Apply source embeddings to input\n",
    "#   2. Add positional encoding\n",
    "#   3. Pass through the encoder with the source mask\n",
    "#   4. Return the encoded representation\n",
    "\n",
    "# - Define the `decode` method:\n",
    "#   1. Apply target embeddings to input\n",
    "#   2. Add positional encoding\n",
    "#   3. Pass through the decoder with encoder output, source mask, and target mask\n",
    "#   4. Return the decoder's output\n",
    "\n",
    "# - Define the `project` method:\n",
    "#   1. Pass decoder output through the projection layer\n",
    "#   2. Apply log Softmax to obtain probabilities\n",
    "\n",
    "######################  TODO  ########################\n",
    "######################  TODO  ########################\n",
    "\n",
    "class Transformer(nn.Module):\n",
    "    def __init__(self, encoder, decoder, src_embed, tgt_embed, src_pos, tgt_pos, projection_layer):\n",
    "        super().__init__()\n",
    "        self.encoder = encoder\n",
    "        self.decoder = decoder\n",
    "        self.src_embed = src_embed\n",
    "        self.tgt_embed = tgt_embed\n",
    "        self.src_pos = src_pos\n",
    "        self.tgt_pos = tgt_pos\n",
    "        self.projection_layer = projection_layer\n",
    "\n",
    "    def encode(self, src, src_mask=None):\n",
    "        x = self.src_embed(src)\n",
    "        x = self.src_pos(x)\n",
    "        x = self.encoder(x, src_mask)\n",
    "        return x\n",
    "\n",
    "    def decode(self, tgt, encoder_output, src_mask=None, tgt_mask=None):\n",
    "        x = self.tgt_embed(tgt)\n",
    "        x = self.tgt_pos(x)\n",
    "        x = self.decoder(x, encoder_output, src_mask, tgt_mask)\n",
    "        return x\n",
    "\n",
    "    def project(self, x):\n",
    "        return self.projection_layer(x)"
   ]
  },
  {
   "cell_type": "markdown",
   "metadata": {
    "id": "6znypMaetmRk"
   },
   "source": [
    "<p style = \"font-family: 'Helvetica Neue', Arial, sans-serif; text-align: left; font-size: 17.5px\">The architecture is finally ready. We now define a function called <code>build_transformer</code>, in which we define the parameters and everything we need to have a fully operational Transformer model for the task of <b>machine translation</b>.</p>\n",
    "\n",
    "<p style = \"font-family: 'Helvetica Neue', Arial, sans-serif; text-align: left; font-size: 17.5px\">We will set the same parameters as in the original paper, <a href = \"https://arxiv.org/pdf/1706.03762.pdf\"><i>Attention Is All You Need</i></a>, where $d_{model}$ = 512, $N$ = 6, $h$ = 8, dropout rate $P_{drop}$ = 0.1, and $d_{ff}$ = 2048.</p>"
   ]
  },
  {
   "cell_type": "code",
   "execution_count": null,
   "metadata": {
    "id": "bqGnJ6w2twJc"
   },
   "outputs": [],
   "source": [
    "######################  TODO  ########################\n",
    "######################  TODO  ########################\n",
    "\n",
    "# - Define a `build_transformer` function with parameters for:\n",
    "#   1. Vocabulary sizes (`src_vocab_size`, `tgt_vocab_size`)\n",
    "#   2. Sequence lengths (`src_seq_len`, `tgt_seq_len`)\n",
    "#   3. Model dimensions (`d_model`, `d_ff`)\n",
    "#   4. Number of layers (`N`) and heads (`h`)\n",
    "#   5. Dropout rate (`dropout`)\n",
    "\n",
    "# - Create:\n",
    "#   1. Source and target embedding layers\n",
    "#   2. Positional encoding layers for source and target\n",
    "#   3. Encoder blocks with self-attention and feed-forward layers\n",
    "#   4. Decoder blocks with self-attention, cross-attention, and feed-forward layers\n",
    "#   5. Encoder and Decoder modules using the blocks\n",
    "#   6. Projection layer to map decoder output to target vocabulary\n",
    "\n",
    "# - Assemble all components into a `Transformer` instance\n",
    "# - Initialize parameters with Xavier uniform initialization\n",
    "# - Return the initialized Transformer\n",
    "\n",
    "######################  TODO  ########################\n",
    "######################  TODO  ########################\n",
    "\n",
    "def build_transformer(\n",
    "    src_vocab_size,\n",
    "    tgt_vocab_size,\n",
    "    src_seq_len=100,\n",
    "    tgt_seq_len=100,\n",
    "    d_model=512,\n",
    "    d_ff=2048,\n",
    "    N=6,\n",
    "    h=8,\n",
    "    dropout=0.1\n",
    "):\n",
    "    src_embed = nn.Embedding(src_vocab_size, d_model)\n",
    "    tgt_embed = nn.Embedding(tgt_vocab_size, d_model)\n",
    "\n",
    "    src_pos = nn.Sequential(\n",
    "        nn.Dropout(dropout),\n",
    "        PositionalEncoding(d_model, src_seq_len, dropout)\n",
    "    )\n",
    "\n",
    "    tgt_pos = nn.Sequential(\n",
    "        nn.Dropout(dropout),\n",
    "        PositionalEncoding(d_model, tgt_seq_len, dropout)\n",
    "    )\n",
    "\n",
    "    encoder = Encoder(d_model, h, d_ff, dropout, N)\n",
    "    decoder = Decoder(d_model, h, d_ff, dropout, N)\n",
    "    projection_layer = ProjectionLayer(d_model, tgt_vocab_size)\n",
    "    model = Transformer(encoder, decoder, src_embed, tgt_embed, src_pos, tgt_pos, projection_layer)\n",
    "\n",
    "    for p in model.parameters():\n",
    "        if p.dim() > 1:\n",
    "            nn.init.xavier_uniform_(p)\n",
    "\n",
    "    return model"
   ]
  },
  {
   "cell_type": "markdown",
   "metadata": {
    "id": "Iw7CWf4bt3yr"
   },
   "source": [
    "The model is now ready to be trained!"
   ]
  },
  {
   "cell_type": "markdown",
   "metadata": {
    "id": "6_7Z3fEYuTK0"
   },
   "source": [
    "## Part 10: Tokenizer"
   ]
  },
  {
   "cell_type": "markdown",
   "metadata": {
    "id": "EDinqTghqr_Q"
   },
   "source": [
    "<p style = \"font-family: 'Helvetica Neue', Arial, sans-serif; text-align: left; font-size: 17.5px\">Tokenization is a crucial preprocessing step for our Transformer model. In this step, we convert raw text into a number format that the model can process.  </p>\n",
    "\n",
    "<p style = \"font-family: 'Helvetica Neue', Arial, sans-serif; text-align: left; font-size: 17.5px\">There are several Tokenization strategies. We will use the <i>word-level tokenization</i> to transform each word in a sentence into a token.</p>"
   ]
  },
  {
   "cell_type": "markdown",
   "metadata": {
    "id": "at-cYYjnqr_Q"
   },
   "source": [
    "<center>\n",
    "    <img src = \"https://substackcdn.com/image/fetch/f_auto,q_auto:good,fl_progressive:steep/https%3A%2F%2Fbucketeer-e05bbc84-baa3-437e-9518-adb32be77984.s3.amazonaws.com%2Fpublic%2Fimages%2F8d5e749c-b0bd-4496-85a1-9b4397ad935f_1400x787.jpeg\" width = 800, height= 800>\n",
    "<p style = \"font-size: 16px;\n",
    "            font-family: 'Georgia', serif;\n",
    "            text-align: center;\n",
    "            margin-top: 10px;\">Different tokenization strategies. Source: <a href = \"https://shaankhosla.substack.com/p/talking-tokenization\">shaankhosla.substack.com</a>.</p>\n",
    "</center>"
   ]
  },
  {
   "cell_type": "markdown",
   "metadata": {
    "id": "gjRMr2N6qr_Q"
   },
   "source": [
    "<p style = \"font-family: 'Helvetica Neue', Arial, sans-serif; text-align: left; font-size: 17.5px\">After tokenizing a sentence, we map each token to an unique integer ID based on the created vocabulary present in the training corpus during the training of the tokenizer. Each integer number represents a specific word in the vocabulary.</p>\n",
    "\n",
    "<p style = \"font-family: 'Helvetica Neue', Arial, sans-serif; text-align: left; font-size: 17.5px\">Besides the words in the training corpus, Transformers use special tokens for specific purposes. These are some that we will define right away:</p>\n",
    "\n",
    "<p style = \"font-family: 'Helvetica Neue', Arial, sans-serif; text-align: left; font-size: 17.5px\"><b>• [UNK]:</b> This token is used to identify an unknown word in the sequence.</p>\n",
    "\n",
    "<p style = \"font-family: 'Helvetica Neue', Arial, sans-serif; text-align: left; font-size: 17.5px\"><b>• [PAD]:</b> Padding token to ensure that all sequences in a batch have the same length, so we pad shorter sentences with this token. We use attention masks to <i>\"tell\"</i> the model to ignore the padded tokens during training since they don't have any real meaning to the task.</p>\n",
    "\n",
    "<p style = \"font-family: 'Helvetica Neue', Arial, sans-serif; text-align: left; font-size: 17.5px\"><b>•  [SOS]:</b> This is a token used to signal the <i>Start of Sentence</i>.</p>\n",
    "\n",
    "<p style = \"font-family: 'Helvetica Neue', Arial, sans-serif; text-align: left; font-size: 17.5px\"><b>•  [EOS]:</b> This is a token used to signal the <i>End of Sentence</i>.</p>\n",
    "\n",
    "<p style = \"font-family: 'Helvetica Neue', Arial, sans-serif; text-align: left; font-size: 17.5px\">In the <code>build_tokenizer</code> function below, we ensure a tokenizer is ready to train the model. It checks if there is an existing tokenizer, and if that is not the case, it trains a new tokenizer.</p>"
   ]
  },
  {
   "cell_type": "code",
   "execution_count": null,
   "metadata": {
    "id": "Zh9pOItduxHq"
   },
   "outputs": [],
   "source": [
    "######################  TODO  ########################\n",
    "######################  TODO  ########################\n",
    "\n",
    "# - Define a `build_tokenizer` function with parameters for:\n",
    "#   1. `config`: Configuration containing tokenizer file path\n",
    "#   2. `ds`: Dataset to train the tokenizer\n",
    "#   3. `lang`: Language for which the tokenizer is built\n",
    "\n",
    "# - Check if the tokenizer file exists:\n",
    "#   1. If not, create a new tokenizer:\n",
    "#      - Initialize a word-level tokenizer with an unknown token (`[UNK]`)\n",
    "#      - Set the pre-tokenizer to split text by whitespace\n",
    "#      - Define a trainer with special tokens and minimum frequency\n",
    "#      - Train the tokenizer on all sentences in the dataset\n",
    "#      - Save the trained tokenizer to the specified file path\n",
    "#   2. If the file exists, load the tokenizer from the file\n",
    "\n",
    "# - Return the loaded or trained tokenizer\n",
    "\n",
    "######################  TODO  ########################\n",
    "######################  TODO  ########################\n",
    "\n",
    "def build_tokenizer(config, ds, lang):\n",
    "    tokenizer_path = Path(config[\"tokenizer_file\"].format(lang=lang))\n",
    "\n",
    "    if not tokenizer_path.is_file():\n",
    "        tokenizer = Tokenizer(WordLevel(unk_token=\"[UNK]\"))\n",
    "        tokenizer.pre_tokenizer = Whitespace()\n",
    "\n",
    "        trainer = WordLevelTrainer(\n",
    "            special_tokens=[\"[UNK]\", \"[PAD]\", \"[SOS]\", \"[EOS]\"],\n",
    "            min_frequency=2\n",
    "        )\n",
    "\n",
    "        all_sentences = list(get_all_sentences(ds, lang))\n",
    "        tokenizer.train_from_iterator(all_sentences, trainer=trainer)\n",
    "        tokenizer.save(str(tokenizer_path))\n",
    "    else:\n",
    "        tokenizer = Tokenizer.from_file(str(tokenizer_path))\n",
    "\n",
    "    return tokenizer"
   ]
  },
  {
   "cell_type": "markdown",
   "metadata": {
    "id": "oodlr4eouxTU"
   },
   "source": [
    "## Part 11: Load Dataset"
   ]
  },
  {
   "cell_type": "markdown",
   "metadata": {
    "id": "YdVFowgUqr_Q"
   },
   "source": [
    "<p style = \"font-family: 'Helvetica Neue', Arial, sans-serif; text-align: left; font-size: 17.5px\">For this task, we will use the <a href = \"opus_books · Datasets at Hugging Face\">OpusBooks dataset</a>, available on 🤗Hugging Face. This dataset consists of two features, <code>id</code> and <code>translation</code>. The <code>translation</code> feature contains pairs of sentences in different languages, such as Spanish and Portuguese, English and French, and so forth.</p>\n",
    "\n",
    "<p style = \"font-family: 'Helvetica Neue', Arial, sans-serif; text-align: left; font-size: 17.5px\">I first tried translating sentences from English to Portuguese—my native tongue — but there are only 1.4k examples for this pair, so the results were not satisfying in the current configurations for this model. I then tried to use the English-French pair due to its higher number of examples—127k—but it would take too long to train with the current configurations. I then opted to train the model on the English-Italian pair, the same one used in the <a href = \"https://youtu.be/ISNdQcPhsts?si=253J39cose6IdsLv\">Coding a Transformer from scratch on PyTorch, with full explanation, training and inference\n",
    "</a> video, as that was a good balance between performance and time of training.</p>\n",
    "\n",
    "<p style = \"font-family: 'Helvetica Neue', Arial, sans-serif; text-align: left; font-size: 17.5px\">We start by defining the <code>get_all_sentences</code> function to iterate over the dataset and extract the sentences according to the language pair defined—we will do that later.</p>"
   ]
  },
  {
   "cell_type": "code",
   "execution_count": null,
   "metadata": {
    "id": "xvRuuTpIveZS"
   },
   "outputs": [],
   "source": [
    "######################  TODO  ########################\n",
    "######################  TODO  ########################\n",
    "\n",
    "# - Define a `get_all_sentences` function to extract sentences from a dataset\n",
    "# - Accept parameters:\n",
    "#   1. `ds`: The dataset containing translation pairs\n",
    "#   2. `lang`: The language key to extract translations\n",
    "\n",
    "# - Iterate through the dataset:\n",
    "#   1. Access the 'translation' field of each pair\n",
    "#   2. Yield the sentence corresponding to the specified language key\n",
    "\n",
    "######################  TODO  ########################\n",
    "######################  TODO  ########################\n",
    "\n",
    "def get_all_sentences(ds, lang):\n",
    "    for item in ds:\n",
    "        yield item[\"translation\"][lang]"
   ]
  },
  {
   "cell_type": "markdown",
   "metadata": {
    "id": "EA13IRYEqr_R"
   },
   "source": [
    "<p style = \"font-family: 'Helvetica Neue', Arial, sans-serif; text-align: left; font-size: 17.5px\">The <code>get_ds</code> function is defined to load and prepare the dataset for training and validation. In this function, we build or load the tokenizer, split the dataset, and create DataLoaders, so the model can successfully iterate over the dataset in batches. The result of these functions is tokenizers for the source and target languages plus the DataLoader objects.</p>"
   ]
  },
  {
   "cell_type": "code",
   "execution_count": null,
   "metadata": {
    "id": "IkTRqP8LvpVy"
   },
   "outputs": [],
   "source": [
    "######################  TODO  ########################\n",
    "######################  TODO  ########################\n",
    "\n",
    "# - Define a `get_ds` function to process and prepare the dataset for training\n",
    "# - Load the `OpusBooks` dataset using:\n",
    "#   1. Source and target languages from `config`\n",
    "#   2. Train split of the dataset\n",
    "\n",
    "# - Build or load tokenizers for source and target languages using `build_tokenizer`\n",
    "\n",
    "# - Split the dataset into training and validation sets:\n",
    "#   1. Allocate 90% for training and 10% for validation\n",
    "#   2. Use `random_split` for randomized splitting\n",
    "\n",
    "# - Process the splits using a `BilingualDataset` class:\n",
    "#   1. Convert sentences to tokenized representations\n",
    "#   2. Apply source and target tokenizers\n",
    "#   3. Ensure sequence lengths conform to `config`\n",
    "\n",
    "# - Compute and print the maximum sentence lengths for both source and target languages\n",
    "\n",
    "# - Create DataLoader objects for training and validation:\n",
    "#   1. Define batch sizes from `config`\n",
    "#   2. Enable shuffling for training DataLoader\n",
    "\n",
    "# - Return:\n",
    "#   1. Training DataLoader\n",
    "#   2. Validation DataLoader\n",
    "#   3. Tokenizer for source language\n",
    "#   4. Tokenizer for target language\n",
    "\n",
    "######################  TODO  ########################\n",
    "######################  TODO  ########################\n",
    "\n",
    "def get_ds(config):\n",
    "    ds = load_dataset(\"opus_books\", f\"{config['lang_src']}-{config['lang_tgt']}\", split=\"train\")\n",
    "    tokenizer_src = build_tokenizer(config, ds, config[\"lang_src\"])\n",
    "    tokenizer_tgt = build_tokenizer(config, ds, config[\"lang_tgt\"])\n",
    "\n",
    "    train_size = int(len(ds) * 0.9)\n",
    "    val_size = len(ds) - train_size\n",
    "    train_ds, val_ds = random_split(ds, [train_size, val_size])\n",
    "\n",
    "    train_data = BilingualDataset(train_ds, tokenizer_src, tokenizer_tgt, config[\"lang_src\"], config[\"lang_tgt\"], config[\"seq_len\"])\n",
    "    val_data = BilingualDataset(val_ds, tokenizer_src, tokenizer_tgt, config[\"lang_src\"], config[\"lang_tgt\"], config[\"seq_len\"])\n",
    "\n",
    "    train_loader = DataLoader(train_data, batch_size=config[\"batch_size\"], shuffle=True)\n",
    "    val_loader = DataLoader(val_data, batch_size=1, shuffle=False)\n",
    "\n",
    "    max_src_len = 0\n",
    "    max_tgt_len = 0\n",
    "\n",
    "    for item in ds:\n",
    "        src_len = len(tokenizer_src.encode(item[\"translation\"][config[\"lang_src\"]]).ids) + 2\n",
    "        tgt_len = len(tokenizer_tgt.encode(item[\"translation\"][config[\"lang_tgt\"]]).ids) + 2\n",
    "\n",
    "        if src_len > max_src_len:\n",
    "            max_src_len = src_len\n",
    "\n",
    "        if tgt_len > max_tgt_len:\n",
    "            max_tgt_len = tgt_len\n",
    "\n",
    "    return train_loader, val_loader, tokenizer_src, tokenizer_tgt"
   ]
  },
  {
   "cell_type": "markdown",
   "metadata": {
    "id": "VK3d2-AVqr_R"
   },
   "source": [
    "<p style = \"font-family: 'Helvetica Neue', Arial, sans-serif; text-align: left; font-size: 17.5px\">We define the <code>casual_mask</code> function to create a mask for the attention mechanism of the decoder. This mask prevents the model from having information about future elements in the sequence. </p>\n",
    "\n",
    "<p style = \"font-family: 'Helvetica Neue', Arial, sans-serif; text-align: left; font-size: 17.5px\">We start by making a square grid filled with ones. We determine the grid size with the <code>size</code> parameter. Then, we change all the numbers above the main diagonal line to zeros. Every number on one side becomes a zero, while the rest remain ones. The function then flips all these values, turning ones into zeros and zeros into ones. This process is crucial for models that predict future tokens in a sequence.</p>"
   ]
  },
  {
   "cell_type": "code",
   "execution_count": 2,
   "metadata": {
    "id": "kTgMYaY2vvWq"
   },
   "outputs": [],
   "source": [
    "######################  TODO  ########################\n",
    "######################  TODO  ########################\n",
    "\n",
    "# - Define a `casual_mask` function to create an upper triangular mask\n",
    "# - Accept `size` as the dimension of the square matrix\n",
    "# - Steps:\n",
    "#   1. Create a square matrix of size `size x size` filled with ones\n",
    "#   2. Use `torch.triu` to make it upper triangular, with zeros below the diagonal\n",
    "#   3. Convert the matrix to integer type\n",
    "#   4. Return the mask where zeros represent the causal positions\n",
    "\n",
    "######################  TODO  ########################\n",
    "######################  TODO  ########################\n",
    "\n",
    "def casual_mask(size):\n",
    "    mask = torch.ones(size, size).triu(1)\n",
    "    mask = 1 - mask\n",
    "    return mask.int()"
   ]
  },
  {
   "cell_type": "markdown",
   "metadata": {
    "id": "ccdK5XnMqr_R"
   },
   "source": [
    "<p style = \"font-family: 'Helvetica Neue', Arial, sans-serif; text-align: left; font-size: 17.5px\">The <code>BilingualDataset</code> class processes the texts of the target and source languages in the dataset by tokenizing them and adding all the necessary special tokens. This class also certifies that the sentences are within a maximum sequence length for both languages and pads all necessary sentences.</p>"
   ]
  },
  {
   "cell_type": "code",
   "execution_count": null,
   "metadata": {
    "id": "x9v94mdgv3y6"
   },
   "outputs": [],
   "source": [
    "######################  TODO  ########################\n",
    "######################  TODO  ########################\n",
    "\n",
    "# - Define a `BilingualDataset` class inheriting from `Dataset`\n",
    "# - Initialize with:\n",
    "#   1. `ds`: Dataset containing sentence pairs\n",
    "#   2. `tokenizer_src` and `tokenizer_tgt`: Tokenizers for source and target languages\n",
    "#   3. `src_lang` and `tgt_lang`: Language identifiers\n",
    "#   4. `seq_len`: Maximum sequence length for tokens\n",
    "\n",
    "# - Define special tokens (`[SOS]`, `[EOS]`, `[PAD]`) using the target tokenizer\n",
    "\n",
    "# - Implement `__len__` to return the number of sentence pairs in the dataset\n",
    "\n",
    "# - Implement `__getitem__` to:\n",
    "#   1. Retrieve source and target texts based on the index\n",
    "#   2. Tokenize source and target texts\n",
    "#   3. Compute required padding for source and target tokens\n",
    "#   4. Raise an error if tokenized sentences exceed `seq_len`\n",
    "#   5. Build `encoder_input` by concatenating `[SOS]`, tokenized text, `[EOS]`, and padding\n",
    "#   6. Build `decoder_input` by concatenating `[SOS]`, tokenized text, and padding\n",
    "#   7. Build `label` by concatenating tokenized text, `[EOS]`, and padding\n",
    "#   8. Ensure all tensors are of length `seq_len`\n",
    "\n",
    "# - Return a dictionary containing:\n",
    "#   1. `encoder_input`: Tensor for the encoder\n",
    "#   2. `decoder_input`: Tensor for the decoder\n",
    "#   3. `encoder_mask`: Mask for non-padding tokens in the encoder\n",
    "#   4. `decoder_mask`: Mask for non-padding tokens in the decoder with causal masking\n",
    "#   5. `label`: Expected output for training\n",
    "#   6. `src_text` and `tgt_text`: Original source and target texts\n",
    "\n",
    "######################  TODO  ########################\n",
    "######################  TODO  ########################\n",
    "\n",
    "class BilingualDataset(Dataset):\n",
    "    def __init__(self, ds, tokenizer_src, tokenizer_tgt, src_lang, tgt_lang, seq_len):\n",
    "        super().__init__()\n",
    "        self.ds = ds\n",
    "        self.tokenizer_src = tokenizer_src\n",
    "        self.tokenizer_tgt = tokenizer_tgt\n",
    "        self.src_lang = src_lang\n",
    "        self.tgt_lang = tgt_lang\n",
    "        self.seq_len = seq_len\n",
    "        self.pad_id = tokenizer_tgt.token_to_id(\"[PAD]\")\n",
    "        self.sos_id = tokenizer_tgt.token_to_id(\"[SOS]\")\n",
    "        self.eos_id = tokenizer_tgt.token_to_id(\"[EOS]\")\n",
    "\n",
    "    def __len__(self):\n",
    "        return len(self.ds)\n",
    "\n",
    "    def __getitem__(self, idx):\n",
    "        src_text = self.ds[idx][\"translation\"][self.src_lang]\n",
    "        tgt_text = self.ds[idx][\"translation\"][self.tgt_lang]\n",
    "\n",
    "        src_tokens = self.tokenizer_src.encode(src_text).ids\n",
    "        tgt_tokens = self.tokenizer_tgt.encode(tgt_text).ids\n",
    "\n",
    "        # Optional: truncate instead of raise error if you prefer\n",
    "        if len(src_tokens) + 2 > self.seq_len:\n",
    "            src_tokens = src_tokens[: self.seq_len - 2]\n",
    "\n",
    "        if len(tgt_tokens) + 2 > self.seq_len:\n",
    "            tgt_tokens = tgt_tokens[: self.seq_len - 2]\n",
    "\n",
    "        # Add [SOS], [EOS], and pad to src\n",
    "        src_padded = [self.sos_id] + src_tokens + [self.eos_id]\n",
    "        src_padded += [self.pad_id] * (self.seq_len - len(src_padded))\n",
    "\n",
    "        # Build decoder inputs and labels\n",
    "        tgt_inp = [self.sos_id] + tgt_tokens\n",
    "        tgt_label = tgt_tokens + [self.eos_id]\n",
    "\n",
    "        tgt_inp += [self.pad_id] * (self.seq_len - len(tgt_inp))\n",
    "        tgt_label += [self.pad_id] * (self.seq_len - len(tgt_label))\n",
    "\n",
    "        encoder_input = torch.tensor(src_padded, dtype=torch.long)\n",
    "        decoder_input = torch.tensor(tgt_inp, dtype=torch.long)\n",
    "        label = torch.tensor(tgt_label, dtype=torch.long)\n",
    "\n",
    "        return {\n",
    "            \"encoder_input\": encoder_input,   # shape [seq_len]\n",
    "            \"decoder_input\": decoder_input,   # shape [seq_len]\n",
    "            \"label\": label,                   # shape [seq_len]\n",
    "            \"src_text\": src_text,\n",
    "            \"tgt_text\": tgt_text\n",
    "        }"
   ]
  },
  {
   "cell_type": "markdown",
   "metadata": {
    "id": "B7cXlNUfv5uL"
   },
   "source": [
    "## Part 12: Validation Loop"
   ]
  },
  {
   "cell_type": "markdown",
   "metadata": {
    "id": "tf8Wt860qr_R"
   },
   "source": [
    "<p style = \"font-family: 'Helvetica Neue', Arial, sans-serif; text-align: left; font-size: 17.5px\">We will now create two functions for the validation loop. The validation loop is crucial to evaluate model performance in translating sentences from data it has not seen during training.</p>\n",
    "\n",
    "<p style = \"font-family: 'Helvetica Neue', Arial, sans-serif; text-align: left; font-size: 17.5px\">We will define two functions. The first function, <code>greedy_decode</code>, gives us the model's output by obtaining the most probable next token. The second function, <code>run_validation</code>, is responsible for running the validation process in which we decode the model's output and compare it with the reference text for the target sentence.</p>"
   ]
  },
  {
   "cell_type": "code",
   "execution_count": null,
   "metadata": {
    "id": "z1rzcAkpv8Ew"
   },
   "outputs": [],
   "source": [
    "######################  TODO  ########################\n",
    "######################  TODO  ########################\n",
    "\n",
    "# - Define a `greedy_decode` function to generate the most probable sequence using a trained model\n",
    "# - Accept parameters:\n",
    "#   1. `model`: Trained Transformer model\n",
    "#   2. `source`: Source input sequence\n",
    "#   3. `source_mask`: Mask for the source sequence\n",
    "#   4. `tokenizer_src` and `tokenizer_tgt`: Tokenizers for source and target languages\n",
    "#   5. `max_len`: Maximum sequence length for the output\n",
    "#   6. `device`: Device to run the computation (e.g., CPU or GPU)\n",
    "\n",
    "# - Steps:\n",
    "#   1. Retrieve indices for `[SOS]` and `[EOS]` tokens from the target tokenizer\n",
    "#   2. Compute encoder output for the source sequence\n",
    "#   3. Initialize decoder input with `[SOS]`\n",
    "#   4. Loop until `max_len` is reached or `[EOS]` is generated:\n",
    "#      - Create a causal mask for the decoder input\n",
    "#      - Compute decoder output using encoder output and masks\n",
    "#      - Apply the projection layer to get probabilities for the next token\n",
    "#      - Select the token with the highest probability and append it to the decoder input\n",
    "#      - Break the loop if `[EOS]` is generated\n",
    "#   5. Return the generated sequence of tokens\n",
    "\n",
    "######################  TODO  ########################\n",
    "######################  TODO  ########################\n",
    "\n",
    "def greedy_decode(model, source, source_mask, tokenizer_tgt, max_len, device):\n",
    "    sos_id = tokenizer_tgt.token_to_id(\"[SOS]\")\n",
    "    eos_id = tokenizer_tgt.token_to_id(\"[EOS]\")\n",
    "\n",
    "    encoder_output = model.encode(source.to(device), source_mask.to(device))\n",
    "\n",
    "    ys = torch.tensor([[sos_id]], dtype=torch.long, device=device)\n",
    "\n",
    "    for _ in range(max_len):\n",
    "        padding_mask = (ys != tokenizer_tgt.token_to_id(\"[PAD]\")).unsqueeze(1).unsqueeze(2)\n",
    "\n",
    "        size = ys.size(1)\n",
    "        subsequent_mask = torch.triu(torch.ones(1, 1, size, size, device=device), diagonal=1).bool()\n",
    "        tgt_mask = padding_mask & ~subsequent_mask\n",
    "        decoder_output = model.decode(ys, encoder_output, src_mask=source_mask, tgt_mask=tgt_mask)\n",
    "\n",
    "        projected_output = model.project(decoder_output[:, -1])\n",
    "        next_word = torch.argmax(projected_output, dim=-1).item()\n",
    "        ys = torch.cat([ys, torch.tensor([[next_word]], device=device)], dim=1)\n",
    "\n",
    "        if next_word == eos_id:\n",
    "            break\n",
    "\n",
    "    return ys[0].cpu().numpy()"
   ]
  },
  {
   "cell_type": "code",
   "execution_count": null,
   "metadata": {
    "id": "iF7v9L0owcLT"
   },
   "outputs": [],
   "source": [
    "######################  TODO  ########################\n",
    "######################  TODO  ########################\n",
    "\n",
    "# - Define a `run_validation` function to evaluate the model on the validation dataset\n",
    "# - Accept parameters:\n",
    "#   1. `model`: Trained Transformer model\n",
    "#   2. `validation_ds`: Validation dataset\n",
    "#   3. `tokenizer_src` and `tokenizer_tgt`: Tokenizers for source and target languages\n",
    "#   4. `max_len`: Maximum sequence length for decoding\n",
    "#   5. `device`: Device to run the computation (e.g., CPU or GPU)\n",
    "#   6. `print_msg`: Function for displaying output messages\n",
    "#   7. `global_state`: Optional global state for tracking progress\n",
    "#   8. `writer`: Optional logging writer (e.g., TensorBoard)\n",
    "#   9. `num_examples`: Number of examples to process per run (default: 2)\n",
    "\n",
    "# - Steps:\n",
    "#   1. Set the model to evaluation mode\n",
    "#   2. Initialize a counter to track the number of processed examples\n",
    "#   3. Define a fixed console width for printed messages\n",
    "#   4. Iterate through the validation dataset:\n",
    "#      - Retrieve `encoder_input` and `encoder_mask` and move them to the specified device\n",
    "#      - Ensure batch size is 1 for validation\n",
    "#      - Use `greedy_decode` to generate the model's predictions\n",
    "#      - Decode the model's output into human-readable text\n",
    "#      - Print source, target, and predicted text using `print_msg`\n",
    "#      - Break the loop after processing the specified number of examples (`num_examples`)\n",
    "#   5. Ensure no gradients are computed during evaluation\n",
    "\n",
    "######################  TODO  ########################\n",
    "######################  TODO  ########################\n",
    "\n",
    "\n",
    "def run_validation(model, validation_ds, tokenizer_src, tokenizer_tgt, max_len, device, print_msg=print, global_state=None, writer=None, num_examples=50):\n",
    "    model.eval()\n",
    "    example_count = 0\n",
    "    console_width = 80\n",
    "\n",
    "    with torch.no_grad():\n",
    "        for batch in validation_ds:\n",
    "            encoder_input = batch[\"encoder_input\"].to(device)\n",
    "\n",
    "            encoder_mask = (encoder_input != tokenizer_src.token_to_id(\"[PAD]\")).unsqueeze(1).unsqueeze(2)\n",
    "\n",
    "            if encoder_input.size(0) > 1:\n",
    "                continue\n",
    "\n",
    "            model_output = greedy_decode(\n",
    "                model,\n",
    "                encoder_input,\n",
    "                encoder_mask,\n",
    "                tokenizer_tgt,\n",
    "                max_len,\n",
    "                device\n",
    "            )\n",
    "\n",
    "            src_text = tokenizer_src.decode(encoder_input[0].tolist())\n",
    "            tgt_text = tokenizer_tgt.decode(batch[\"label\"][0].tolist())\n",
    "            pred_text = tokenizer_tgt.decode(model_output.tolist())\n",
    "\n",
    "            print_msg(\"=\" * console_width)\n",
    "            print_msg(f\"Source: {src_text}\")\n",
    "            print_msg(f\"Target: {tgt_text}\")\n",
    "            print_msg(f\"Prediction: {pred_text}\")\n",
    "            print_msg(\"=\" * console_width)\n",
    "\n",
    "            example_count += 1\n",
    "\n",
    "            if example_count >= num_examples:\n",
    "                break\n",
    "\n",
    "    model.train()"
   ]
  },
  {
   "cell_type": "markdown",
   "metadata": {
    "id": "qw3nykKxwkIh"
   },
   "source": [
    "## Part 13: Training Loop"
   ]
  },
  {
   "cell_type": "markdown",
   "metadata": {
    "id": "az_Kwq4Zqr_S"
   },
   "source": [
    "<p style = \"font-family: 'Helvetica Neue', Arial, sans-serif; text-align: left; font-size: 17.5px\">We are ready to train our Transformer model on the OpusBook dataset for the English to Italian translation task.</p>\n",
    "\n",
    "<p style = \"font-family: 'Helvetica Neue', Arial, sans-serif; text-align: left; font-size: 17.5px\">We first start by defining the <code>get_model</code> function to load the model by calling the <code>build_transformer</code> function we have previously defined. This function uses the <code>config</code> dictionary to set a few parameters.</p>"
   ]
  },
  {
   "cell_type": "code",
   "execution_count": null,
   "metadata": {
    "id": "7QMn1BULwnBl"
   },
   "outputs": [],
   "source": [
    "######################  TODO  ########################\n",
    "######################  TODO  ########################\n",
    "\n",
    "# - Define a `get_model` function to initialize a Transformer model\n",
    "# - Accept parameters:\n",
    "#   1. `config`: Configuration dictionary with model settings\n",
    "#   2. `vocab_src_len`: Length of the source language vocabulary\n",
    "#   3. `vocab_tgt_len`: Length of the target language vocabulary\n",
    "\n",
    "# - Use the `build_transformer` function to:\n",
    "#   1. Create a Transformer model\n",
    "#   2. Pass the source and target vocabulary lengths\n",
    "#   3. Set sequence length (`seq_len`) and embedding dimensionality (`d_model`) from `config`\n",
    "\n",
    "# - Return the initialized model\n",
    "\n",
    "######################  TODO  ########################\n",
    "######################  TODO  ########################\n",
    "\n",
    "def get_model(config, vocab_src_len, vocab_tgt_len):\n",
    "    model = build_transformer(\n",
    "        src_vocab_size=vocab_src_len,\n",
    "        tgt_vocab_size=vocab_tgt_len,\n",
    "        src_seq_len=config[\"seq_len\"],\n",
    "        tgt_seq_len=config[\"seq_len\"],\n",
    "        d_model=config[\"d_model\"],\n",
    "        d_ff=2048,\n",
    "        N=6,\n",
    "        h=8,\n",
    "        dropout=0.1\n",
    "    )\n",
    "    return model"
   ]
  },
  {
   "cell_type": "markdown",
   "metadata": {
    "id": "Ord2DlVkqr_S"
   },
   "source": [
    "<p style = \"font-family: 'Helvetica Neue', Arial, sans-serif; text-align: left; font-size: 17.5px\">I have mentioned the <code>config</code> dictionary several times throughout this notebook. Now, it is time to create it.</p>\n",
    "\n",
    "<p style = \"font-family: 'Helvetica Neue', Arial, sans-serif; text-align: left; font-size: 17.5px\">In the following cell, we will define two functions to configure our model and the training process.</p>\n",
    "\n",
    "<p style = \"font-family: 'Helvetica Neue', Arial, sans-serif; text-align: left; font-size: 17.5px\">In the <code>get_config</code> function, we define crucial parameters for the training process. <code>batch_size</code> for the number of training examples used in one iteration, <code>num_epochs</code> as the number of times the entire dataset is passed forward and backward through the Transformer, <code>lr</code> as the learning rate for the optimizer, etc. We will also finally define the pairs from the OpusBook dataset, <code>'lang_src': 'en'</code> for selecting English as the source language and <code>'lang_tgt': 'it'</code> for selecting Italian as the target language.</p>\n",
    "\n",
    "<p style = \"font-family: 'Helvetica Neue', Arial, sans-serif; text-align: left; font-size: 17.5px\">The <code>get_weights_file_path</code> function constructs the file path for saving or loading model weights for any specific epoch.</p>"
   ]
  },
  {
   "cell_type": "code",
   "execution_count": null,
   "metadata": {
    "id": "gXt82CejxeHZ"
   },
   "outputs": [],
   "source": [
    "######################  TODO  ########################\n",
    "######################  TODO  ########################\n",
    "\n",
    "# - Define a `get_config` function to return a dictionary of settings for building and training the Transformer model:\n",
    "#   1. `batch_size`: Number of samples per training batch\n",
    "#   2. `num_epochs`: Total training epochs\n",
    "#   3. `lr`: Learning rate for optimization\n",
    "#   4. `seq_len`: Maximum sequence length for tokens\n",
    "#   5. `d_model`: Dimensionality of embeddings (e.g., 512)\n",
    "#   6. `lang_src` and `lang_tgt`: Source and target languages\n",
    "#   7. `model_folder`: Folder to save model weights\n",
    "#   8. `model_basename`: Base name for model files\n",
    "#   9. `preload`: Option to preload a model (default: None)\n",
    "#   10. `tokenizer_file`: Filename pattern for saving tokenizers\n",
    "#   11. `experiment_name`: Name of the experiment for logging\n",
    "\n",
    "# - Define `get_weights_file_path` to construct a file path for saving/retrieving model weights:\n",
    "#   1. Accept `config` dictionary and `epoch` string as parameters\n",
    "#   2. Retrieve `model_folder` and `model_basename` from `config`\n",
    "#   3. Construct the filename with the base name and epoch\n",
    "#   4. Combine the current directory, model folder, and filename to return the full path\n",
    "\n",
    "######################  TODO  ########################\n",
    "######################  TODO  ########################\n",
    "\n",
    "def get_config():\n",
    "    return {\n",
    "        \"batch_size\": 32,\n",
    "        \"num_epochs\": 10,\n",
    "        \"lr\": 3e-4,\n",
    "        \"seq_len\": 200,\n",
    "        \"d_model\": 512,\n",
    "        \"lang_src\": \"en\",\n",
    "        \"lang_tgt\": \"it\",\n",
    "        \"model_folder\": \"models\",\n",
    "        \"model_basename\": \"transformer_en_it\",\n",
    "        \"preload\": None,\n",
    "        \"tokenizer_file\": \"tokenizer_{lang}.json\",\n",
    "        \"experiment_name\": \"en-it-translation\"\n",
    "    }\n",
    "\n",
    "def get_weights_file_path(config, epoch):\n",
    "    folder = Path(os.getcwd()) / config[\"model_folder\"]\n",
    "    folder.mkdir(exist_ok=True, parents=True)\n",
    "    filename = f\"{config['model_basename']}_{epoch}.pt\"\n",
    "    return str(folder / filename)"
   ]
  },
  {
   "cell_type": "markdown",
   "metadata": {
    "id": "Qw7SjmrDqr_S"
   },
   "source": [
    "<p style = \"font-family: 'Helvetica Neue', Arial, sans-serif; text-align: left; font-size: 17.5px\">We finally define our last function, <code>train_model</code>, which takes the <code>config</code> arguments as input. </p>\n",
    "\n",
    "<p style = \"font-family: 'Helvetica Neue', Arial, sans-serif; text-align: left; font-size: 17.5px\">In this function, we will set everything up for the training. We will load the model and its necessary components onto the GPU for faster training, set the <code>Adam</code> optimizer, and configure the <code>CrossEntropyLoss</code> function to compute the differences between the translations output by the model and the reference translations from the dataset. </p>\n",
    "\n",
    "<p style = \"font-family: 'Helvetica Neue', Arial, sans-serif; text-align: left; font-size: 17.5px\">Every loop necessary for iterating over the training batches, performing backpropagation, and computing the gradients is in this function. We will also use it to run the validation function and save the current state of the model.</p>"
   ]
  },
  {
   "cell_type": "code",
   "execution_count": 36,
   "metadata": {
    "id": "2qK9wAjRxoDQ"
   },
   "outputs": [],
   "source": [
    "######################  TODO  ########################\n",
    "######################  TODO  ########################\n",
    "\n",
    "# - Define a `train_model` function to train a Transformer model\n",
    "# - Steps:\n",
    "#   1. Set up the device (GPU or CPU) for training\n",
    "#   2. Create a directory to store model weights\n",
    "#   3. Retrieve dataloaders and tokenizers for source and target languages using `get_ds`\n",
    "#   4. Initialize the Transformer model using `get_model` and move it to the specified device\n",
    "#   5. Set up TensorBoard for logging training metrics\n",
    "#   6. Configure the Adam optimizer with learning rate and epsilon from `config`\n",
    "#   7. If a pre-trained model exists:\n",
    "#      - Load the model, optimizer state, and global step\n",
    "#      - Set the starting epoch for resuming training\n",
    "#   8. Define a cross-entropy loss function:\n",
    "#      - Ignore padding tokens\n",
    "#      - Apply label smoothing to prevent overfitting\n",
    "#   9. Start training loop:\n",
    "#      - Iterate over epochs from the initial epoch to `config['num_epochs']`\n",
    "#      - For each batch in the training dataloader:\n",
    "#         - Set model to training mode\n",
    "#         - Move input data, masks, and labels to the device\n",
    "#         - Pass data through the encoder, decoder, and projection layer\n",
    "#         - Compute loss between model predictions and labels\n",
    "#         - Log training loss to TensorBoard\n",
    "#         - Perform backpropagation and update model parameters\n",
    "#         - Clear gradients for the next batch\n",
    "#         - Increment global step counter\n",
    "#      - After each epoch, run validation using `run_validation`\n",
    "#      - Save the current model state, optimizer state, and global step\n",
    "#   10. Save model weights after each epoch\n",
    "\n",
    "######################  TODO  ########################\n",
    "######################  TODO  ########################\n",
    "\n",
    "def train_model(config):\n",
    "    device = torch.device(\"cuda\" if torch.cuda.is_available() else \"cpu\")\n",
    "    Path(config[\"model_folder\"]).mkdir(exist_ok=True, parents=True)\n",
    "\n",
    "    train_loader, val_loader, tokenizer_src, tokenizer_tgt = get_ds(config)\n",
    "    pad_id = tokenizer_tgt.token_to_id(\"[PAD]\")\n",
    "\n",
    "    model = get_model(config, tokenizer_src.get_vocab_size(), tokenizer_tgt.get_vocab_size()).to(device)\n",
    "    optimizer = torch.optim.Adam(model.parameters(), lr=config[\"lr\"], eps=1e-9)\n",
    "    criterion = nn.CrossEntropyLoss(ignore_index=pad_id, label_smoothing=0.1)\n",
    "\n",
    "    global_step = 0\n",
    "    start_epoch = 1\n",
    "\n",
    "    for epoch in range(start_epoch, config[\"num_epochs\"] + 1):\n",
    "        model.train()\n",
    "        progress_bar = tqdm(train_loader, desc=f\"Epoch {epoch}/{config['num_epochs']} - Training\", position=0, leave=True)\n",
    "        epoch_loss = 0\n",
    "\n",
    "        for batch in progress_bar:\n",
    "            encoder_input = batch[\"encoder_input\"].to(device)\n",
    "            decoder_input = batch[\"decoder_input\"].to(device)\n",
    "            label = batch[\"label\"].to(device)\n",
    "\n",
    "            encoder_mask = (encoder_input != pad_id).unsqueeze(1).unsqueeze(2)\n",
    "            encoder_mask = encoder_mask.repeat(1, 1, encoder_input.size(1), 1)\n",
    "            decoder_mask = (decoder_input != pad_id).unsqueeze(1).unsqueeze(2)\n",
    "            decoder_mask = decoder_mask.repeat(1, 1, decoder_input.size(1), 1)\n",
    "            no_peek = casual_mask(decoder_input.size(1)).to(device).bool().unsqueeze(0)\n",
    "            decoder_mask = decoder_mask & no_peek\n",
    "\n",
    "            optimizer.zero_grad()\n",
    "            encoder_output = model.encode(encoder_input, encoder_mask)\n",
    "            decoder_output = model.decode(decoder_input, encoder_output, encoder_mask, decoder_mask)\n",
    "            out = model.project(decoder_output)\n",
    "\n",
    "            loss = criterion(out.reshape(-1, out.size(-1)), label.view(-1))\n",
    "            epoch_loss += loss.item()\n",
    "            loss.backward()\n",
    "            optimizer.step()\n",
    "            global_step += 1\n",
    "\n",
    "            progress_bar.set_postfix({\"loss\": loss.item()})\n",
    "\n",
    "        print(f\"Epoch {epoch}/{config['num_epochs']} completed. Avg Loss: {epoch_loss / len(train_loader):.4f}\")\n",
    "        print(f\"Validating Epoch {epoch}/{config['num_epochs']}...\")\n",
    "        run_validation(\n",
    "            model,\n",
    "            val_loader,\n",
    "            tokenizer_src,\n",
    "            tokenizer_tgt,\n",
    "            config[\"seq_len\"],\n",
    "            device,\n",
    "            print_msg=lambda msg: tqdm.write(msg),\n",
    "            num_examples=5\n",
    "        )\n",
    "\n",
    "        checkpoint_path = get_weights_file_path(config, str(epoch))\n",
    "        torch.save({\n",
    "            \"epoch\": epoch,\n",
    "            \"model_state_dict\": model.state_dict(),\n",
    "            \"optimizer_state_dict\": optimizer.state_dict(),\n",
    "            \"global_step\": global_step\n",
    "        }, checkpoint_path)\n",
    "\n",
    "        print(f\"Checkpoint saved at {checkpoint_path}\")"
   ]
  },
  {
   "cell_type": "code",
   "execution_count": null,
   "metadata": {
    "id": "s674qFJD1icE"
   },
   "outputs": [],
   "source": [
    "def temp_train_model(config):\n",
    "    device = torch.device(\"cuda\" if torch.cuda.is_available() else \"cpu\")\n",
    "    train_loader, val_loader, tokenizer_src, tokenizer_tgt = get_ds(config)\n",
    "    pad_id = tokenizer_tgt.token_to_id(\"[PAD]\")\n",
    "    model = get_model(config, tokenizer_src.get_vocab_size(), tokenizer_tgt.get_vocab_size()).to(device)\n",
    "    optimizer = torch.optim.Adam(model.parameters(), lr=config[\"lr\"], eps=1e-9)\n",
    "    criterion = nn.CrossEntropyLoss(ignore_index=pad_id, label_smoothing=0.1)\n",
    "\n",
    "    model.train()\n",
    "    try:\n",
    "        batch = next(iter(train_loader))\n",
    "    except StopIteration:\n",
    "        return\n",
    "\n",
    "    encoder_input = batch[\"encoder_input\"].to(device)\n",
    "    decoder_input = batch[\"decoder_input\"].to(device)\n",
    "    label = batch[\"label\"].to(device)\n",
    "    encoder_mask = (encoder_input != pad_id).unsqueeze(1).unsqueeze(2)\n",
    "    encoder_mask = encoder_mask.repeat(1, 1, encoder_input.size(1), 1)\n",
    "    decoder_mask = (decoder_input != pad_id).unsqueeze(1).unsqueeze(2)\n",
    "    decoder_mask = decoder_mask.repeat(1, 1, decoder_input.size(1), 1)\n",
    "    no_peek = casual_mask(decoder_input.size(1)).to(device).bool().unsqueeze(0)\n",
    "    decoder_mask = decoder_mask & no_peek\n",
    "\n",
    "    optimizer.zero_grad()\n",
    "    encoder_output = model.encode(encoder_input, encoder_mask)\n",
    "    decoder_output = model.decode(decoder_input, encoder_output, encoder_mask, decoder_mask)\n",
    "    out = model.project(decoder_output)\n",
    "    loss = criterion(out.view(-1, out.size(-1)), label.view(-1))\n",
    "    loss.backward()\n",
    "    optimizer.step()\n",
    "\n",
    "    run_validation(\n",
    "        model,\n",
    "        val_loader,\n",
    "        tokenizer_src,\n",
    "        tokenizer_tgt,\n",
    "        config[\"seq_len\"],\n",
    "        device,\n",
    "        num_examples=2\n",
    "    )"
   ]
  },
  {
   "cell_type": "markdown",
   "metadata": {
    "id": "nrMmfyi8xrXw"
   },
   "source": [
    "We can now train the model!"
   ]
  },
  {
   "cell_type": "code",
   "execution_count": 37,
   "metadata": {
    "colab": {
     "base_uri": "https://localhost:8080/"
    },
    "id": "28425EYaxrsi",
    "outputId": "fe93316e-8def-4128-cf18-ca61a815999e"
   },
   "outputs": [
    {
     "name": "stderr",
     "output_type": "stream",
     "text": [
      "Epoch 1/10 - Training: 100%|██████████| 910/910 [11:22<00:00,  1.33it/s, loss=6.27]\n"
     ]
    },
    {
     "name": "stdout",
     "output_type": "stream",
     "text": [
      "Epoch 1/10 completed. Avg Loss: 6.7885\n",
      "Validating Epoch 1/10...\n",
      "================================================================================\n",
      "Source: It makes him contemptible to be considered fickle , frivolous , effeminate , mean - spirited , irresolute , from all of which a prince should guard himself as from a rock ; and he should endeavour to show in his actions greatness , courage , gravity , and fortitude ; and in his private dealings with his subjects let him show that his judgments are irrevocable , and maintain himself in such reputation that no one can hope either to deceive him or to get round him .\n",
      "Target: lo fa esser tenuto vario , leggieri , effeminato , pusillanime , : da che uno principe si debbe guardare come da uno scoglio , et ingegnarsi che nelle azioni sua si riconosca grandezza , animosità , gravità , fortezza , e , circa maneggi privati de ' sudditi , volere che la sua sentenzia sia ; e si mantenga in tale opinione , che alcuno non pensi né a ingannarlo né ad .\n",
      "Prediction: Ma , non , , , , , , , , , , , , , , , , , , , , , , , , , , , , , , , , , , , , , , , , , , , , , , , , , , , , , , , , , , , , , , , , , , , , , , , , , , , , , , , , , , , , , , , , , , , , , , , , , , , , , , , ,\n",
      "================================================================================\n",
      "================================================================================\n",
      "Source: Bertha Mason is mad ; and she came of a mad family ; idiots and through three generations !\n",
      "Target: \" Berta Mason è pazza , e viene da una famiglia di pazzi ; idioti o da più generazioni .\n",
      "Prediction: Non non non non non non non non non non non .\n",
      "================================================================================\n",
      "================================================================================\n",
      "Source: \" Love me , then , or hate me , as you will ,\" I said at last , \" you have my full and free forgiveness : ask now for God ' s , and be at peace .\"\n",
      "Target: — , allora , o , se volete ; in ogni caso vi perdono pienamente e liberamente . il perdono di Dio e state in pace .\n",
      "Prediction: — Sì , — disse , — disse , — disse , — disse , non , non , non , non , non , non .\n",
      "================================================================================\n",
      "================================================================================\n",
      "Source: ' All right , later ; but certainly tell me !\n",
      "Target: — Bene , dopo , ma me lo direte : assolutamente .\n",
      "Prediction: — Sì , non signore .\n",
      "================================================================================\n",
      "================================================================================\n",
      "Source: Yet all this while I lived uncomfortably , by reason of the constant apprehensions of their coming upon me by surprise : from whence I observe , that the expectation of evil is more bitter than the suffering , especially if there is no room to shake off that expectation or those apprehensions .\n",
      "Target: Tuttavia dopo averli avuti in tanta vicinanza l ’ ultima volta , me la passai sempre male d ’ allora in poi , non m ’ abbandonando più la paura che m ’ arrivassero d ’ improvviso alle spalle ; donde prendo motivo d ’ osservare , come un male che si aspetta sia più crudele ancora di un male che si soffre , specialmente quando non avete alcuna ragione che vi liberi dal vostro giusto timore .\n",
      "Prediction: Non , la suo suo suo suo suo suo suo suo suo suo suo suo suo suo suo suo suo suo suo suo suo suo suo suo suo suo suo suo suo suo suo suo suo suo suo suo suo suo suo suo suo suo suo suo suo suo suo suo suo suo suo suo suo suo suo suo suo suo suo suo suo suo suo suo suo suo suo suo suo suo suo suo suo suo suo suo suo suo suo suo suo suo suo suo suo suo suo suo suo suo suo suo suo suo suo suo suo suo suo suo suo suo suo suo suo suo suo suo suo suo suo suo suo suo suo suo suo suo suo suo suo suo suo suo suo .\n",
      "================================================================================\n",
      "Checkpoint saved at /content/models/transformer_en_it_1.pt\n"
     ]
    },
    {
     "name": "stderr",
     "output_type": "stream",
     "text": [
      "Epoch 2/10 - Training: 100%|██████████| 910/910 [11:21<00:00,  1.33it/s, loss=5.27]\n"
     ]
    },
    {
     "name": "stdout",
     "output_type": "stream",
     "text": [
      "Epoch 2/10 completed. Avg Loss: 6.2586\n",
      "Validating Epoch 2/10...\n",
      "================================================================================\n",
      "Source: It makes him contemptible to be considered fickle , frivolous , effeminate , mean - spirited , irresolute , from all of which a prince should guard himself as from a rock ; and he should endeavour to show in his actions greatness , courage , gravity , and fortitude ; and in his private dealings with his subjects let him show that his judgments are irrevocable , and maintain himself in such reputation that no one can hope either to deceive him or to get round him .\n",
      "Target: lo fa esser tenuto vario , leggieri , effeminato , pusillanime , : da che uno principe si debbe guardare come da uno scoglio , et ingegnarsi che nelle azioni sua si riconosca grandezza , animosità , gravità , fortezza , e , circa maneggi privati de ' sudditi , volere che la sua sentenzia sia ; e si mantenga in tale opinione , che alcuno non pensi né a ingannarlo né ad .\n",
      "Prediction: Il mio mia mia mia mia mia mia mia mia mia mia mia mia mia mia mia mia mia mia mia mia mia mia mia mia mia mia mia mia mia mia mia mia mia mia mia mia mia mia mia mia mia mia mia mia mia mia mia mia mia mia mia mia mia mia mia mia mia mia mia mia mia mia mia mia mia mia mia mia mia mia mia mia mia mia mia mia mia mia mia mia mia mia mia mia mia mia mia mia mia mia mia mia mia mia mia mia mia mia mia mia mia mia mia mia mia mia mia mia mia mia mia mia mia mia mia mia mia mia mia mia mia mia mia mia mia mia mia mia mia mia mia mia mia mia mia , e , e , che , e .\n",
      "================================================================================\n",
      "================================================================================\n",
      "Source: Bertha Mason is mad ; and she came of a mad family ; idiots and through three generations !\n",
      "Target: \" Berta Mason è pazza , e viene da una famiglia di pazzi ; idioti o da più generazioni .\n",
      "Prediction: E , che non non non non non non non non non non non non non non non non non non non non .\n",
      "================================================================================\n",
      "================================================================================\n",
      "Source: \" Love me , then , or hate me , as you will ,\" I said at last , \" you have my full and free forgiveness : ask now for God ' s , and be at peace .\"\n",
      "Target: — , allora , o , se volete ; in ogni caso vi perdono pienamente e liberamente . il perdono di Dio e state in pace .\n",
      "Prediction: — Ma , non è fatto , — disse , — disse , — disse , — disse , — disse , — disse , — disse .\n",
      "================================================================================\n",
      "================================================================================\n",
      "Source: ' All right , later ; but certainly tell me !\n",
      "Target: — Bene , dopo , ma me lo direte : assolutamente .\n",
      "Prediction: — Ma , non è fatto .\n",
      "================================================================================\n",
      "================================================================================\n",
      "Source: Yet all this while I lived uncomfortably , by reason of the constant apprehensions of their coming upon me by surprise : from whence I observe , that the expectation of evil is more bitter than the suffering , especially if there is no room to shake off that expectation or those apprehensions .\n",
      "Target: Tuttavia dopo averli avuti in tanta vicinanza l ’ ultima volta , me la passai sempre male d ’ allora in poi , non m ’ abbandonando più la paura che m ’ arrivassero d ’ improvviso alle spalle ; donde prendo motivo d ’ osservare , come un male che si aspetta sia più crudele ancora di un male che si soffre , specialmente quando non avete alcuna ragione che vi liberi dal vostro giusto timore .\n",
      "Prediction: Il signor momento , e il mio momento , e il mio mia mia mia mia mia mia mia mia mia mia sua sua sua sua sua sua sua sua sua sua sua sua sua sua sua sua sua sua sua sua sua sua sua sua sua sua sua sua sua sua sua sua sua sua sua sua sua sua sua sua sua sua sua sua sua sua sua sua sua sua sua sua sua sua sua sua sua sua sua sua sua sua sua sua sua sua sua sua sua sua sua sua sua sua sua sua sua sua sua sua sua sua sua sua sua sua sua sua sua sua sua sua sua sua sua sua sua sua sua sua sua sua sua sua sua sua sua sua sua sua sua sua sua sua .\n",
      "================================================================================\n",
      "Checkpoint saved at /content/models/transformer_en_it_2.pt\n"
     ]
    },
    {
     "name": "stderr",
     "output_type": "stream",
     "text": [
      "Epoch 3/10 - Training: 100%|██████████| 910/910 [11:21<00:00,  1.34it/s, loss=6.01]\n"
     ]
    },
    {
     "name": "stdout",
     "output_type": "stream",
     "text": [
      "Epoch 3/10 completed. Avg Loss: 5.9972\n",
      "Validating Epoch 3/10...\n",
      "================================================================================\n",
      "Source: It makes him contemptible to be considered fickle , frivolous , effeminate , mean - spirited , irresolute , from all of which a prince should guard himself as from a rock ; and he should endeavour to show in his actions greatness , courage , gravity , and fortitude ; and in his private dealings with his subjects let him show that his judgments are irrevocable , and maintain himself in such reputation that no one can hope either to deceive him or to get round him .\n",
      "Target: lo fa esser tenuto vario , leggieri , effeminato , pusillanime , : da che uno principe si debbe guardare come da uno scoglio , et ingegnarsi che nelle azioni sua si riconosca grandezza , animosità , gravità , fortezza , e , circa maneggi privati de ' sudditi , volere che la sua sentenzia sia ; e si mantenga in tale opinione , che alcuno non pensi né a ingannarlo né ad .\n",
      "Prediction: che non poteva , e non poteva , e non poteva , e non poteva , e non poteva , e , e , e , e che non poteva , e non poteva , e , e , e , e , e , e , e , e , e .\n",
      "================================================================================\n",
      "================================================================================\n",
      "Source: Bertha Mason is mad ; and she came of a mad family ; idiots and through three generations !\n",
      "Target: \" Berta Mason è pazza , e viene da una famiglia di pazzi ; idioti o da più generazioni .\n",
      "Prediction: Non è stato , ma non mi .\n",
      "================================================================================\n",
      "================================================================================\n",
      "Source: \" Love me , then , or hate me , as you will ,\" I said at last , \" you have my full and free forgiveness : ask now for God ' s , and be at peace .\"\n",
      "Target: — , allora , o , se volete ; in ogni caso vi perdono pienamente e liberamente . il perdono di Dio e state in pace .\n",
      "Prediction: — Ma , non è un mio vostro vostro vostro vostro mio mio mio mio mio mio mio mio mio mio mio mio mio mio mio mio mio mio mio mio mio mio mio mio mio mio mio mio mio mio mio mio mio mio mio mio mio mio mio mio mio mio mio mio mio mio mio mio mio mio mio mio mio mio mio mio mio mio mio .\n",
      "================================================================================\n",
      "================================================================================\n",
      "Source: ' All right , later ; but certainly tell me !\n",
      "Target: — Bene , dopo , ma me lo direte : assolutamente .\n",
      "Prediction: — Sì , signore , signore .\n",
      "================================================================================\n",
      "================================================================================\n",
      "Source: Yet all this while I lived uncomfortably , by reason of the constant apprehensions of their coming upon me by surprise : from whence I observe , that the expectation of evil is more bitter than the suffering , especially if there is no room to shake off that expectation or those apprehensions .\n",
      "Target: Tuttavia dopo averli avuti in tanta vicinanza l ’ ultima volta , me la passai sempre male d ’ allora in poi , non m ’ abbandonando più la paura che m ’ arrivassero d ’ improvviso alle spalle ; donde prendo motivo d ’ osservare , come un male che si aspetta sia più crudele ancora di un male che si soffre , specialmente quando non avete alcuna ragione che vi liberi dal vostro giusto timore .\n",
      "Prediction: , e , e , e non mi , e non mi , e non mi , e non poteva , e non , e non , e , e non .\n",
      "================================================================================\n",
      "Checkpoint saved at /content/models/transformer_en_it_3.pt\n"
     ]
    },
    {
     "name": "stderr",
     "output_type": "stream",
     "text": [
      "Epoch 4/10 - Training: 100%|██████████| 910/910 [11:20<00:00,  1.34it/s, loss=5.82]\n"
     ]
    },
    {
     "name": "stdout",
     "output_type": "stream",
     "text": [
      "Epoch 4/10 completed. Avg Loss: 5.8260\n",
      "Validating Epoch 4/10...\n",
      "================================================================================\n",
      "Source: It makes him contemptible to be considered fickle , frivolous , effeminate , mean - spirited , irresolute , from all of which a prince should guard himself as from a rock ; and he should endeavour to show in his actions greatness , courage , gravity , and fortitude ; and in his private dealings with his subjects let him show that his judgments are irrevocable , and maintain himself in such reputation that no one can hope either to deceive him or to get round him .\n",
      "Target: lo fa esser tenuto vario , leggieri , effeminato , pusillanime , : da che uno principe si debbe guardare come da uno scoglio , et ingegnarsi che nelle azioni sua si riconosca grandezza , animosità , gravità , fortezza , e , circa maneggi privati de ' sudditi , volere che la sua sentenzia sia ; e si mantenga in tale opinione , che alcuno non pensi né a ingannarlo né ad .\n",
      "Prediction: , adunque , e non , ma non , e non , e non , e non , e non , e non , e non , e non , e non , e non , e non , e non , e non , e non , e non , e non , e non , e non , e non , e non , e non , e non , e non , e non , e non , e non , e non , e non , e non , non , e non , e non , e non , e non , non , non , non si , e non , e non si , e non , e non , e non , e non , e non , e , e , e , e , e , e ,\n",
      "================================================================================\n",
      "================================================================================\n",
      "Source: Bertha Mason is mad ; and she came of a mad family ; idiots and through three generations !\n",
      "Target: \" Berta Mason è pazza , e viene da una famiglia di pazzi ; idioti o da più generazioni .\n",
      "Prediction: Non è un uomo , ma non è mai mai mai mai mai mai .\n",
      "================================================================================\n",
      "================================================================================\n",
      "Source: \" Love me , then , or hate me , as you will ,\" I said at last , \" you have my full and free forgiveness : ask now for God ' s , and be at peace .\"\n",
      "Target: — , allora , o , se volete ; in ogni caso vi perdono pienamente e liberamente . il perdono di Dio e state in pace .\n",
      "Prediction: — Sì , signore , — dissi , — mi , — mi , — mi , — mi .\n",
      "================================================================================\n",
      "================================================================================\n",
      "Source: ' All right , later ; but certainly tell me !\n",
      "Target: — Bene , dopo , ma me lo direte : assolutamente .\n",
      "Prediction: — No , non è nulla .\n",
      "================================================================================\n",
      "================================================================================\n",
      "Source: Yet all this while I lived uncomfortably , by reason of the constant apprehensions of their coming upon me by surprise : from whence I observe , that the expectation of evil is more bitter than the suffering , especially if there is no room to shake off that expectation or those apprehensions .\n",
      "Target: Tuttavia dopo averli avuti in tanta vicinanza l ’ ultima volta , me la passai sempre male d ’ allora in poi , non m ’ abbandonando più la paura che m ’ arrivassero d ’ improvviso alle spalle ; donde prendo motivo d ’ osservare , come un male che si aspetta sia più crudele ancora di un male che si soffre , specialmente quando non avete alcuna ragione che vi liberi dal vostro giusto timore .\n",
      "Prediction: che mi , ma non mi , ma non mi , e non mi , e non mi , e non , e non , e non mi , e non , e non , e non , e non , e non .\n",
      "================================================================================\n",
      "Checkpoint saved at /content/models/transformer_en_it_4.pt\n"
     ]
    },
    {
     "name": "stderr",
     "output_type": "stream",
     "text": [
      "Epoch 5/10 - Training: 100%|██████████| 910/910 [11:20<00:00,  1.34it/s, loss=5.86]\n"
     ]
    },
    {
     "name": "stdout",
     "output_type": "stream",
     "text": [
      "Epoch 5/10 completed. Avg Loss: 5.6777\n",
      "Validating Epoch 5/10...\n",
      "================================================================================\n",
      "Source: It makes him contemptible to be considered fickle , frivolous , effeminate , mean - spirited , irresolute , from all of which a prince should guard himself as from a rock ; and he should endeavour to show in his actions greatness , courage , gravity , and fortitude ; and in his private dealings with his subjects let him show that his judgments are irrevocable , and maintain himself in such reputation that no one can hope either to deceive him or to get round him .\n",
      "Target: lo fa esser tenuto vario , leggieri , effeminato , pusillanime , : da che uno principe si debbe guardare come da uno scoglio , et ingegnarsi che nelle azioni sua si riconosca grandezza , animosità , gravità , fortezza , e , circa maneggi privati de ' sudditi , volere che la sua sentenzia sia ; e si mantenga in tale opinione , che alcuno non pensi né a ingannarlo né ad .\n",
      "Prediction: E che non si , e non si , e non , e non , e ' principi , e li , e ' populi , e , e , e , e , e , e , e , e , e , e , e , e , e , e , e , e , e , e , e , e , e , e , e , e , e , e , e , e , e , e , e , e , e , e , e , e , e , e .\n",
      "================================================================================\n",
      "================================================================================\n",
      "Source: Bertha Mason is mad ; and she came of a mad family ; idiots and through three generations !\n",
      "Target: \" Berta Mason è pazza , e viene da una famiglia di pazzi ; idioti o da più generazioni .\n",
      "Prediction: Non è vero che non è nulla , ma non è nulla .\n",
      "================================================================================\n",
      "================================================================================\n",
      "Source: \" Love me , then , or hate me , as you will ,\" I said at last , \" you have my full and free forgiveness : ask now for God ' s , and be at peace .\"\n",
      "Target: — , allora , o , se volete ; in ogni caso vi perdono pienamente e liberamente . il perdono di Dio e state in pace .\n",
      "Prediction: — Sì , — disse , — mi , — e non vi , e non vi .\n",
      "================================================================================\n",
      "================================================================================\n",
      "Source: ' All right , later ; but certainly tell me !\n",
      "Target: — Bene , dopo , ma me lo direte : assolutamente .\n",
      "Prediction: — Sì , non è vero .\n",
      "================================================================================\n",
      "================================================================================\n",
      "Source: Yet all this while I lived uncomfortably , by reason of the constant apprehensions of their coming upon me by surprise : from whence I observe , that the expectation of evil is more bitter than the suffering , especially if there is no room to shake off that expectation or those apprehensions .\n",
      "Target: Tuttavia dopo averli avuti in tanta vicinanza l ’ ultima volta , me la passai sempre male d ’ allora in poi , non m ’ abbandonando più la paura che m ’ arrivassero d ’ improvviso alle spalle ; donde prendo motivo d ’ osservare , come un male che si aspetta sia più crudele ancora di un male che si soffre , specialmente quando non avete alcuna ragione che vi liberi dal vostro giusto timore .\n",
      "Prediction: a me , e la mia volta , e la mia volta , e la mia volta , e la mia volta , che non mi , e non mi , e non mi .\n",
      "================================================================================\n",
      "Checkpoint saved at /content/models/transformer_en_it_5.pt\n"
     ]
    },
    {
     "name": "stderr",
     "output_type": "stream",
     "text": [
      "Epoch 6/10 - Training: 100%|██████████| 910/910 [11:20<00:00,  1.34it/s, loss=5.67]\n"
     ]
    },
    {
     "name": "stdout",
     "output_type": "stream",
     "text": [
      "Epoch 6/10 completed. Avg Loss: 5.5545\n",
      "Validating Epoch 6/10...\n",
      "================================================================================\n",
      "Source: It makes him contemptible to be considered fickle , frivolous , effeminate , mean - spirited , irresolute , from all of which a prince should guard himself as from a rock ; and he should endeavour to show in his actions greatness , courage , gravity , and fortitude ; and in his private dealings with his subjects let him show that his judgments are irrevocable , and maintain himself in such reputation that no one can hope either to deceive him or to get round him .\n",
      "Target: lo fa esser tenuto vario , leggieri , effeminato , pusillanime , : da che uno principe si debbe guardare come da uno scoglio , et ingegnarsi che nelle azioni sua si riconosca grandezza , animosità , gravità , fortezza , e , circa maneggi privati de ' sudditi , volere che la sua sentenzia sia ; e si mantenga in tale opinione , che alcuno non pensi né a ingannarlo né ad .\n",
      "Prediction: E , adunque , che non si , e che non si , e ' loro , che li , che li , che li , che li , che li , che li , che li , e ' loro , che li , che li , che li , che li , che li , che li , che li , che li , che li , che li , che li , che li , che li , e li , che li , che li , che li , che li , che li , che li , che li , che li , che li , che li , che li , che li , e li , che li , che li , che li , che li , e li , che li , che li , e che li , che li , e che li\n",
      "================================================================================\n",
      "================================================================================\n",
      "Source: Bertha Mason is mad ; and she came of a mad family ; idiots and through three generations !\n",
      "Target: \" Berta Mason è pazza , e viene da una famiglia di pazzi ; idioti o da più generazioni .\n",
      "Prediction: Ma , che non si può fare , e non si può fare , e non si può fare .\n",
      "================================================================================\n",
      "================================================================================\n",
      "Source: \" Love me , then , or hate me , as you will ,\" I said at last , \" you have my full and free forgiveness : ask now for God ' s , and be at peace .\"\n",
      "Target: — , allora , o , se volete ; in ogni caso vi perdono pienamente e liberamente . il perdono di Dio e state in pace .\n",
      "Prediction: — Non ho fatto che non voglio , — disse , — che non posso essere più , e che non posso essere più più più più .\n",
      "================================================================================\n",
      "================================================================================\n",
      "Source: ' All right , later ; but certainly tell me !\n",
      "Target: — Bene , dopo , ma me lo direte : assolutamente .\n",
      "Prediction: — Ma che non ci .\n",
      "================================================================================\n",
      "================================================================================\n",
      "Source: Yet all this while I lived uncomfortably , by reason of the constant apprehensions of their coming upon me by surprise : from whence I observe , that the expectation of evil is more bitter than the suffering , especially if there is no room to shake off that expectation or those apprehensions .\n",
      "Target: Tuttavia dopo averli avuti in tanta vicinanza l ’ ultima volta , me la passai sempre male d ’ allora in poi , non m ’ abbandonando più la paura che m ’ arrivassero d ’ improvviso alle spalle ; donde prendo motivo d ’ osservare , come un male che si aspetta sia più crudele ancora di un male che si soffre , specialmente quando non avete alcuna ragione che vi liberi dal vostro giusto timore .\n",
      "Prediction: a me , che mi , e mi , e che non mi , ma che non mi , e che non si , e che non poteva , e che non poteva .\n",
      "================================================================================\n",
      "Checkpoint saved at /content/models/transformer_en_it_6.pt\n"
     ]
    },
    {
     "name": "stderr",
     "output_type": "stream",
     "text": [
      "Epoch 7/10 - Training: 100%|██████████| 910/910 [11:19<00:00,  1.34it/s, loss=5.73]\n"
     ]
    },
    {
     "name": "stdout",
     "output_type": "stream",
     "text": [
      "Epoch 7/10 completed. Avg Loss: 5.4410\n",
      "Validating Epoch 7/10...\n",
      "================================================================================\n",
      "Source: It makes him contemptible to be considered fickle , frivolous , effeminate , mean - spirited , irresolute , from all of which a prince should guard himself as from a rock ; and he should endeavour to show in his actions greatness , courage , gravity , and fortitude ; and in his private dealings with his subjects let him show that his judgments are irrevocable , and maintain himself in such reputation that no one can hope either to deceive him or to get round him .\n",
      "Target: lo fa esser tenuto vario , leggieri , effeminato , pusillanime , : da che uno principe si debbe guardare come da uno scoglio , et ingegnarsi che nelle azioni sua si riconosca grandezza , animosità , gravità , fortezza , e , circa maneggi privati de ' sudditi , volere che la sua sentenzia sia ; e si mantenga in tale opinione , che alcuno non pensi né a ingannarlo né ad .\n",
      "Prediction: E ' principi , , , , , , , , , , , , , , , , , , , e ' , e ' , e ' , e ' , e ' , e ' , e ' , e ' , e ' , e ' , e ' , e , e ' , e ' , e ' , e ' , e ' , e ' , e ' , e ' , e , e ' , e , e , e , e , e , e , e , e , e , e , e , e , e , e , e , e , e , e , e , e , e , e , e , e , e\n",
      "================================================================================\n",
      "================================================================================\n",
      "Source: Bertha Mason is mad ; and she came of a mad family ; idiots and through three generations !\n",
      "Target: \" Berta Mason è pazza , e viene da una famiglia di pazzi ; idioti o da più generazioni .\n",
      "Prediction: E non è vero che non è possibile , ma non è vero che non è possibile .\n",
      "================================================================================\n",
      "================================================================================\n",
      "Source: \" Love me , then , or hate me , as you will ,\" I said at last , \" you have my full and free forgiveness : ask now for God ' s , and be at peace .\"\n",
      "Target: — , allora , o , se volete ; in ogni caso vi perdono pienamente e liberamente . il perdono di Dio e state in pace .\n",
      "Prediction: — Non vi sono più , — disse , — che non mi , ma non posso , ma non posso .\n",
      "================================================================================\n",
      "================================================================================\n",
      "Source: ' All right , later ; but certainly tell me !\n",
      "Target: — Bene , dopo , ma me lo direte : assolutamente .\n",
      "Prediction: — No , non è nulla .\n",
      "================================================================================\n",
      "================================================================================\n",
      "Source: Yet all this while I lived uncomfortably , by reason of the constant apprehensions of their coming upon me by surprise : from whence I observe , that the expectation of evil is more bitter than the suffering , especially if there is no room to shake off that expectation or those apprehensions .\n",
      "Target: Tuttavia dopo averli avuti in tanta vicinanza l ’ ultima volta , me la passai sempre male d ’ allora in poi , non m ’ abbandonando più la paura che m ’ arrivassero d ’ improvviso alle spalle ; donde prendo motivo d ’ osservare , come un male che si aspetta sia più crudele ancora di un male che si soffre , specialmente quando non avete alcuna ragione che vi liberi dal vostro giusto timore .\n",
      "Prediction: la mia mente , e la mia , e la mia vita mi , e mi , e , e , e , e , e , e , e , e , e , e , e .\n",
      "================================================================================\n",
      "Checkpoint saved at /content/models/transformer_en_it_7.pt\n"
     ]
    },
    {
     "name": "stderr",
     "output_type": "stream",
     "text": [
      "Epoch 8/10 - Training: 100%|██████████| 910/910 [11:19<00:00,  1.34it/s, loss=5.52]\n"
     ]
    },
    {
     "name": "stdout",
     "output_type": "stream",
     "text": [
      "Epoch 8/10 completed. Avg Loss: 5.3405\n",
      "Validating Epoch 8/10...\n",
      "================================================================================\n",
      "Source: It makes him contemptible to be considered fickle , frivolous , effeminate , mean - spirited , irresolute , from all of which a prince should guard himself as from a rock ; and he should endeavour to show in his actions greatness , courage , gravity , and fortitude ; and in his private dealings with his subjects let him show that his judgments are irrevocable , and maintain himself in such reputation that no one can hope either to deceive him or to get round him .\n",
      "Target: lo fa esser tenuto vario , leggieri , effeminato , pusillanime , : da che uno principe si debbe guardare come da uno scoglio , et ingegnarsi che nelle azioni sua si riconosca grandezza , animosità , gravità , fortezza , e , circa maneggi privati de ' sudditi , volere che la sua sentenzia sia ; e si mantenga in tale opinione , che alcuno non pensi né a ingannarlo né ad .\n",
      "Prediction: E ' tempi , non si può essere più , e non si può essere più , e non si , e non si , e ' tempi , e non si , e ' populi , e non si , e ' populi , e ' populi , e li , e ' populi , e li , e ' populi , e ' populi , e li , e ' populi , e ' populi , e li , e ' populi , e li , e ' populi , e li , e ' populi , e ' populi , e ' populi , e li , e li , e li , e li , e li , e li , e li , e li , e li , e ' populi , e li , e li , e li , e ' populi , e li , e li , e li , e non si , e non si , e non si e non\n",
      "================================================================================\n",
      "================================================================================\n",
      "Source: Bertha Mason is mad ; and she came of a mad family ; idiots and through three generations !\n",
      "Target: \" Berta Mason è pazza , e viene da una famiglia di pazzi ; idioti o da più generazioni .\n",
      "Prediction: E , come non si può essere più , e non si può essere più .\n",
      "================================================================================\n",
      "================================================================================\n",
      "Source: \" Love me , then , or hate me , as you will ,\" I said at last , \" you have my full and free forgiveness : ask now for God ' s , and be at peace .\"\n",
      "Target: — , allora , o , se volete ; in ogni caso vi perdono pienamente e liberamente . il perdono di Dio e state in pace .\n",
      "Prediction: — Non ho mai mai , — risposi , — mi , — mi , — ma non voglio , né che non posso .\n",
      "================================================================================\n",
      "================================================================================\n",
      "Source: ' All right , later ; but certainly tell me !\n",
      "Target: — Bene , dopo , ma me lo direte : assolutamente .\n",
      "Prediction: — Non so , ma non mi .\n",
      "================================================================================\n",
      "================================================================================\n",
      "Source: Yet all this while I lived uncomfortably , by reason of the constant apprehensions of their coming upon me by surprise : from whence I observe , that the expectation of evil is more bitter than the suffering , especially if there is no room to shake off that expectation or those apprehensions .\n",
      "Target: Tuttavia dopo averli avuti in tanta vicinanza l ’ ultima volta , me la passai sempre male d ’ allora in poi , non m ’ abbandonando più la paura che m ’ arrivassero d ’ improvviso alle spalle ; donde prendo motivo d ’ osservare , come un male che si aspetta sia più crudele ancora di un male che si soffre , specialmente quando non avete alcuna ragione che vi liberi dal vostro giusto timore .\n",
      "Prediction: a me , e mi diedi a me , e mi diedi a me , e mi diedi a me , e mi diedi a me , e mi diedi a me , e mi diedi a me , e mi .\n",
      "================================================================================\n",
      "Checkpoint saved at /content/models/transformer_en_it_8.pt\n"
     ]
    },
    {
     "name": "stderr",
     "output_type": "stream",
     "text": [
      "Epoch 9/10 - Training: 100%|██████████| 910/910 [11:20<00:00,  1.34it/s, loss=5.1]\n"
     ]
    },
    {
     "name": "stdout",
     "output_type": "stream",
     "text": [
      "Epoch 9/10 completed. Avg Loss: 5.2428\n",
      "Validating Epoch 9/10...\n",
      "================================================================================\n",
      "Source: It makes him contemptible to be considered fickle , frivolous , effeminate , mean - spirited , irresolute , from all of which a prince should guard himself as from a rock ; and he should endeavour to show in his actions greatness , courage , gravity , and fortitude ; and in his private dealings with his subjects let him show that his judgments are irrevocable , and maintain himself in such reputation that no one can hope either to deceive him or to get round him .\n",
      "Target: lo fa esser tenuto vario , leggieri , effeminato , pusillanime , : da che uno principe si debbe guardare come da uno scoglio , et ingegnarsi che nelle azioni sua si riconosca grandezza , animosità , gravità , fortezza , e , circa maneggi privati de ' sudditi , volere che la sua sentenzia sia ; e si mantenga in tale opinione , che alcuno non pensi né a ingannarlo né ad .\n",
      "Prediction: E ' tempi che li uomini non possono fare , non li uomini , non li uomini , non li , e ' tempi che li , e ' tempi , e ' tempi , non li , e ' tempi , e ' tempi , non li , e ' tempi , sanza quelli che li uomini , non li , e ' tempi , e ' tempi , e ' tempi , sanza , non li .\n",
      "================================================================================\n",
      "================================================================================\n",
      "Source: Bertha Mason is mad ; and she came of a mad family ; idiots and through three generations !\n",
      "Target: \" Berta Mason è pazza , e viene da una famiglia di pazzi ; idioti o da più generazioni .\n",
      "Prediction: È un uomo che non è un uomo che non è un uomo che non è un uomo .\n",
      "================================================================================\n",
      "================================================================================\n",
      "Source: \" Love me , then , or hate me , as you will ,\" I said at last , \" you have my full and free forgiveness : ask now for God ' s , and be at peace .\"\n",
      "Target: — , allora , o , se volete ; in ogni caso vi perdono pienamente e liberamente . il perdono di Dio e state in pace .\n",
      "Prediction: — Non vi ho mai mai pensato , — risposi . — Non vi ho mai mai bisogno di voi , ma non posso essere più .\n",
      "================================================================================\n",
      "================================================================================\n",
      "Source: ' All right , later ; but certainly tell me !\n",
      "Target: — Bene , dopo , ma me lo direte : assolutamente .\n",
      "Prediction: — Ma io non lo so .\n",
      "================================================================================\n",
      "================================================================================\n",
      "Source: Yet all this while I lived uncomfortably , by reason of the constant apprehensions of their coming upon me by surprise : from whence I observe , that the expectation of evil is more bitter than the suffering , especially if there is no room to shake off that expectation or those apprehensions .\n",
      "Target: Tuttavia dopo averli avuti in tanta vicinanza l ’ ultima volta , me la passai sempre male d ’ allora in poi , non m ’ abbandonando più la paura che m ’ arrivassero d ’ improvviso alle spalle ; donde prendo motivo d ’ osservare , come un male che si aspetta sia più crudele ancora di un male che si soffre , specialmente quando non avete alcuna ragione che vi liberi dal vostro giusto timore .\n",
      "Prediction: a questo tempo , che mi , e non mi , ma non mi , ma non mi , ma non mi , ma non mi , ma non mi .\n",
      "================================================================================\n",
      "Checkpoint saved at /content/models/transformer_en_it_9.pt\n"
     ]
    },
    {
     "name": "stderr",
     "output_type": "stream",
     "text": [
      "Epoch 10/10 - Training: 100%|██████████| 910/910 [11:19<00:00,  1.34it/s, loss=5.27]\n"
     ]
    },
    {
     "name": "stdout",
     "output_type": "stream",
     "text": [
      "Epoch 10/10 completed. Avg Loss: 5.1497\n",
      "Validating Epoch 10/10...\n",
      "================================================================================\n",
      "Source: It makes him contemptible to be considered fickle , frivolous , effeminate , mean - spirited , irresolute , from all of which a prince should guard himself as from a rock ; and he should endeavour to show in his actions greatness , courage , gravity , and fortitude ; and in his private dealings with his subjects let him show that his judgments are irrevocable , and maintain himself in such reputation that no one can hope either to deceive him or to get round him .\n",
      "Target: lo fa esser tenuto vario , leggieri , effeminato , pusillanime , : da che uno principe si debbe guardare come da uno scoglio , et ingegnarsi che nelle azioni sua si riconosca grandezza , animosità , gravità , fortezza , e , circa maneggi privati de ' sudditi , volere che la sua sentenzia sia ; e si mantenga in tale opinione , che alcuno non pensi né a ingannarlo né ad .\n",
      "Prediction: E , se non si , e ' principi , e li , e li , e ' , e ' , e li , e li , e ' tempi , e li , e ' tempi , e li , e ' tempi , e li , e ' , e ' , e ' , e ' populi , , , , , , , , , , , , , , , , , , , , , , , , , , , , , , , , , , , , , , , , , , , , , , , , , , e , , , , e , e , e , e , e , e ,\n",
      "================================================================================\n",
      "================================================================================\n",
      "Source: Bertha Mason is mad ; and she came of a mad family ; idiots and through three generations !\n",
      "Target: \" Berta Mason è pazza , e viene da una famiglia di pazzi ; idioti o da più generazioni .\n",
      "Prediction: E se non si può dire che non si , e non si può .\n",
      "================================================================================\n",
      "================================================================================\n",
      "Source: \" Love me , then , or hate me , as you will ,\" I said at last , \" you have my full and free forgiveness : ask now for God ' s , and be at peace .\"\n",
      "Target: — , allora , o , se volete ; in ogni caso vi perdono pienamente e liberamente . il perdono di Dio e state in pace .\n",
      "Prediction: — Sì , — dissi , — ma non posso che non mi , ma non posso , ma non posso , né che non mi .\n",
      "================================================================================\n",
      "================================================================================\n",
      "Source: ' All right , later ; but certainly tell me !\n",
      "Target: — Bene , dopo , ma me lo direte : assolutamente .\n",
      "Prediction: — Ma non è stato in nessun modo , ma non è vero .\n",
      "================================================================================\n",
      "================================================================================\n",
      "Source: Yet all this while I lived uncomfortably , by reason of the constant apprehensions of their coming upon me by surprise : from whence I observe , that the expectation of evil is more bitter than the suffering , especially if there is no room to shake off that expectation or those apprehensions .\n",
      "Target: Tuttavia dopo averli avuti in tanta vicinanza l ’ ultima volta , me la passai sempre male d ’ allora in poi , non m ’ abbandonando più la paura che m ’ arrivassero d ’ improvviso alle spalle ; donde prendo motivo d ’ osservare , come un male che si aspetta sia più crudele ancora di un male che si soffre , specialmente quando non avete alcuna ragione che vi liberi dal vostro giusto timore .\n",
      "Prediction: Ma , dopo un ’ altra quantità di , mi , e non mi , e non mi , e non mi , e non mi , e non mi , e non mi , e non mi , e non mi .\n",
      "================================================================================\n",
      "Checkpoint saved at /content/models/transformer_en_it_10.pt\n"
     ]
    }
   ],
   "source": [
    "if __name__ == '__main__':\n",
    "    warnings.filterwarnings('ignore')\n",
    "    config = get_config()\n",
    "    train_model(config)"
   ]
  },
  {
   "cell_type": "code",
   "execution_count": null,
   "metadata": {
    "id": "DjLkGggG28Vv"
   },
   "outputs": [],
   "source": [
    "# !sudo fuser -v /dev/nvidia*\n",
    "# !sudo kill -9 $(sudo fuser /dev/nvidia* | awk '{print $1}')"
   ]
  },
  {
   "cell_type": "markdown",
   "metadata": {
    "id": "v3axMN7QWiVH"
   },
   "source": [
    "# Section 2: BERT and LoRA\n",
    "\n",
    "Welcome to Section 2 of our Machine Learning assignment! I hope you've been enjoying the journey so far! 😊\n",
    "\n",
    " In this section, you will gain hands-on experience with [BERT](https://arxiv.org/abs/1810.04805) (Bidirectional Encoder Representations from Transformers) and [LoRA](https://arxiv.org/abs/2106.09685) (Low-Rank Adaptation) for text classification tasks. The section is divided into three main parts, each focusing on different aspects of NLP techniques.\n",
    "\n",
    "## Assignment Structure\n",
    "\n",
    "### Part 1: Data Preparation and Preprocessing\n",
    "In this part, you will work with a text classification dataset. You will learn how to:\n",
    "- Download and load the dataset\n",
    "- Perform necessary preprocessing steps\n",
    "- Implement data cleaning and transformation techniques\n",
    "- Prepare the data in a format suitable for BERT training\n",
    "\n",
    "### Part 2: Building a Small BERT Model\n",
    "You will create and train a small BERT model from scratch using the Hugging Face [Transformers](https://huggingface.co/docs/transformers/en/index) library. This part will help you understand:\n",
    "- The architecture of BERT\n",
    "- How to configure and initialize a BERT model\n",
    "- Training process and optimization\n",
    "- Model evaluation and performance analysis\n",
    "\n",
    "### Part 3: Fine-tuning with LoRA\n",
    "In the final part, you will work with a pre-trained [TinyBERT](https://arxiv.org/abs/1909.10351) model and use LoRA for efficient fine-tuning. You will:\n",
    "- Load a pre-trained TinyBERT model\n",
    "- Implement LoRA adaptation and fine-tune the model on our classification task\n",
    "- Compare the results with the previous approach"
   ]
  },
  {
   "cell_type": "markdown",
   "metadata": {
    "id": "M6FKcSFbOTMd"
   },
   "source": [
    "---\n",
    "\n",
    "> **NOTE**:  \n",
    "> Throughout this notebook, make an effort to include sufficient visualizations to enhance understanding:  \n",
    "> - In the data processing section, display the results of your operations (e.g., show data samples or distributions after preprocessing).  \n",
    "> - In the classification section, report various evaluation metrics such as accuracy, precision, recall, and F1-score to thoroughly assess your model's performance.  \n",
    "> - Additionally, take a moment to compare the sizes of the models discussed in this notebook with today’s enormous models. This will help you appreciate the challenges and computational demands associated with training such massive models. 😵‍💫\n",
    "\n",
    "---\n"
   ]
  },
  {
   "cell_type": "markdown",
   "metadata": {
    "id": "GHKw2r6yYV7n"
   },
   "source": [
    "## Part 1: Data Preparation and Preprocessing\n",
    "We'll be working with the [Consumer Complaint](https://catalog.data.gov/dataset/consumer-complaint-database) dataset, which contains ***complaints*** submitted by consumers about financial products and services. Our goal is to build a classifier that can automatically identify the type of complaint based on the consumer's text description. For this task, we will work with a smaller subset of the dataset, available for download through this [link](https://drive.google.com/file/d/1SpIHksR-WzruEgUjp1SQKGG8bZPnJJoN/view?usp=sharing)."
   ]
  },
  {
   "cell_type": "code",
   "execution_count": 1,
   "metadata": {
    "execution": {
     "iopub.execute_input": "2025-01-05T18:09:43.702033Z",
     "iopub.status.busy": "2025-01-05T18:09:43.701851Z",
     "iopub.status.idle": "2025-01-05T18:09:50.214637Z",
     "shell.execute_reply": "2025-01-05T18:09:50.213894Z",
     "shell.execute_reply.started": "2025-01-05T18:09:43.702012Z"
    },
    "id": "7ELMR8kXUh3o",
    "trusted": true
   },
   "outputs": [],
   "source": [
    "import torch\n",
    "from torch.utils.data import Dataset, DataLoader\n",
    "from transformers import BertTokenizer, BertForSequenceClassification, AdamW, BertConfig\n",
    "from sklearn.model_selection import train_test_split\n",
    "import numpy as np\n",
    "import pandas as pd\n",
    "from sklearn.preprocessing import LabelEncoder\n",
    "from tqdm import tqdm\n",
    "import matplotlib.pyplot as plt\n",
    "import gdown\n",
    "from sklearn.preprocessing import LabelEncoder\n",
    "import re"
   ]
  },
  {
   "cell_type": "markdown",
   "metadata": {
    "id": "9oJXlKLYeymq"
   },
   "source": [
    "### 1.2 Loading the Data"
   ]
  },
  {
   "cell_type": "code",
   "execution_count": 4,
   "metadata": {
    "execution": {
     "iopub.execute_input": "2025-01-05T18:14:55.325943Z",
     "iopub.status.busy": "2025-01-05T18:14:55.325653Z",
     "iopub.status.idle": "2025-01-05T18:16:36.349152Z",
     "shell.execute_reply": "2025-01-05T18:16:36.348267Z",
     "shell.execute_reply.started": "2025-01-05T18:14:55.325922Z"
    },
    "trusted": true
   },
   "outputs": [
    {
     "name": "stdout",
     "output_type": "stream",
     "text": [
      "Requirement already satisfied: gdown in /usr/local/lib/python3.10/dist-packages (5.2.0)\n",
      "Requirement already satisfied: beautifulsoup4 in /usr/local/lib/python3.10/dist-packages (from gdown) (4.12.3)\n",
      "Requirement already satisfied: filelock in /usr/local/lib/python3.10/dist-packages (from gdown) (3.16.1)\n",
      "Requirement already satisfied: requests[socks] in /usr/local/lib/python3.10/dist-packages (from gdown) (2.32.3)\n",
      "Requirement already satisfied: tqdm in /usr/local/lib/python3.10/dist-packages (from gdown) (4.66.5)\n",
      "Requirement already satisfied: soupsieve>1.2 in /usr/local/lib/python3.10/dist-packages (from beautifulsoup4->gdown) (2.6)\n",
      "Requirement already satisfied: charset-normalizer<4,>=2 in /usr/local/lib/python3.10/dist-packages (from requests[socks]->gdown) (3.3.2)\n",
      "Requirement already satisfied: idna<4,>=2.5 in /usr/local/lib/python3.10/dist-packages (from requests[socks]->gdown) (3.10)\n",
      "Requirement already satisfied: urllib3<3,>=1.21.1 in /usr/local/lib/python3.10/dist-packages (from requests[socks]->gdown) (2.2.3)\n",
      "Requirement already satisfied: certifi>=2017.4.17 in /usr/local/lib/python3.10/dist-packages (from requests[socks]->gdown) (2024.8.30)\n",
      "Requirement already satisfied: PySocks!=1.5.7,>=1.5.6 in /usr/local/lib/python3.10/dist-packages (from requests[socks]->gdown) (1.7.1)\n",
      "/usr/local/lib/python3.10/dist-packages/gdown/__main__.py:140: FutureWarning: Option `--id` was deprecated in version 4.3.1 and will be removed in 5.0. You don't need to pass it anymore to use a file ID.\n",
      "  warnings.warn(\n",
      "Downloading...\n",
      "From (original): https://drive.google.com/uc?id=1SpIHksR-WzruEgUjp1SQKGG8bZPnJJoN\n",
      "From (redirected): https://drive.google.com/uc?id=1SpIHksR-WzruEgUjp1SQKGG8bZPnJJoN&confirm=t&uuid=6a4750ce-70b6-4085-9324-0f046bbebebd\n",
      "To: /kaggle/working/dataset.zip\n",
      "100%|█████████████████████████████████████████| 290M/290M [00:02<00:00, 122MB/s]\n",
      "Archive:  dataset.zip\n",
      "replace /kaggle/working/complaints_small.csv? [y]es, [n]o, [A]ll, [N]one, [r]ename: ^C\n",
      "complaints_small.csv  dataset.zip\n"
     ]
    }
   ],
   "source": [
    "!pip install gdown\n",
    "!gdown --id 1SpIHksR-WzruEgUjp1SQKGG8bZPnJJoN -O dataset.zip\n",
    "!unzip dataset.zip -d /kaggle/working/\n",
    "!ls /kaggle/working/"
   ]
  },
  {
   "cell_type": "code",
   "execution_count": 14,
   "metadata": {
    "execution": {
     "iopub.execute_input": "2025-01-05T18:36:24.437439Z",
     "iopub.status.busy": "2025-01-05T18:36:24.437118Z",
     "iopub.status.idle": "2025-01-05T18:36:35.184543Z",
     "shell.execute_reply": "2025-01-05T18:36:35.183658Z",
     "shell.execute_reply.started": "2025-01-05T18:36:24.437386Z"
    },
    "id": "mGga8BmnUcl0",
    "trusted": true
   },
   "outputs": [
    {
     "name": "stdout",
     "output_type": "stream",
     "text": [
      "\n",
      "Dataset Preview:\n",
      "                                             Product  \\\n",
      "0  Credit reporting, credit repair services, or o...   \n",
      "1                                       Student loan   \n",
      "2  Credit reporting or other personal consumer re...   \n",
      "3  Credit reporting, credit repair services, or o...   \n",
      "4  Credit reporting or other personal consumer re...   \n",
      "\n",
      "                        Consumer complaint narrative  \n",
      "0  My credit reports are inaccurate. These inaccu...  \n",
      "1  Beginning in XX/XX/XXXX I had taken out studen...  \n",
      "2  I am disputing a charge-off on my account that...  \n",
      "3  I did not consent to, authorize, nor benefit f...  \n",
      "4  I am a federally protected consumer and I am a...  \n",
      "\n",
      "Dataset Info:\n",
      "<class 'pandas.core.frame.DataFrame'>\n",
      "RangeIndex: 941128 entries, 0 to 941127\n",
      "Data columns (total 2 columns):\n",
      " #   Column                        Non-Null Count   Dtype \n",
      "---  ------                        --------------   ----- \n",
      " 0   Product                       941128 non-null  object\n",
      " 1   Consumer complaint narrative  941128 non-null  object\n",
      "dtypes: object(2)\n",
      "memory usage: 14.4+ MB\n",
      "None\n",
      "\n",
      "Missing Values:\n",
      "Product                         0\n",
      "Consumer complaint narrative    0\n",
      "dtype: int64\n",
      "\n",
      "Summary Statistics:\n",
      "                                                  Product  \\\n",
      "count                                              941128   \n",
      "unique                                                 21   \n",
      "top     Credit reporting, credit repair services, or o...   \n",
      "freq                                               322966   \n",
      "\n",
      "                             Consumer complaint narrative  \n",
      "count                                              941128  \n",
      "unique                                             755687  \n",
      "top     In accordance with the Fair Credit Reporting a...  \n",
      "freq                                                 6765  \n",
      "\n",
      "Sample Data:\n",
      "                                                  Product  \\\n",
      "755798  Credit reporting, credit repair services, or o...   \n",
      "742239  Credit reporting, credit repair services, or o...   \n",
      "410886  Credit reporting, credit repair services, or o...   \n",
      "415579  Credit reporting, credit repair services, or o...   \n",
      "468324                                    Debt collection   \n",
      "\n",
      "                             Consumer complaint narrative  \n",
      "755798  i acted upon my right to dispute innacurate in...  \n",
      "742239  Account name : XXXX XXXX Account number : XXXX...  \n",
      "410886  I've found that my credit report has erroneous...  \n",
      "415579  I checked my credit report and found that some...  \n",
      "468324  recently a collection appeared on my credit re...  \n"
     ]
    }
   ],
   "source": [
    "######################  TODO  ########################\n",
    "######################  TODO  ########################\n",
    "# Load the dataset\n",
    "\n",
    "######################  TODO  ########################\n",
    "######################  TODO  ########################\n",
    "\n",
    "data = pd.read_csv(\"/kaggle/working/complaints_small.csv\", encoding='latin1')\n",
    "\n",
    "print(\"\\nDataset Preview:\")\n",
    "print(data.head())\n",
    "\n",
    "print(\"\\nDataset Info:\")\n",
    "print(data.info())\n",
    "\n",
    "print(\"\\nMissing Values:\")\n",
    "print(data.isnull().sum())\n",
    "\n",
    "print(\"\\nSummary Statistics:\")\n",
    "print(data.describe())\n",
    "\n",
    "print(\"\\nSample Data:\")\n",
    "print(data.sample(5))"
   ]
  },
  {
   "cell_type": "code",
   "execution_count": 17,
   "metadata": {
    "execution": {
     "iopub.execute_input": "2025-01-05T18:43:21.749518Z",
     "iopub.status.busy": "2025-01-05T18:43:21.749195Z",
     "iopub.status.idle": "2025-01-05T18:43:40.286289Z",
     "shell.execute_reply": "2025-01-05T18:43:40.285524Z",
     "shell.execute_reply.started": "2025-01-05T18:43:21.749494Z"
    },
    "trusted": true
   },
   "outputs": [
    {
     "name": "stdout",
     "output_type": "stream",
     "text": [
      "\n",
      "Reducing dataset to relevant columns...\n",
      "Subset size after dropping missing values: (941128, 2)\n",
      "Product\n",
      "Credit reporting, credit repair services, or other personal consumer reports    322966\n",
      "Credit reporting or other personal consumer reports                             252019\n",
      "Debt collection                                                                 117285\n",
      "Mortgage                                                                         49358\n",
      "Checking or savings account                                                      44580\n",
      "Credit card or prepaid card                                                      43575\n",
      "Credit card                                                                      24776\n",
      "Student loan                                                                     18742\n",
      "Money transfer, virtual currency, or money service                               17962\n",
      "Vehicle loan or lease                                                            13777\n",
      "Credit reporting                                                                 12641\n",
      "Payday loan, title loan, or personal loan                                         6940\n",
      "Bank account or service                                                           5920\n",
      "Consumer Loan                                                                     3881\n",
      "Prepaid card                                                                      2402\n",
      "Payday loan, title loan, personal loan, or advance loan                           2300\n",
      "Payday loan                                                                        723\n",
      "Debt or credit management                                                          593\n",
      "Money transfers                                                                    571\n",
      "Other financial service                                                            110\n",
      "Virtual currency                                                                     7\n",
      "Name: count, dtype: int64\n",
      "\n",
      "Processed dataset saved at: /kaggle/working/processed_consumer_complaints.csv\n"
     ]
    }
   ],
   "source": [
    "if 'Consumer complaint narrative' in data.columns and 'Product' in data.columns:\n",
    "    print(\"\\nReducing dataset to relevant columns...\")\n",
    "    data_subset = data[['Consumer complaint narrative', 'Product']].dropna()  # Drop rows with missing values\n",
    "    print(f\"Subset size after dropping missing values: {data_subset.shape}\")\n",
    "else:\n",
    "    print(\"Required columns not found in the dataset. Please check the structure.\")\n",
    "    print(\"\\nClass distribution in the 'Product' column:\")\n",
    "print(data_subset['Product'].value_counts())\n",
    "\n",
    "processed_path = \"/kaggle/working/processed_consumer_complaints.csv\"\n",
    "data_subset.to_csv(processed_path, index=False)\n",
    "print(f\"\\nProcessed dataset saved at: {processed_path}\")"
   ]
  },
  {
   "cell_type": "markdown",
   "metadata": {
    "id": "L9hr8-FNgpVO"
   },
   "source": [
    "### 1.3 Data Sampling and Class Distribution Analysis\n",
    "\n",
    "Working with large datasets can be computationally intensive during development. Additionally, imbalanced class distribution can affect model performance. In this section, you'll sample the data and analyze class distributions to make informed decisions about your training dataset."
   ]
  },
  {
   "cell_type": "markdown",
   "metadata": {
    "id": "Cl_g_ZU4h5RG"
   },
   "source": [
    "---\n",
    "\n",
    "We'll work with a manageable portion of the data to develop and test our approach. While using the complete dataset would likely yield better results, a smaller sample allows us to prototype our solution more efficiently.\n"
   ]
  },
  {
   "cell_type": "code",
   "execution_count": 20,
   "metadata": {
    "execution": {
     "iopub.execute_input": "2025-01-05T18:45:03.456796Z",
     "iopub.status.busy": "2025-01-05T18:45:03.456490Z",
     "iopub.status.idle": "2025-01-05T18:45:03.948379Z",
     "shell.execute_reply": "2025-01-05T18:45:03.947513Z",
     "shell.execute_reply.started": "2025-01-05T18:45:03.456761Z"
    },
    "id": "QAJUXNCFhYsf",
    "trusted": true
   },
   "outputs": [
    {
     "data": {
      "image/png": "[encoded data removed]",
      "text/plain": [
       "<Figure size 1000x600 with 1 Axes>"
      ]
     },
     "metadata": {},
     "output_type": "display_data"
    }
   ],
   "source": [
    "######################  TODO  ########################\n",
    "######################  TODO  ########################\n",
    "\n",
    "# - Sample a portion of the complete dataset\n",
    "# - Display the first few rows of your sampled dataset\n",
    "# - Print the shape of your original and sampled datasets\n",
    "\n",
    "######################  TODO  ########################\n",
    "######################  TODO  ########################\n",
    "# 1.3 Data Sampling and Class Distribution Analysis\n",
    "\n",
    "sample_fraction = 0.1\n",
    "data_sampled = data_subset.sample(frac=sample_fraction, random_state=42)\n",
    "\n",
    "class_distribution = data_sampled['Product'].value_counts()\n",
    "\n",
    "plt.figure(figsize=(10, 6))\n",
    "class_distribution.plot(kind='bar')\n",
    "plt.title(\"Class Distribution in the Sampled Dataset\", fontsize=14)\n",
    "plt.xlabel(\"Product\", fontsize=12)\n",
    "plt.ylabel(\"Count\", fontsize=12)\n",
    "plt.xticks(rotation=45, ha='right')\n",
    "plt.tight_layout()\n",
    "plt.show()"
   ]
  },
  {
   "cell_type": "markdown",
   "metadata": {
    "id": "50a4NJeMiBb6"
   },
   "source": [
    "---\n",
    "\n",
    "Let's examine the distribution of ***complaints*** types in our dataset. You'll notice that some products have significantly more instances than others, and some categories are quite similar. For example:\n",
    "\n",
    "- Multiple categories might refer to similar financial products\n",
    "- Some categories might have very few examples\n",
    "- Certain categories might be subcategories of others\n",
    "\n",
    "You have two main approaches to handle this situation:\n",
    "\n",
    "1. **Merging Similar Classes:** Identify categories that represent similar products/services and Combine them to create more robust, general categories\n",
    "\n",
    "2. **Selecting Major Classes:** Only select the categories with sufficient representation\n",
    "\n",
    "\n",
    "\n",
    "> You may choose any approach, but after this step, your data must include **at least five** distinct classes.\n",
    "\n"
   ]
  },
  {
   "cell_type": "code",
   "execution_count": 22,
   "metadata": {
    "execution": {
     "iopub.execute_input": "2025-01-05T18:46:14.292610Z",
     "iopub.status.busy": "2025-01-05T18:46:14.292291Z",
     "iopub.status.idle": "2025-01-05T18:46:14.744785Z",
     "shell.execute_reply": "2025-01-05T18:46:14.743954Z",
     "shell.execute_reply.started": "2025-01-05T18:46:14.292585Z"
    },
    "id": "nby2Hrwwjd46",
    "trusted": true
   },
   "outputs": [
    {
     "data": {
      "image/png": "[encoded data removed]",
      "text/plain": [
       "<Figure size 1000x600 with 1 Axes>"
      ]
     },
     "metadata": {},
     "output_type": "display_data"
    }
   ],
   "source": [
    "######################  TODO  ########################\n",
    "######################  TODO  ########################\n",
    "\n",
    "# - Display the number of complaints in each product category\n",
    "# - Identify which classes are under-represented\n",
    "\n",
    "# - Handle class imbalance by choosing and implementing one of these approaches:\n",
    "#   1. Merge similar product categories (e.g., combining related categories)\n",
    "#   2. Keep only the major classes with sufficient examples\n",
    "\n",
    "######################  TODO  ########################\n",
    "######################  TODO  ########################\n",
    "\n",
    "class_counts = data_sampled['Product'].value_counts()\n",
    "\n",
    "threshold = 50 \n",
    "under_represented_classes = class_counts[class_counts < threshold]\n",
    "\n",
    "category_mapping = {\n",
    "    'Credit card': 'Credit products',\n",
    "    'Credit reporting': 'Credit products',\n",
    "    'Payday loan': 'Loan products',\n",
    "    'Mortgage': 'Loan products',\n",
    "    'Student loan': 'Loan products',\n",
    "    'Bank account or service': 'Banking services',\n",
    "    'Checking or savings account': 'Banking services',\n",
    "}\n",
    "\n",
    "data_sampled['Product'] = data_sampled['Product'].replace(category_mapping)\n",
    "distinct_classes = data_sampled['Product'].value_counts()\n",
    "\n",
    "if len(distinct_classes) < 5:\n",
    "    major_classes = distinct_classes[distinct_classes >= threshold].index\n",
    "    data_sampled = data_sampled[data_sampled['Product'].isin(major_classes)]\n",
    "\n",
    "final_class_distribution = data_sampled['Product'].value_counts()\n",
    "\n",
    "plt.figure(figsize=(10, 6))\n",
    "final_class_distribution.plot(kind='bar', color='skyblue')\n",
    "plt.title(\"Final Class Distribution\", fontsize=14)\n",
    "plt.xlabel(\"Product\", fontsize=12)\n",
    "plt.ylabel(\"Count\", fontsize=12)\n",
    "plt.xticks(rotation=45, ha='right')\n",
    "plt.tight_layout()\n",
    "plt.show()"
   ]
  },
  {
   "cell_type": "markdown",
   "metadata": {
    "id": "lD3oISsijt1P"
   },
   "source": [
    "---\n",
    "### 1.4 Data Encoding and Text Preprocessing\n",
    "\n",
    "Before training our model, we need to prepare both our target labels and text data. This involves converting categorical labels into numerical format and cleaning our text data to improve model performance."
   ]
  },
  {
   "cell_type": "code",
   "execution_count": 23,
   "metadata": {
    "execution": {
     "iopub.execute_input": "2025-01-05T18:46:44.412850Z",
     "iopub.status.busy": "2025-01-05T18:46:44.412546Z",
     "iopub.status.idle": "2025-01-05T18:46:53.688857Z",
     "shell.execute_reply": "2025-01-05T18:46:53.688110Z",
     "shell.execute_reply.started": "2025-01-05T18:46:44.412827Z"
    },
    "id": "pAmaRU92mGyT",
    "trusted": true
   },
   "outputs": [
    {
     "name": "stdout",
     "output_type": "stream",
     "text": [
      "\n",
      "Encoding product categories into numeric labels...\n",
      "\n",
      "Sample data after label encoding:\n",
      "                                                  Product  Product_encoded\n",
      "335123  Credit reporting or other personal consumer re...                4\n",
      "601718                                      Loan products                8\n",
      "847752  Credit reporting, credit repair services, or o...                5\n",
      "765316  Credit reporting or other personal consumer re...                4\n",
      "798300  Credit reporting, credit repair services, or o...                5\n",
      "\n",
      "Cleaning text data...\n",
      "\n",
      "Removing very short complaints (less than 10 words)...\n",
      "\n",
      "Sample data after text preprocessing:\n",
      "                             Consumer complaint narrative  \\\n",
      "335123  upon reviewing my credit report i have identif...   \n",
      "601718  i was doing a rate check to refinance the agen...   \n",
      "847752  this is my nd request that i have been a victi...   \n",
      "765316  im sending this compliant to inform credit bur...   \n",
      "798300  im submitting a complaint to you today to info...   \n",
      "\n",
      "                                                  Product  Product_encoded  \n",
      "335123  Credit reporting or other personal consumer re...                4  \n",
      "601718                                      Loan products                8  \n",
      "847752  Credit reporting, credit repair services, or o...                5  \n",
      "765316  Credit reporting or other personal consumer re...                4  \n",
      "798300  Credit reporting, credit repair services, or o...                5  \n",
      "\n",
      "Preprocessed dataset saved at: /kaggle/working/preprocessed_consumer_complaints.csv\n"
     ]
    }
   ],
   "source": [
    "######################  TODO  ########################\n",
    "######################  TODO  ########################\n",
    "\n",
    "# Label Encoding\n",
    "# - Apply label encoding to convert product categories into numeric values\n",
    "\n",
    "# Text Preprocessing\n",
    "# Choose and implement preprocessing steps that you think will improve the quality of your text data.\n",
    "# Here are some suggestions:\n",
    "\n",
    "# - Remove special characters and punctuation\n",
    "# - Remove very short complaints (e.g., less than 10 words)\n",
    "# - Remove HTML tags if present\n",
    "\n",
    "######################  TODO  ########################\n",
    "######################  TODO  ########################\n",
    "\n",
    "print(\"\\nEncoding product categories into numeric labels...\")\n",
    "label_encoder = LabelEncoder()\n",
    "data_sampled['Product_encoded'] = label_encoder.fit_transform(data_sampled['Product'])\n",
    "\n",
    "print(\"\\nSample data after label encoding:\")\n",
    "print(data_sampled[['Product', 'Product_encoded']].head())\n",
    "\n",
    "def clean_text(text):\n",
    "    text = re.sub(r'<.*?>', '', text)\n",
    "    \n",
    "    text = re.sub(r'[^a-zA-Z\\s]', '', text)\n",
    "\n",
    "    text = text.lower()\n",
    "\n",
    "    text = re.sub(r'\\s+', ' ', text).strip()\n",
    "    return text\n",
    "\n",
    "print(\"\\nCleaning text data...\")\n",
    "data_sampled['Consumer complaint narrative'] = data_sampled['Consumer complaint narrative'].apply(clean_text)\n",
    "\n",
    "print(\"\\nRemoving very short complaints (less than 10 words)...\")\n",
    "data_sampled['word_count'] = data_sampled['Consumer complaint narrative'].apply(lambda x: len(x.split()))\n",
    "data_sampled = data_sampled[data_sampled['word_count'] >= 10]\n",
    "\n",
    "data_sampled = data_sampled.drop(columns=['word_count'])\n",
    "\n",
    "print(\"\\nSample data after text preprocessing:\")\n",
    "print(data_sampled.head())\n",
    "\n",
    "preprocessed_path = \"/kaggle/working/preprocessed_consumer_complaints.csv\"\n",
    "data_sampled.to_csv(preprocessed_path, index=False)\n",
    "print(f\"\\nPreprocessed dataset saved at: {preprocessed_path}\")"
   ]
  },
  {
   "cell_type": "markdown",
   "metadata": {
    "id": "j4jVvN4oopUU"
   },
   "source": [
    "## 1.5 Dataset Creation and Tokenization\n",
    "\n",
    "For training our BERT model, we need to:\n",
    "1. Create a custom Dataset class that will handle tokenization\n",
    "2. Split the data into training and testing sets\n",
    "3. Use BERT's tokenizer to convert text into a format suitable for the model"
   ]
  },
  {
   "cell_type": "code",
   "execution_count": 24,
   "metadata": {
    "execution": {
     "iopub.execute_input": "2025-01-05T18:49:19.912314Z",
     "iopub.status.busy": "2025-01-05T18:49:19.912019Z",
     "iopub.status.idle": "2025-01-05T18:49:19.917955Z",
     "shell.execute_reply": "2025-01-05T18:49:19.917245Z",
     "shell.execute_reply.started": "2025-01-05T18:49:19.912292Z"
    },
    "id": "yHLQgJhopEh5",
    "trusted": true
   },
   "outputs": [],
   "source": [
    "######################  TODO  ########################\n",
    "######################  TODO  ########################\n",
    "\n",
    "class ComplaintDataset(Dataset):\n",
    "    \"\"\"A custom Dataset class for handling consumer complaints text data with BERT tokenization.\n",
    "\n",
    "    Parameters:\n",
    "        texts (List[str]): List of complaint texts to be processed\n",
    "        labels (List[int]): List of encoded labels corresponding to each text\n",
    "        tokenizer (BertTokenizer): A BERT tokenizer instance for text processing\n",
    "        max_len (int, optional): Maximum length for padding/truncating texts. Defaults to 512\n",
    "\n",
    "    Returns:\n",
    "        dict: For each item, returns a dictionary containing:\n",
    "            - input_ids (torch.Tensor): Encoded token ids of the text\n",
    "            - attention_mask (torch.Tensor): Attention mask for the padded sequence\n",
    "            - labels (torch.Tensor): Encoded label as a tensor\n",
    "    \"\"\"\n",
    "    def __init__(self, texts, labels, tokenizer, max_len=512):\n",
    "        ## TODO ##\n",
    "        self.texts = texts\n",
    "        self.labels = labels\n",
    "        self.tokenizer = tokenizer\n",
    "        self.max_len = max_len\n",
    "\n",
    "    def __len__(self):\n",
    "        ## TODO ##\n",
    "        return len(self.texts)\n",
    "\n",
    "    def __getitem__(self, idx):\n",
    "        ## TODO ##\n",
    "        text = self.texts[idx]\n",
    "        label = self.labels[idx]\n",
    "        \n",
    "        # Tokenize the text\n",
    "        encoding = self.tokenizer.encode_plus(\n",
    "            text,\n",
    "            add_special_tokens=True,\n",
    "            max_length=self.max_len,\n",
    "            padding='max_length',\n",
    "            truncation=True,\n",
    "            return_attention_mask=True,\n",
    "            return_tensors=\"pt\"\n",
    "        )\n",
    "        \n",
    "        return {\n",
    "            'input_ids': encoding['input_ids'].squeeze(0),  # Remove extra dimension\n",
    "            'attention_mask': encoding['attention_mask'].squeeze(0),  # Remove extra dimension\n",
    "            'labels': torch.tensor(label, dtype=torch.long)\n",
    "        }\n",
    "\n",
    "######################  TODO  ########################\n",
    "######################  TODO  ########################"
   ]
  },
  {
   "cell_type": "code",
   "execution_count": 25,
   "metadata": {
    "execution": {
     "iopub.execute_input": "2025-01-05T18:50:29.818000Z",
     "iopub.status.busy": "2025-01-05T18:50:29.817666Z",
     "iopub.status.idle": "2025-01-05T18:50:31.297778Z",
     "shell.execute_reply": "2025-01-05T18:50:31.296891Z",
     "shell.execute_reply.started": "2025-01-05T18:50:29.817970Z"
    },
    "id": "-js5x8M5mksA",
    "trusted": true
   },
   "outputs": [
    {
     "data": {
      "application/vnd.jupyter.widget-view+json": {
       "model_id": "60ee6b8298b64165b15127259cd55b16",
       "version_major": 2,
       "version_minor": 0
      },
      "text/plain": [
       "tokenizer_config.json:   0%|          | 0.00/48.0 [00:00<?, ?B/s]"
      ]
     },
     "metadata": {},
     "output_type": "display_data"
    },
    {
     "data": {
      "application/vnd.jupyter.widget-view+json": {
       "model_id": "4d4059b73607437fb062fe7a6c60f9a2",
       "version_major": 2,
       "version_minor": 0
      },
      "text/plain": [
       "vocab.txt:   0%|          | 0.00/232k [00:00<?, ?B/s]"
      ]
     },
     "metadata": {},
     "output_type": "display_data"
    },
    {
     "data": {
      "application/vnd.jupyter.widget-view+json": {
       "model_id": "1ead2d508e3a4525accdbb43138f84c9",
       "version_major": 2,
       "version_minor": 0
      },
      "text/plain": [
       "tokenizer.json:   0%|          | 0.00/466k [00:00<?, ?B/s]"
      ]
     },
     "metadata": {},
     "output_type": "display_data"
    },
    {
     "data": {
      "application/vnd.jupyter.widget-view+json": {
       "model_id": "931485567fc04f73b28ce81caf1f1b5d",
       "version_major": 2,
       "version_minor": 0
      },
      "text/plain": [
       "config.json:   0%|          | 0.00/570 [00:00<?, ?B/s]"
      ]
     },
     "metadata": {},
     "output_type": "display_data"
    },
    {
     "name": "stdout",
     "output_type": "stream",
     "text": [
      "Sample batch from the training DataLoader:\n",
      "Input IDs shape: torch.Size([16, 128])\n",
      "Attention Mask shape: torch.Size([16, 128])\n",
      "Labels shape: torch.Size([16])\n"
     ]
    },
    {
     "name": "stderr",
     "output_type": "stream",
     "text": [
      "/usr/local/lib/python3.10/dist-packages/transformers/tokenization_utils_base.py:1601: FutureWarning: `clean_up_tokenization_spaces` was not set. It will be set to `True` by default. This behavior will be depracted in transformers v4.45, and will be then set to `False` by default. For more details check this issue: https://github.com/huggingface/transformers/issues/31884\n",
      "  warnings.warn(\n"
     ]
    }
   ],
   "source": [
    "######################  TODO  ########################\n",
    "######################  TODO  ########################\n",
    "from torch.utils.data import Dataset, DataLoader\n",
    "from transformers import BertTokenizer\n",
    "from sklearn.model_selection import train_test_split\n",
    "\n",
    "X = data_sampled['Consumer complaint narrative'].tolist()\n",
    "y = data_sampled['Product_encoded'].tolist()\n",
    "\n",
    "X_train, X_test, y_train, y_test = train_test_split(X, y, test_size=0.2, random_state=42, stratify=y)\n",
    "\n",
    "tokenizer = BertTokenizer.from_pretrained('bert-base-uncased')\n",
    "train_dataset = ComplaintDataset(X_train, y_train, tokenizer, max_len=128)\n",
    "test_dataset = ComplaintDataset(X_test, y_test, tokenizer, max_len=128)\n",
    "\n",
    "train_loader = DataLoader(train_dataset, batch_size=16, shuffle=True)  # Adjust batch_size as needed\n",
    "test_loader = DataLoader(test_dataset, batch_size=16, shuffle=False)\n",
    "\n",
    "######################  TODO  ########################\n",
    "######################  TODO  ########################\n",
    "\n",
    "print(\"Sample batch from the training DataLoader:\")\n",
    "sample_batch = next(iter(train_loader))\n",
    "print(f\"Input IDs shape: {sample_batch['input_ids'].shape}\")\n",
    "print(f\"Attention Mask shape: {sample_batch['attention_mask'].shape}\")\n",
    "print(f\"Labels shape: {sample_batch['labels'].shape}\")"
   ]
  },
  {
   "cell_type": "markdown",
   "metadata": {
    "id": "aMcc2gsbt0iJ"
   },
   "source": [
    "## Part 2: Training a Small-Size BERT Model\n",
    "\n",
    "In this part, we will explore how to build and train a small-sized BERT model for our classification task. Instead of using the full-sized BERT model, which is computationally expensive, we will create a smaller version using the Transformers library."
   ]
  },
  {
   "cell_type": "code",
   "execution_count": 26,
   "metadata": {
    "collapsed": true,
    "execution": {
     "iopub.execute_input": "2025-01-05T18:51:42.778612Z",
     "iopub.status.busy": "2025-01-05T18:51:42.778262Z",
     "iopub.status.idle": "2025-01-05T18:51:43.065671Z",
     "shell.execute_reply": "2025-01-05T18:51:43.064876Z",
     "shell.execute_reply.started": "2025-01-05T18:51:42.778586Z"
    },
    "id": "3RS5oBz3qmvu",
    "jupyter": {
     "outputs_hidden": true
    },
    "trusted": true
   },
   "outputs": [
    {
     "name": "stdout",
     "output_type": "stream",
     "text": [
      "Model Configuration:\n",
      "BertConfig {\n",
      "  \"architectures\": [\n",
      "    \"BertForMaskedLM\"\n",
      "  ],\n",
      "  \"attention_probs_dropout_prob\": 0.1,\n",
      "  \"classifier_dropout\": null,\n",
      "  \"gradient_checkpointing\": false,\n",
      "  \"hidden_act\": \"gelu\",\n",
      "  \"hidden_dropout_prob\": 0.1,\n",
      "  \"hidden_size\": 256,\n",
      "  \"id2label\": {\n",
      "    \"0\": \"LABEL_0\",\n",
      "    \"1\": \"LABEL_1\",\n",
      "    \"2\": \"LABEL_2\",\n",
      "    \"3\": \"LABEL_3\",\n",
      "    \"4\": \"LABEL_4\",\n",
      "    \"5\": \"LABEL_5\",\n",
      "    \"6\": \"LABEL_6\",\n",
      "    \"7\": \"LABEL_7\",\n",
      "    \"8\": \"LABEL_8\",\n",
      "    \"9\": \"LABEL_9\",\n",
      "    \"10\": \"LABEL_10\",\n",
      "    \"11\": \"LABEL_11\",\n",
      "    \"12\": \"LABEL_12\",\n",
      "    \"13\": \"LABEL_13\",\n",
      "    \"14\": \"LABEL_14\",\n",
      "    \"15\": \"LABEL_15\",\n",
      "    \"16\": \"LABEL_16\"\n",
      "  },\n",
      "  \"initializer_range\": 0.02,\n",
      "  \"intermediate_size\": 512,\n",
      "  \"label2id\": {\n",
      "    \"LABEL_0\": 0,\n",
      "    \"LABEL_1\": 1,\n",
      "    \"LABEL_10\": 10,\n",
      "    \"LABEL_11\": 11,\n",
      "    \"LABEL_12\": 12,\n",
      "    \"LABEL_13\": 13,\n",
      "    \"LABEL_14\": 14,\n",
      "    \"LABEL_15\": 15,\n",
      "    \"LABEL_16\": 16,\n",
      "    \"LABEL_2\": 2,\n",
      "    \"LABEL_3\": 3,\n",
      "    \"LABEL_4\": 4,\n",
      "    \"LABEL_5\": 5,\n",
      "    \"LABEL_6\": 6,\n",
      "    \"LABEL_7\": 7,\n",
      "    \"LABEL_8\": 8,\n",
      "    \"LABEL_9\": 9\n",
      "  },\n",
      "  \"layer_norm_eps\": 1e-12,\n",
      "  \"max_position_embeddings\": 512,\n",
      "  \"model_type\": \"bert\",\n",
      "  \"num_attention_heads\": 4,\n",
      "  \"num_hidden_layers\": 6,\n",
      "  \"pad_token_id\": 0,\n",
      "  \"position_embedding_type\": \"absolute\",\n",
      "  \"transformers_version\": \"4.44.2\",\n",
      "  \"type_vocab_size\": 2,\n",
      "  \"use_cache\": true,\n",
      "  \"vocab_size\": 30522\n",
      "}\n",
      "\n",
      "\n",
      "Total number of trainable parameters: 11,178,513\n",
      "\n",
      "Model Architecture:\n",
      "BertForSequenceClassification(\n",
      "  (bert): BertModel(\n",
      "    (embeddings): BertEmbeddings(\n",
      "      (word_embeddings): Embedding(30522, 256, padding_idx=0)\n",
      "      (position_embeddings): Embedding(512, 256)\n",
      "      (token_type_embeddings): Embedding(2, 256)\n",
      "      (LayerNorm): LayerNorm((256,), eps=1e-12, elementwise_affine=True)\n",
      "      (dropout): Dropout(p=0.1, inplace=False)\n",
      "    )\n",
      "    (encoder): BertEncoder(\n",
      "      (layer): ModuleList(\n",
      "        (0-5): 6 x BertLayer(\n",
      "          (attention): BertAttention(\n",
      "            (self): BertSdpaSelfAttention(\n",
      "              (query): Linear(in_features=256, out_features=256, bias=True)\n",
      "              (key): Linear(in_features=256, out_features=256, bias=True)\n",
      "              (value): Linear(in_features=256, out_features=256, bias=True)\n",
      "              (dropout): Dropout(p=0.1, inplace=False)\n",
      "            )\n",
      "            (output): BertSelfOutput(\n",
      "              (dense): Linear(in_features=256, out_features=256, bias=True)\n",
      "              (LayerNorm): LayerNorm((256,), eps=1e-12, elementwise_affine=True)\n",
      "              (dropout): Dropout(p=0.1, inplace=False)\n",
      "            )\n",
      "          )\n",
      "          (intermediate): BertIntermediate(\n",
      "            (dense): Linear(in_features=256, out_features=512, bias=True)\n",
      "            (intermediate_act_fn): GELUActivation()\n",
      "          )\n",
      "          (output): BertOutput(\n",
      "            (dense): Linear(in_features=512, out_features=256, bias=True)\n",
      "            (LayerNorm): LayerNorm((256,), eps=1e-12, elementwise_affine=True)\n",
      "            (dropout): Dropout(p=0.1, inplace=False)\n",
      "          )\n",
      "        )\n",
      "      )\n",
      "    )\n",
      "    (pooler): BertPooler(\n",
      "      (dense): Linear(in_features=256, out_features=256, bias=True)\n",
      "      (activation): Tanh()\n",
      "    )\n",
      "  )\n",
      "  (dropout): Dropout(p=0.1, inplace=False)\n",
      "  (classifier): Linear(in_features=256, out_features=17, bias=True)\n",
      ")\n"
     ]
    }
   ],
   "source": [
    "######################  TODO  ########################\n",
    "######################  TODO  ########################\n",
    "\n",
    "# 1. Define your BERT model for sequence classification\n",
    "#    Ensure that you set up the configuration properly (e.g., specify the number of output labels).\n",
    "# 2. Print the total number of trainable parameters in the model to understand its size.\n",
    "\n",
    "######################  TODO  ########################\n",
    "######################  TODO  ########################\n",
    "\n",
    "from transformers import BertForSequenceClassification, BertConfig\n",
    "\n",
    "num_labels = len(data_sampled['Product_encoded'].unique())\n",
    "config = BertConfig.from_pretrained(\n",
    "    \"bert-base-uncased\",\n",
    "    num_labels=num_labels,\n",
    "    hidden_size=256,  \n",
    "    intermediate_size=512, \n",
    "    num_hidden_layers=6,  \n",
    "    num_attention_heads=4 \n",
    ")\n",
    "model = BertForSequenceClassification(config)\n",
    "\n",
    "print(\"Model Configuration:\")\n",
    "print(config)\n",
    "\n",
    "total_params = sum(p.numel() for p in model.parameters() if p.requires_grad)\n",
    "print(f\"\\nTotal number of trainable parameters: {total_params:,}\")\n",
    "\n",
    "print(\"\\nModel Architecture:\")\n",
    "print(model)"
   ]
  },
  {
   "cell_type": "markdown",
   "metadata": {
    "id": "Xr4Z14a6wL2c"
   },
   "source": [
    "---\n",
    "\n",
    "Now that you have defined your model, it's time to train it!☠️\n",
    "\n",
    "Training a model of this size can take some time, depending on the available resources. To manage this, you can train your model for just **2–3 epochs** to demonstrate progress. Here are some hints:\n",
    "- **Training Metrics:** Ensure you print enough metrics, such as loss and accuracy, to track the training progress.\n",
    "- **Interactive Monitoring:** Use the `tqdm` library to display the progress of your training loop in real-time."
   ]
  },
  {
   "cell_type": "code",
   "execution_count": 27,
   "metadata": {
    "execution": {
     "iopub.execute_input": "2025-01-05T18:52:54.658216Z",
     "iopub.status.busy": "2025-01-05T18:52:54.657906Z",
     "iopub.status.idle": "2025-01-05T19:11:32.197792Z",
     "shell.execute_reply": "2025-01-05T19:11:32.196992Z",
     "shell.execute_reply.started": "2025-01-05T18:52:54.658192Z"
    },
    "id": "FRZW-F9Dw6AI",
    "trusted": true
   },
   "outputs": [
    {
     "name": "stdout",
     "output_type": "stream",
     "text": [
      "\n",
      "Epoch 1/3\n"
     ]
    },
    {
     "name": "stderr",
     "output_type": "stream",
     "text": [
      "Training: 100%|██████████| 4664/4664 [05:49<00:00, 13.35it/s]\n"
     ]
    },
    {
     "name": "stdout",
     "output_type": "stream",
     "text": [
      "Epoch 1 Loss: 1.4080 | Accuracy: 0.4917\n",
      "\n",
      "Epoch 2/3\n"
     ]
    },
    {
     "name": "stderr",
     "output_type": "stream",
     "text": [
      "Training: 100%|██████████| 4664/4664 [05:49<00:00, 13.34it/s]\n"
     ]
    },
    {
     "name": "stdout",
     "output_type": "stream",
     "text": [
      "Epoch 2 Loss: 0.9566 | Accuracy: 0.6693\n",
      "\n",
      "Epoch 3/3\n"
     ]
    },
    {
     "name": "stderr",
     "output_type": "stream",
     "text": [
      "Training: 100%|██████████| 4664/4664 [05:48<00:00, 13.38it/s]\n"
     ]
    },
    {
     "name": "stdout",
     "output_type": "stream",
     "text": [
      "Epoch 3 Loss: 0.8490 | Accuracy: 0.7063\n"
     ]
    },
    {
     "name": "stderr",
     "output_type": "stream",
     "text": [
      "Evaluating: 100%|██████████| 1166/1166 [01:09<00:00, 16.80it/s]"
     ]
    },
    {
     "name": "stdout",
     "output_type": "stream",
     "text": [
      "\n",
      "Test Loss: 0.8518 | Test Accuracy: 0.7072\n"
     ]
    },
    {
     "name": "stderr",
     "output_type": "stream",
     "text": [
      "\n"
     ]
    }
   ],
   "source": [
    "######################  TODO  ########################\n",
    "######################  TODO  ########################\n",
    "\n",
    "import torch\n",
    "from tqdm import tqdm\n",
    "from sklearn.metrics import accuracy_score\n",
    "\n",
    "optimizer = torch.optim.AdamW(model.parameters(), lr=2e-5)\n",
    "\n",
    "num_epochs = 3\n",
    "\n",
    "device = torch.device(\"cuda\" if torch.cuda.is_available() else \"cpu\")\n",
    "model.to(device)\n",
    "\n",
    "# Training Loop\n",
    "for epoch in range(num_epochs):\n",
    "    print(f\"\\nEpoch {epoch + 1}/{num_epochs}\")\n",
    "    model.train()\n",
    "    total_loss = 0\n",
    "    total_correct = 0\n",
    "    total_samples = 0\n",
    "\n",
    "    for batch in tqdm(train_loader, desc=\"Training\"):\n",
    "        input_ids = batch['input_ids'].to(device)\n",
    "        attention_mask = batch['attention_mask'].to(device)\n",
    "        labels = batch['labels'].to(device)\n",
    "\n",
    "        optimizer.zero_grad()\n",
    "\n",
    "        outputs = model(input_ids=input_ids, attention_mask=attention_mask, labels=labels)\n",
    "        loss = outputs.loss\n",
    "        logits = outputs.logits\n",
    "\n",
    "        loss.backward()\n",
    "        optimizer.step()\n",
    "\n",
    "        total_loss += loss.item()\n",
    "        preds = torch.argmax(logits, dim=1)\n",
    "        total_correct += (preds == labels).sum().item()\n",
    "        total_samples += labels.size(0)\n",
    "\n",
    "    avg_loss = total_loss / len(train_loader)\n",
    "    accuracy = total_correct / total_samples\n",
    "\n",
    "    print(f\"Epoch {epoch + 1} Loss: {avg_loss:.4f} | Accuracy: {accuracy:.4f}\")\n",
    "\n",
    "model.eval()\n",
    "total_correct = 0\n",
    "total_samples = 0\n",
    "test_loss = 0\n",
    "\n",
    "with torch.no_grad():\n",
    "    for batch in tqdm(test_loader, desc=\"Evaluating\"):\n",
    "        input_ids = batch['input_ids'].to(device)\n",
    "        attention_mask = batch['attention_mask'].to(device)\n",
    "        labels = batch['labels'].to(device)\n",
    "\n",
    "        outputs = model(input_ids=input_ids, attention_mask=attention_mask, labels=labels)\n",
    "        loss = outputs.loss\n",
    "        logits = outputs.logits\n",
    "\n",
    "        test_loss += loss.item()\n",
    "        preds = torch.argmax(logits, dim=1)\n",
    "        total_correct += (preds == labels).sum().item()\n",
    "        total_samples += labels.size(0)\n",
    "\n",
    "test_loss /= len(test_loader)\n",
    "test_accuracy = total_correct / total_samples\n",
    "\n",
    "print(f\"\\nTest Loss: {test_loss:.4f} | Test Accuracy: {test_accuracy:.4f}\")\n",
    "\n",
    "\n",
    "######################  TODO  ########################\n",
    "######################  TODO  ########################"
   ]
  },
  {
   "cell_type": "markdown",
   "metadata": {
    "id": "-yHtTYcpz6AW"
   },
   "source": [
    "## Part 3: Fine-Tuning TinyBERT with LoRA\n",
    "\n",
    "As you have experienced, training even a small-sized BERT model can be computationally intensive and time-consuming. To address these challenges, we explore **Parameter-Efficient Fine-Tuning (PEFT)** methods, which allow us to utilize the power of large pretrained models without requiring extensive resources.\n",
    "\n",
    "---\n",
    "\n",
    "### **Parameter-Efficient Fine-Tuning (PEFT)**\n",
    "\n",
    "PEFT methods focus on fine-tuning only a small portion of the model’s parameters while keeping most of the pretrained weights frozen. This drastically reduces the computational and storage requirements while leveraging the rich knowledge embedded in pretrained models.\n",
    "\n",
    "One popular PEFT method is LoRA (Low-Rank Adaptation).\n",
    "\n",
    "- **What is LoRA?**\n",
    "\n",
    "LoRA introduces a mechanism to fine-tune large language models by injecting small low-rank matrices into the model's architecture. Instead of updating all parameters during training, LoRA trains these small matrices while keeping the majority of the original parameters frozen.  This is achieved as follows:\n",
    "\n",
    "1. **Frozen Weights**: The pretrained weights of the model, represented as a weight matrix $ W \\in \\mathbb{R}^{d \\times k} $, remain **frozen** during fine-tuning.\n",
    "\n",
    "2. **Low-Rank Decomposition**:\n",
    "   Instead of directly updating $ W $, LoRA introduces two trainable matrices, $ A \\in \\mathbb{R}^{d \\times r} $ and $ B \\in \\mathbb{R}^{r \\times k} $, where $ r \\ll \\min(d, k) $.  \n",
    "   These matrices approximate the update to $ W $ as:\n",
    "   $$\n",
    "   \\Delta W = A \\cdot B\n",
    "   $$\n",
    "\n",
    "   Here, $ r $, the rank of the decomposition, is a key hyperparameter that determines the trade-off between computational cost and model capacity.\n",
    "\n",
    "3. **Adaptation**:\n",
    "   During training, instead of updating $ W $, the adapted weight is:\n",
    "   $$\n",
    "   W' = W + \\Delta W = W + A \\cdot B\n",
    "   $$\n",
    "   Only the low-rank matrices $ A $ and $ B $ are optimized, while $ W $ remains fixed.\n",
    "\n",
    "4. **Efficiency**:\n",
    "   Since $ r $ is much smaller than $ d $ and $ k $, the number of trainable parameters in $ A $ and $ B $ is significantly less than in $ W $. This makes the approach highly efficient both in terms of computation and memory.\n",
    "\n",
    "---\n",
    "\n",
    "###  **Fine-Tuning TinyBERT**\n",
    "\n",
    "For this part, we will fine-tune **TinyBERT**, a distilled version of BERT, using the LoRA method.\n",
    "\n",
    "- **What is TinyBERT?**\n",
    "\n",
    "TinyBERT is a lightweight version of the original BERT model created through knowledge distillation. It significantly reduces the model size and inference latency while preserving much of the original BERT’s effectiveness. Here are some key characteristics of TinyBERT:\n",
    "- It is designed to be more resource-efficient for tasks such as classification, question answering, and more.\n",
    "- TinyBERT retains a compact structure with fewer layers and parameters, making it ideal for fine-tuning with limited computational resources.\n"
   ]
  },
  {
   "cell_type": "markdown",
   "metadata": {
    "id": "n_Og-pBeV5x6"
   },
   "source": [
    "> Similar to the previous section, training this model might take some time. Given the resource limitations, you can train the model for just **2-3 epochs** to demonstrate the process.\n"
   ]
  },
  {
   "cell_type": "code",
   "execution_count": 50,
   "metadata": {
    "collapsed": true,
    "execution": {
     "iopub.execute_input": "2025-01-05T19:37:13.137185Z",
     "iopub.status.busy": "2025-01-05T19:37:13.136821Z",
     "iopub.status.idle": "2025-01-05T19:37:27.712565Z",
     "shell.execute_reply": "2025-01-05T19:37:27.711698Z",
     "shell.execute_reply.started": "2025-01-05T19:37:13.137155Z"
    },
    "jupyter": {
     "outputs_hidden": true
    },
    "trusted": true
   },
   "outputs": [
    {
     "name": "stdout",
     "output_type": "stream",
     "text": [
      "Found existing installation: huggingface-hub 0.16.4\n",
      "Uninstalling huggingface-hub-0.16.4:\n",
      "  Successfully uninstalled huggingface-hub-0.16.4\n",
      "Found existing installation: transformers 4.31.0\n",
      "Uninstalling transformers-4.31.0:\n",
      "  Successfully uninstalled transformers-4.31.0\n",
      "Found existing installation: peft 0.3.0\n",
      "Uninstalling peft-0.3.0:\n",
      "  Successfully uninstalled peft-0.3.0\n",
      "Collecting transformers\n",
      "  Using cached transformers-4.47.1-py3-none-any.whl.metadata (44 kB)\n",
      "Requirement already satisfied: filelock in /usr/local/lib/python3.10/dist-packages (from transformers) (3.16.1)\n",
      "Collecting huggingface-hub<1.0,>=0.24.0 (from transformers)\n",
      "  Using cached huggingface_hub-0.27.0-py3-none-any.whl.metadata (13 kB)\n",
      "Requirement already satisfied: numpy>=1.17 in /usr/local/lib/python3.10/dist-packages (from transformers) (1.26.4)\n",
      "Requirement already satisfied: packaging>=20.0 in /usr/local/lib/python3.10/dist-packages (from transformers) (24.1)\n",
      "Requirement already satisfied: pyyaml>=5.1 in /usr/local/lib/python3.10/dist-packages (from transformers) (6.0.2)\n",
      "Requirement already satisfied: regex!=2019.12.17 in /usr/local/lib/python3.10/dist-packages (from transformers) (2024.9.11)\n",
      "Requirement already satisfied: requests in /usr/local/lib/python3.10/dist-packages (from transformers) (2.32.3)\n",
      "Collecting tokenizers<0.22,>=0.21 (from transformers)\n",
      "  Using cached tokenizers-0.21.0-cp39-abi3-manylinux_2_17_x86_64.manylinux2014_x86_64.whl.metadata (6.7 kB)\n",
      "Requirement already satisfied: safetensors>=0.4.1 in /usr/local/lib/python3.10/dist-packages (from transformers) (0.4.5)\n",
      "Requirement already satisfied: tqdm>=4.27 in /usr/local/lib/python3.10/dist-packages (from transformers) (4.66.5)\n",
      "Requirement already satisfied: fsspec>=2023.5.0 in /usr/local/lib/python3.10/dist-packages (from huggingface-hub<1.0,>=0.24.0->transformers) (2024.6.1)\n",
      "Requirement already satisfied: typing-extensions>=3.7.4.3 in /usr/local/lib/python3.10/dist-packages (from huggingface-hub<1.0,>=0.24.0->transformers) (4.12.2)\n",
      "Requirement already satisfied: charset-normalizer<4,>=2 in /usr/local/lib/python3.10/dist-packages (from requests->transformers) (3.3.2)\n",
      "Requirement already satisfied: idna<4,>=2.5 in /usr/local/lib/python3.10/dist-packages (from requests->transformers) (3.10)\n",
      "Requirement already satisfied: urllib3<3,>=1.21.1 in /usr/local/lib/python3.10/dist-packages (from requests->transformers) (2.2.3)\n",
      "Requirement already satisfied: certifi>=2017.4.17 in /usr/local/lib/python3.10/dist-packages (from requests->transformers) (2024.8.30)\n",
      "Using cached transformers-4.47.1-py3-none-any.whl (10.1 MB)\n",
      "Using cached huggingface_hub-0.27.0-py3-none-any.whl (450 kB)\n",
      "Using cached tokenizers-0.21.0-cp39-abi3-manylinux_2_17_x86_64.manylinux2014_x86_64.whl (3.0 MB)\n",
      "Installing collected packages: huggingface-hub, tokenizers, transformers\n",
      "  Attempting uninstall: tokenizers\n",
      "    Found existing installation: tokenizers 0.13.3\n",
      "    Uninstalling tokenizers-0.13.3:\n",
      "      Successfully uninstalled tokenizers-0.13.3\n",
      "Successfully installed huggingface-hub-0.27.0 tokenizers-0.21.0 transformers-4.47.1\n",
      "Collecting peft\n",
      "  Using cached peft-0.14.0-py3-none-any.whl.metadata (13 kB)\n",
      "Requirement already satisfied: numpy>=1.17 in /usr/local/lib/python3.10/dist-packages (from peft) (1.26.4)\n",
      "Requirement already satisfied: packaging>=20.0 in /usr/local/lib/python3.10/dist-packages (from peft) (24.1)\n",
      "Requirement already satisfied: psutil in /usr/local/lib/python3.10/dist-packages (from peft) (5.9.5)\n",
      "Requirement already satisfied: pyyaml in /usr/local/lib/python3.10/dist-packages (from peft) (6.0.2)\n",
      "Requirement already satisfied: torch>=1.13.0 in /usr/local/lib/python3.10/dist-packages (from peft) (2.4.1+cu121)\n",
      "Requirement already satisfied: transformers in /usr/local/lib/python3.10/dist-packages (from peft) (4.47.1)\n",
      "Requirement already satisfied: tqdm in /usr/local/lib/python3.10/dist-packages (from peft) (4.66.5)\n",
      "Requirement already satisfied: accelerate>=0.21.0 in /usr/local/lib/python3.10/dist-packages (from peft) (0.32.1)\n",
      "Requirement already satisfied: safetensors in /usr/local/lib/python3.10/dist-packages (from peft) (0.4.5)\n",
      "Requirement already satisfied: huggingface-hub>=0.25.0 in /usr/local/lib/python3.10/dist-packages (from peft) (0.27.0)\n",
      "Requirement already satisfied: filelock in /usr/local/lib/python3.10/dist-packages (from huggingface-hub>=0.25.0->peft) (3.16.1)\n",
      "Requirement already satisfied: fsspec>=2023.5.0 in /usr/local/lib/python3.10/dist-packages (from huggingface-hub>=0.25.0->peft) (2024.6.1)\n",
      "Requirement already satisfied: requests in /usr/local/lib/python3.10/dist-packages (from huggingface-hub>=0.25.0->peft) (2.32.3)\n",
      "Requirement already satisfied: typing-extensions>=3.7.4.3 in /usr/local/lib/python3.10/dist-packages (from huggingface-hub>=0.25.0->peft) (4.12.2)\n",
      "Requirement already satisfied: sympy in /usr/local/lib/python3.10/dist-packages (from torch>=1.13.0->peft) (1.13.3)\n",
      "Requirement already satisfied: networkx in /usr/local/lib/python3.10/dist-packages (from torch>=1.13.0->peft) (3.3)\n",
      "Requirement already satisfied: jinja2 in /usr/local/lib/python3.10/dist-packages (from torch>=1.13.0->peft) (3.1.4)\n",
      "Requirement already satisfied: regex!=2019.12.17 in /usr/local/lib/python3.10/dist-packages (from transformers->peft) (2024.9.11)\n",
      "Requirement already satisfied: tokenizers<0.22,>=0.21 in /usr/local/lib/python3.10/dist-packages (from transformers->peft) (0.21.0)\n",
      "Requirement already satisfied: MarkupSafe>=2.0 in /usr/local/lib/python3.10/dist-packages (from jinja2->torch>=1.13.0->peft) (2.1.5)\n",
      "Requirement already satisfied: charset-normalizer<4,>=2 in /usr/local/lib/python3.10/dist-packages (from requests->huggingface-hub>=0.25.0->peft) (3.3.2)\n",
      "Requirement already satisfied: idna<4,>=2.5 in /usr/local/lib/python3.10/dist-packages (from requests->huggingface-hub>=0.25.0->peft) (3.10)\n",
      "Requirement already satisfied: urllib3<3,>=1.21.1 in /usr/local/lib/python3.10/dist-packages (from requests->huggingface-hub>=0.25.0->peft) (2.2.3)\n",
      "Requirement already satisfied: certifi>=2017.4.17 in /usr/local/lib/python3.10/dist-packages (from requests->huggingface-hub>=0.25.0->peft) (2024.8.30)\n",
      "Requirement already satisfied: mpmath<1.4,>=1.1.0 in /usr/local/lib/python3.10/dist-packages (from sympy->torch>=1.13.0->peft) (1.3.0)\n",
      "Using cached peft-0.14.0-py3-none-any.whl (374 kB)\n",
      "Installing collected packages: peft\n",
      "Successfully installed peft-0.14.0\n"
     ]
    }
   ],
   "source": [
    "!pip uninstall -y huggingface_hub transformers peft\n",
    "!pip install transformers\n",
    "!pip install peft"
   ]
  },
  {
   "cell_type": "code",
   "execution_count": 51,
   "metadata": {
    "execution": {
     "iopub.execute_input": "2025-01-05T19:37:40.495807Z",
     "iopub.status.busy": "2025-01-05T19:37:40.495345Z",
     "iopub.status.idle": "2025-01-05T19:37:40.501582Z",
     "shell.execute_reply": "2025-01-05T19:37:40.500656Z",
     "shell.execute_reply.started": "2025-01-05T19:37:40.495766Z"
    },
    "id": "fe1vGCZwU7MZ",
    "trusted": true
   },
   "outputs": [],
   "source": [
    "from transformers import AutoModelForSequenceClassification, AutoTokenizer\n",
    "from peft import get_peft_model, LoraConfig, TaskType\n",
    "import torch\n",
    "import torch.nn as nn\n",
    "from torch.utils.data import Dataset, DataLoader\n",
    "import numpy as np\n",
    "from tqdm import tqdm\n",
    "from sklearn.metrics import accuracy_score\n",
    "import pandas as pd"
   ]
  },
  {
   "cell_type": "code",
   "execution_count": 52,
   "metadata": {
    "execution": {
     "iopub.execute_input": "2025-01-05T19:38:29.429222Z",
     "iopub.status.busy": "2025-01-05T19:38:29.428900Z",
     "iopub.status.idle": "2025-01-05T19:38:31.450119Z",
     "shell.execute_reply": "2025-01-05T19:38:31.449168Z",
     "shell.execute_reply.started": "2025-01-05T19:38:29.429199Z"
    },
    "id": "LIyN5vOLLWz6",
    "trusted": true
   },
   "outputs": [
    {
     "name": "stdout",
     "output_type": "stream",
     "text": [
      "Using device: cuda\n"
     ]
    },
    {
     "data": {
      "application/vnd.jupyter.widget-view+json": {
       "model_id": "ea14bf50742f4fe7b77f50daa70c10fa",
       "version_major": 2,
       "version_minor": 0
      },
      "text/plain": [
       "pytorch_model.bin:   0%|          | 0.00/17.8M [00:00<?, ?B/s]"
      ]
     },
     "metadata": {},
     "output_type": "display_data"
    },
    {
     "name": "stderr",
     "output_type": "stream",
     "text": [
      "Some weights of BertForSequenceClassification were not initialized from the model checkpoint at prajjwal1/bert-tiny and are newly initialized: ['classifier.bias', 'classifier.weight']\n",
      "You should probably TRAIN this model on a down-stream task to be able to use it for predictions and inference.\n"
     ]
    },
    {
     "data": {
      "application/vnd.jupyter.widget-view+json": {
       "model_id": "aab38199690c437a8b3870c304e66807",
       "version_major": 2,
       "version_minor": 0
      },
      "text/plain": [
       "vocab.txt:   0%|          | 0.00/232k [00:00<?, ?B/s]"
      ]
     },
     "metadata": {},
     "output_type": "display_data"
    }
   ],
   "source": [
    "######################  TODO  ########################\n",
    "######################  TODO  ########################\n",
    "\n",
    "device = torch.device(\"cuda\" if torch.cuda.is_available() else \"cpu\")\n",
    "print(f\"Using device: {device}\")\n",
    "model_name = \"prajjwal1/bert-tiny\"\n",
    "base_model = AutoModelForSequenceClassification.from_pretrained(model_name, num_labels=len(set(y)))\n",
    "tokenizer = AutoTokenizer.from_pretrained(model_name)\n",
    "\n",
    "lora_config = LoraConfig(\n",
    "    task_type=TaskType.SEQ_CLS,\n",
    "    r=8,\n",
    "    lora_alpha=16,\n",
    "    lora_dropout=0.1,\n",
    "    bias=\"none\"\n",
    ")\n",
    "\n",
    "######################  TODO  ########################\n",
    "######################  TODO  ########################"
   ]
  },
  {
   "cell_type": "code",
   "execution_count": 53,
   "metadata": {
    "execution": {
     "iopub.execute_input": "2025-01-05T19:39:14.448790Z",
     "iopub.status.busy": "2025-01-05T19:39:14.448434Z",
     "iopub.status.idle": "2025-01-05T19:39:14.477442Z",
     "shell.execute_reply": "2025-01-05T19:39:14.476810Z",
     "shell.execute_reply.started": "2025-01-05T19:39:14.448751Z"
    },
    "id": "jMgwZ8YmLuZ_",
    "trusted": true
   },
   "outputs": [
    {
     "name": "stdout",
     "output_type": "stream",
     "text": [
      "Total Parameters: 4,398,498\n",
      "Trainable Parameters: 10,385\n"
     ]
    },
    {
     "data": {
      "text/plain": [
       "PeftModelForSequenceClassification(\n",
       "  (base_model): LoraModel(\n",
       "    (model): BertForSequenceClassification(\n",
       "      (bert): BertModel(\n",
       "        (embeddings): BertEmbeddings(\n",
       "          (word_embeddings): Embedding(30522, 128, padding_idx=0)\n",
       "          (position_embeddings): Embedding(512, 128)\n",
       "          (token_type_embeddings): Embedding(2, 128)\n",
       "          (LayerNorm): LayerNorm((128,), eps=1e-12, elementwise_affine=True)\n",
       "          (dropout): Dropout(p=0.1, inplace=False)\n",
       "        )\n",
       "        (encoder): BertEncoder(\n",
       "          (layer): ModuleList(\n",
       "            (0-1): 2 x BertLayer(\n",
       "              (attention): BertAttention(\n",
       "                (self): BertSdpaSelfAttention(\n",
       "                  (query): Linear(\n",
       "                    in_features=128, out_features=128, bias=True\n",
       "                    (lora_dropout): ModuleDict(\n",
       "                      (default): Dropout(p=0.1, inplace=False)\n",
       "                    )\n",
       "                    (lora_A): ModuleDict(\n",
       "                      (default): Linear(in_features=128, out_features=8, bias=False)\n",
       "                    )\n",
       "                    (lora_B): ModuleDict(\n",
       "                      (default): Linear(in_features=8, out_features=128, bias=False)\n",
       "                    )\n",
       "                    (lora_embedding_A): ParameterDict()\n",
       "                    (lora_embedding_B): ParameterDict()\n",
       "                  )\n",
       "                  (key): Linear(in_features=128, out_features=128, bias=True)\n",
       "                  (value): Linear(\n",
       "                    in_features=128, out_features=128, bias=True\n",
       "                    (lora_dropout): ModuleDict(\n",
       "                      (default): Dropout(p=0.1, inplace=False)\n",
       "                    )\n",
       "                    (lora_A): ModuleDict(\n",
       "                      (default): Linear(in_features=128, out_features=8, bias=False)\n",
       "                    )\n",
       "                    (lora_B): ModuleDict(\n",
       "                      (default): Linear(in_features=8, out_features=128, bias=False)\n",
       "                    )\n",
       "                    (lora_embedding_A): ParameterDict()\n",
       "                    (lora_embedding_B): ParameterDict()\n",
       "                  )\n",
       "                  (dropout): Dropout(p=0.1, inplace=False)\n",
       "                )\n",
       "                (output): BertSelfOutput(\n",
       "                  (dense): Linear(in_features=128, out_features=128, bias=True)\n",
       "                  (LayerNorm): LayerNorm((128,), eps=1e-12, elementwise_affine=True)\n",
       "                  (dropout): Dropout(p=0.1, inplace=False)\n",
       "                )\n",
       "              )\n",
       "              (intermediate): BertIntermediate(\n",
       "                (dense): Linear(in_features=128, out_features=512, bias=True)\n",
       "                (intermediate_act_fn): GELUActivation()\n",
       "              )\n",
       "              (output): BertOutput(\n",
       "                (dense): Linear(in_features=512, out_features=128, bias=True)\n",
       "                (LayerNorm): LayerNorm((128,), eps=1e-12, elementwise_affine=True)\n",
       "                (dropout): Dropout(p=0.1, inplace=False)\n",
       "              )\n",
       "            )\n",
       "          )\n",
       "        )\n",
       "        (pooler): BertPooler(\n",
       "          (dense): Linear(in_features=128, out_features=128, bias=True)\n",
       "          (activation): Tanh()\n",
       "        )\n",
       "      )\n",
       "      (dropout): Dropout(p=0.1, inplace=False)\n",
       "      (classifier): ModulesToSaveWrapper(\n",
       "        (original_module): Linear(in_features=128, out_features=17, bias=True)\n",
       "        (modules_to_save): ModuleDict(\n",
       "          (default): Linear(in_features=128, out_features=17, bias=True)\n",
       "        )\n",
       "      )\n",
       "    )\n",
       "  )\n",
       ")"
      ]
     },
     "execution_count": 53,
     "metadata": {},
     "output_type": "execute_result"
    }
   ],
   "source": [
    "######################  TODO  ########################\n",
    "######################  TODO  ########################\n",
    "\n",
    "lora_model = get_peft_model(base_model, lora_config)\n",
    "lora_model.to(device)\n",
    "\n",
    "total_params = sum(p.numel() for p in lora_model.parameters())\n",
    "trainable_params = sum(p.numel() for p in lora_model.parameters() if p.requires_grad)\n",
    "print(f\"Total Parameters: {total_params:,}\")\n",
    "print(f\"Trainable Parameters: {trainable_params:,}\")\n",
    "\n",
    "optimizer = torch.optim.AdamW(lora_model.parameters(), lr=2e-5)\n",
    "criterion = torch.nn.CrossEntropyLoss()\n",
    "\n",
    "device = torch.device(\"cuda\" if torch.cuda.is_available() else \"cpu\")\n",
    "lora_model.to(device)\n",
    "\n",
    "######################  TODO  ########################\n",
    "######################  TODO  ########################"
   ]
  },
  {
   "cell_type": "code",
   "execution_count": 54,
   "metadata": {
    "execution": {
     "iopub.execute_input": "2025-01-05T19:39:29.359387Z",
     "iopub.status.busy": "2025-01-05T19:39:29.358949Z",
     "iopub.status.idle": "2025-01-05T19:54:54.732199Z",
     "shell.execute_reply": "2025-01-05T19:54:54.731216Z",
     "shell.execute_reply.started": "2025-01-05T19:39:29.359348Z"
    },
    "id": "J395FrcWMbmx",
    "trusted": true
   },
   "outputs": [
    {
     "name": "stdout",
     "output_type": "stream",
     "text": [
      "\n",
      "Epoch 1/3\n"
     ]
    },
    {
     "name": "stderr",
     "output_type": "stream",
     "text": [
      "Training: 100%|██████████| 4664/4664 [04:46<00:00, 16.27it/s]\n"
     ]
    },
    {
     "name": "stdout",
     "output_type": "stream",
     "text": [
      "Epoch 1 Loss: 1.9140 | Accuracy: 0.3436\n",
      "\n",
      "Epoch 2/3\n"
     ]
    },
    {
     "name": "stderr",
     "output_type": "stream",
     "text": [
      "Training: 100%|██████████| 4664/4664 [04:45<00:00, 16.35it/s]\n"
     ]
    },
    {
     "name": "stdout",
     "output_type": "stream",
     "text": [
      "Epoch 2 Loss: 1.5856 | Accuracy: 0.4033\n",
      "\n",
      "Epoch 3/3\n"
     ]
    },
    {
     "name": "stderr",
     "output_type": "stream",
     "text": [
      "Training: 100%|██████████| 4664/4664 [04:46<00:00, 16.28it/s]\n"
     ]
    },
    {
     "name": "stdout",
     "output_type": "stream",
     "text": [
      "Epoch 3 Loss: 1.4980 | Accuracy: 0.4328\n"
     ]
    },
    {
     "name": "stderr",
     "output_type": "stream",
     "text": [
      "Evaluating: 100%|██████████| 1166/1166 [01:07<00:00, 17.39it/s]"
     ]
    },
    {
     "name": "stdout",
     "output_type": "stream",
     "text": [
      "\n",
      "Test Loss: 1.4617 | Test Accuracy: 0.4442\n"
     ]
    },
    {
     "name": "stderr",
     "output_type": "stream",
     "text": [
      "\n"
     ]
    }
   ],
   "source": [
    "######################  TODO  ########################\n",
    "######################  TODO  ########################\n",
    "\n",
    "num_epochs = 3\n",
    "\n",
    "for epoch in range(num_epochs):\n",
    "    print(f\"\\nEpoch {epoch + 1}/{num_epochs}\")\n",
    "    lora_model.train()\n",
    "    total_loss = 0\n",
    "    total_correct = 0\n",
    "    total_samples = 0\n",
    "\n",
    "    for batch in tqdm(train_loader, desc=\"Training\"):\n",
    "        input_ids = batch['input_ids'].to(device)\n",
    "        attention_mask = batch['attention_mask'].to(device)\n",
    "        labels = batch['labels'].to(device)\n",
    "\n",
    "        optimizer.zero_grad()\n",
    "\n",
    "        outputs = lora_model(input_ids=input_ids, attention_mask=attention_mask, labels=labels)\n",
    "        loss = outputs.loss\n",
    "        logits = outputs.logits\n",
    "\n",
    "        loss.backward()\n",
    "        optimizer.step()\n",
    "\n",
    "        total_loss += loss.item()\n",
    "        preds = torch.argmax(logits, dim=1)\n",
    "        total_correct += (preds == labels).sum().item()\n",
    "        total_samples += labels.size(0)\n",
    "\n",
    "    avg_loss = total_loss / len(train_loader)\n",
    "    accuracy = total_correct / total_samples\n",
    "    print(f\"Epoch {epoch + 1} Loss: {avg_loss:.4f} | Accuracy: {accuracy:.4f}\")\n",
    "\n",
    "lora_model.eval()\n",
    "total_correct = 0\n",
    "total_samples = 0\n",
    "test_loss = 0\n",
    "\n",
    "with torch.no_grad():\n",
    "    for batch in tqdm(test_loader, desc=\"Evaluating\"):\n",
    "        input_ids = batch['input_ids'].to(device)\n",
    "        attention_mask = batch['attention_mask'].to(device)\n",
    "        labels = batch['labels'].to(device)\n",
    "\n",
    "        outputs = lora_model(input_ids=input_ids, attention_mask=attention_mask, labels=labels)\n",
    "        loss = outputs.loss\n",
    "        logits = outputs.logits\n",
    "\n",
    "        test_loss += loss.item()\n",
    "        preds = torch.argmax(logits, dim=1)\n",
    "        total_correct += (preds == labels).sum().item()\n",
    "        total_samples += labels.size(0)\n",
    "\n",
    "test_loss /= len(test_loader)\n",
    "test_accuracy = total_correct / total_samples\n",
    "print(f\"\\nTest Loss: {test_loss:.4f} | Test Accuracy: {test_accuracy:.4f}\")\n",
    "\n",
    "######################  TODO  ########################\n",
    "######################  TODO  ########################"
   ]
  },
  {
   "cell_type": "code",
   "execution_count": null,
   "metadata": {
    "trusted": true
   },
   "outputs": [],
   "source": []
  }
 ],
 "metadata": {
  "accelerator": "GPU",
  "colab": {
   "gpuType": "T4",
   "provenance": []
  },
  "kaggle": {
   "accelerator": "gpu",
   "dataSources": [],
   "dockerImageVersionId": 30823,
   "isGpuEnabled": true,
   "isInternetEnabled": true,
   "language": "python",
   "sourceType": "notebook"
  },
  "kernelspec": {
   "display_name": "Python 3",
   "language": "python",
   "name": "python3"
  },
  "language_info": {
   "codemirror_mode": {
    "name": "ipython",
    "version": 3
   },
   "file_extension": ".py",
   "mimetype": "text/x-python",
   "name": "python",
   "nbconvert_exporter": "python",
   "pygments_lexer": "ipython3",
   "version": "3.10.12"
  }
 },
 "nbformat": 4,
 "nbformat_minor": 4
}
